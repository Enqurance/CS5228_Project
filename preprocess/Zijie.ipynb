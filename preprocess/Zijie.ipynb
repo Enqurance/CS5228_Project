{
 "cells": [
  {
   "cell_type": "markdown",
   "source": [
    "# General view"
   ],
   "metadata": {
    "collapsed": false
   },
   "id": "281043b9d77a0916"
  },
  {
   "cell_type": "code",
   "outputs": [
    {
     "name": "stdout",
     "output_type": "stream",
     "text": [
      "There are 23771 data points, each with 32 attributes.\n"
     ]
    }
   ],
   "source": [
    "import pandas as pd\n",
    "\n",
    "output_file = '../data/train_preprocessed.csv'\n",
    "df = pd.read_csv(output_file)\n",
    "\n",
    "num_records, num_attributes = df.shape\n",
    "print('There are {} data points, each with {} attributes.'. format(num_records, num_attributes))"
   ],
   "metadata": {
    "collapsed": false,
    "ExecuteTime": {
     "end_time": "2024-09-24T09:49:06.280962Z",
     "start_time": "2024-09-24T09:49:06.242234Z"
    }
   },
   "id": "ff601e9bc6060ba4",
   "execution_count": 4
  },
  {
   "cell_type": "code",
   "outputs": [
    {
     "name": "stdout",
     "output_type": "stream",
     "text": [
      "price                      1.000000\n",
      "dereg_value                0.929121\n",
      "arf                        0.902863\n",
      "omv                        0.835541\n",
      "depreciation               0.815336\n",
      "power                      0.661089\n",
      "rare & exotic              0.628359\n",
      "engine_cap                 0.449354\n",
      "road_tax                   0.401103\n",
      "coe                        0.350068\n",
      "low mileage car            0.284236\n",
      "reg_year                   0.249061\n",
      "manufactured               0.231297\n",
      "almost new car             0.128031\n",
      "hybrid cars                0.118942\n",
      "parf car                   0.112617\n",
      "electric cars              0.084160\n",
      "type_of_vehicle            0.071003\n",
      "imported used vehicle      0.038086\n",
      "direct owner sale          0.009827\n",
      "consignment car            0.009329\n",
      "sta evaluated car          0.004582\n",
      "vintage cars              -0.001547\n",
      "opc car                   -0.026069\n",
      "premium ad car            -0.029617\n",
      "sgcarmart warranty cars   -0.042705\n",
      "model                     -0.047041\n",
      "transmission              -0.064033\n",
      "make                      -0.064345\n",
      "coe car                   -0.068933\n",
      "no_of_owners              -0.077899\n",
      "mileage                   -0.335997\n",
      "Name: price, dtype: float64\n"
     ]
    }
   ],
   "source": [
    "correlation_matrix = df.corr()\n",
    "target_correlation = correlation_matrix['price'].sort_values(ascending=False)\n",
    "print(target_correlation)"
   ],
   "metadata": {
    "collapsed": false,
    "ExecuteTime": {
     "end_time": "2024-09-24T09:49:06.875025Z",
     "start_time": "2024-09-24T09:49:06.828161Z"
    }
   },
   "id": "634a556d8452f0a",
   "execution_count": 5
  },
  {
   "cell_type": "markdown",
   "source": [
    "### omv\n",
    "-- Handling missing value: since there are only few data points with missing values here, we directly drop those columns.\n",
    "-- Handling outliers: we apply 3-sigma law here to remove outliers."
   ],
   "metadata": {
    "collapsed": false
   },
   "id": "b0bbfed2387750ca"
  },
  {
   "cell_type": "code",
   "outputs": [],
   "source": [],
   "metadata": {
    "collapsed": false
   },
   "id": "dde57e690dd42af7"
  }
 ],
 "metadata": {
  "kernelspec": {
   "display_name": "Python 3",
   "language": "python",
   "name": "python3"
  },
  "language_info": {
   "codemirror_mode": {
    "name": "ipython",
    "version": 2
   },
   "file_extension": ".py",
   "mimetype": "text/x-python",
   "name": "python",
   "nbconvert_exporter": "python",
   "pygments_lexer": "ipython2",
   "version": "2.7.6"
  }
 },
 "nbformat": 4,
 "nbformat_minor": 5
}
