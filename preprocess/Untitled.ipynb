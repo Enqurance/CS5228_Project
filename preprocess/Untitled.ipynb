{
 "cells": [
  {
   "cell_type": "code",
   "execution_count": 3,
   "id": "0ed155e5",
   "metadata": {},
   "outputs": [
    {
     "name": "stdout",
     "output_type": "stream",
     "text": [
      "There are 25000 df points, each with 8 attributes.\n"
     ]
    }
   ],
   "source": [
    "import pandas as pd\n",
    "import matplotlib.pyplot as plt\n",
    "\n",
    "# Load file into pandas dfframe, we saved our preprocessed file at path 'output_file'\n",
    "output_file = '../data/train.csv'\n",
    "df = pd.read_csv(output_file)\n",
    "\n",
    "columns_to_keep = [\n",
    "    'make',\n",
    "    'title',\n",
    "    'model',\n",
    "    'manufactured',\n",
    "    'type_of_vehicle',\n",
    "    'omv',\n",
    "    'arf',\n",
    "    'price',\n",
    "]\n",
    "\n",
    "df = df[columns_to_keep]\n",
    "num_records, num_attributes = df.shape\n",
    "print('There are {} df points, each with {} attributes.'. format(num_records, num_attributes))"
   ]
  },
  {
   "cell_type": "code",
   "execution_count": null,
   "id": "fef26a55",
   "metadata": {},
   "outputs": [],
   "source": []
  }
 ],
 "metadata": {
  "kernelspec": {
   "display_name": "Python 3 (ipykernel)",
   "language": "python",
   "name": "python3"
  },
  "language_info": {
   "codemirror_mode": {
    "name": "ipython",
    "version": 3
   },
   "file_extension": ".py",
   "mimetype": "text/x-python",
   "name": "python",
   "nbconvert_exporter": "python",
   "pygments_lexer": "ipython3",
   "version": "3.9.18"
  }
 },
 "nbformat": 4,
 "nbformat_minor": 5
}
