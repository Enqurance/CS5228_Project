{
 "cells": [
  {
   "cell_type": "markdown",
   "metadata": {},
   "source": [
    "# Exploratory Data Analysis (EDA)\n"
   ]
  },
  {
   "cell_type": "markdown",
   "metadata": {},
   "source": [
    "## Understanding the attributes\n",
    "- listing_id - the unique id for the listing of a used car\n",
    "  - ID in the URL: https://www.sgcarmart.com/used_cars/info.php?ID=1292132\n",
    "- title - title of the listing; free text attribute typically containing the **make, model, engine type/size**\n",
    "- make - make/brand of the car\n",
    "- model - model of the car (for the given make/brand)\n",
    "- description - title of the listing; free text attribute\n",
    "  - typo: not the title of the listing, it is the random text description \n",
    "- manufactured - Year the car was manufactured\n",
    "- original_reg_date - Original registration data; date format string\n",
    "  - Date of the car first registered in Singapore or other countries\n",
    "- reg_date - Registration data; date format string\n",
    "  - Registration day of the existing COE (COE valid for 10 years)\n",
    "- type_of_vehicle - Type of vehicle (e.g., \"sports car\", \"luxury sedan\")\n",
    "- category - Category of the car; list of categories, **comma-separated**\n",
    "- transmission - Type of transmission (\"auto\" or \"manual\")\n",
    "- curb_weight - Weight in kg of the vehicle without any passenger or items\n",
    "- power - Power of engine in kW\n",
    "- fuel_type - Fuel type (e.g, \"petrol\", \"diesel\", \"electric\")\n",
    "- engine_cap - Displacement of engine in cc (cubic centimeter)\n",
    "  - 发动机排气量\n",
    "- no_of_owners - Number of previous owners (>=1 since all cars are used)\n",
    "- depreciation - Annual depreciation in SGD is the amount the owner loses on the value of the vehicle per year based on the assumption that the vehicle is deregistered only at the end of its 10-yr COE life-span\n",
    "  - e.g. 40K car, depreciation is about 4K/year\n",
    "- coe - Certificate of entitlement value in SGD when first registered\n",
    "  - original value of the COE when first registered\n",
    "- road_tax - Road tax value in SGD calculated based on the engine capacity on a per annum basis\n",
    "- dereg_value - deregistration value in SGD one will get back from the government upon deregistering the vehicle for use in Singapore\n",
    "  - Amount received from government after 10 years COE if deregistered\n",
    "- mileage - Number of kilometers driven\n",
    "- omv - Open Market Value in SGD assessed by the Singapore Customs\n",
    "  - estimated car value (without COE, ARF)\n",
    "- arf - Additional Registration Fee in SGD is a tax imposed upon registration of a vehicle\n",
    "  - higher omv leaed to even higher arf\n",
    "- opc_scheme - Off-peak car scheme\n",
    "  - cheap COE, red car plate which can only be used in off-peak hours\n",
    "- lifespan - Date stated on the lifespan marks the day that the vehicle must be deregistered\n",
    "  - seems only applicable to truck/ van/ bus etc\n",
    "- eco_category - Eco category of vehicle\n",
    "- features - Noteworthy features; free text attribute\n",
    "- accessories - Noteworthy accessories ; free text attribute\n",
    "- indicative_price - General guide to the price in SGD of the vehicle\n",
    "- price - Resale price in SGD of the car"
   ]
  },
  {
   "cell_type": "markdown",
   "metadata": {},
   "source": [
    "## Categorical attributes\n",
    "* id: \n",
    "  * listing_id: to remove\n",
    "* Free text: \n",
    "  * title (7.3k), description (20k), features (17k), accessories (17k): consider to remove, many attribute values across 25K train data\n",
    "* Categories: \n",
    "  * **make** (96): NaN\n",
    "  * **model** (799)\n",
    "  * type_of_vehicle (11)\n",
    "  * **category** (245): NaN (-), should reprocess common-seperated values. category like \"parf car\" affect the dereg_value\n",
    "  * transmission (2)\n",
    "  * fuel_type (6): NaN\n",
    "  * opc_scheme (4): NaN values are valid, it means not on OPC scheme. affect COE value.\n",
    "  * eco_category (1): to remove, every rows with value \"uncategorized\"\n",
    "* Datetime: \n",
    "  * **manufactured** (72): NaN\n",
    "  * original_reg_date (220): NaN values are valid, meaning it's only have 1 owner. However for some data with more than 6 owners, it can be NaN as well, which is not valid.\n",
    "  * reg_date (4.7K): consider to reduce the attribute values by converting to year, month, day; some date are very old which is suspicious\n",
    "  * lifespan (1.5K): NaN values are valid, because it only applies to truck/ van/ bus etc"
   ]
  },
  {
   "cell_type": "markdown",
   "metadata": {},
   "source": [
    "## Numerical attributes\n",
    "* car properties: \n",
    "  * curb_weight (974): NaN, feels like no impact to price\n",
    "  * power (312): NaN\n",
    "  * engine_cap (381): NaN, 0, duplicated to power?\n",
    "  * **mileage** (6.5K): NaN\n",
    "  * **no_of_owners** (7): NaN means invalid, no_of_owners should be bigger than 0\n",
    "* price: \n",
    "  * depreciation (3.9K): NaN\n",
    "  * **coe** (2.6K)\n",
    "  * road_tax (610): NaN; not a super big factor to price. But if the road tax is high, the real price might be lower than estimated price\n",
    "  * dereg_value (19K): NaN; dereg_value is used to calculate depreciation\n",
    "  * **omv** (14K): NaN\n",
    "  * **arf** (14K): NaN\n",
    "  * indicative_price: all are NaN, to remove\n",
    "  * price (3.4K)\n",
    "    * estimated price = (coe+omv+arf) - depreciation*used_coe_duration"
   ]
  }
 ],
 "metadata": {
  "language_info": {
   "name": "python"
  }
 },
 "nbformat": 4,
 "nbformat_minor": 2
}
