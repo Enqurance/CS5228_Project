{
 "cells": [
  {
   "cell_type": "markdown",
   "id": "9139239be4d3d26a",
   "metadata": {},
   "source": [
    "<img src='images/img.png' />"
   ]
  },
  {
   "cell_type": "markdown",
   "id": "28a5ce1aa953b915",
   "metadata": {},
   "source": [
    "# CS5228 Project, Group 32"
   ]
  },
  {
   "cell_type": "markdown",
   "id": "f7f32f076115be79",
   "metadata": {},
   "source": [
    "## Data Preprocessing\n",
    "In this part, we are going to perform some data preprocessing steps. This may include:\n",
    "* Data cleaning: handle missing values, duplicates, inconsistant or invalid vallues, outliers\n",
    "\n",
    "* Data reduction: reduce number of attributes, reduce number of attribute values\n",
    "\n",
    "* Data transformation: attribute construction, normalization\n",
    "\n",
    "* Data discretization: encode to numerical attributes"
   ]
  },
  {
   "cell_type": "markdown",
   "id": "773fb74f",
   "metadata": {},
   "source": [
    "### Setting up the Notebook"
   ]
  },
  {
   "cell_type": "code",
   "execution_count": 1,
   "id": "5a8c6d3e9adfc751",
   "metadata": {},
   "outputs": [],
   "source": [
    "import os\n",
    "import pandas as pd\n",
    "from sklearn.preprocessing import LabelEncoder\n",
    "from sklearn.preprocessing import MultiLabelBinarizer\n",
    "from tqdm import tqdm\n",
    "import seaborn as sns\n",
    "import matplotlib.pyplot as plt"
   ]
  },
  {
   "cell_type": "code",
   "execution_count": 2,
   "id": "a084ae15",
   "metadata": {},
   "outputs": [
    {
     "name": "stdout",
     "output_type": "stream",
     "text": [
      "There are 25000 data points, each with 30 attributes.\n"
     ]
    }
   ],
   "source": [
    "# Load file into pandas dataframe\n",
    "df = pd.read_csv('./data/train.csv')\n",
    "\n",
    "num_records, num_attributes = df.shape\n",
    "\n",
    "print('There are {} data points, each with {} attributes.'. format(num_records, num_attributes))"
   ]
  },
  {
   "cell_type": "markdown",
   "id": "4fd41045",
   "metadata": {},
   "source": [
    "### Data Cleaning"
   ]
  },
  {
   "cell_type": "markdown",
   "id": "389b04ed",
   "metadata": {},
   "source": [
    "Before data cleaning, remove the known attributes that are not meaningful to our prediction model:\n",
    "  * Meaningless idendifier: listing_id \n",
    "  * Attributes in free text: title, description, features, accessories\n",
    "  * Attribute with the same value: eco_category, indicative_price\n",
    "  * Attribute unlikely to affect price: curb_weight"
   ]
  },
  {
   "cell_type": "code",
   "execution_count": 3,
   "id": "c02d46d7",
   "metadata": {},
   "outputs": [
    {
     "name": "stdout",
     "output_type": "stream",
     "text": [
      "There are 25000 data points, each with 20 attributes.\n"
     ]
    }
   ],
   "source": [
    "columns_to_drop = [\n",
    "    'listing_id',          # Meaningless identifier\n",
    "    'title',               # Attributes in free text\n",
    "    # 'category',\n",
    "    'description',\n",
    "    'features',\n",
    "    'accessories',\n",
    "    'eco_category',        # Attribute with the same value\n",
    "    'indicative_price',\n",
    "    'curb_weight',         # Attribute unlikely to affect price\n",
    "\n",
    "    'original_reg_date',\n",
    "    'lifespan',\n",
    "]\n",
    "\n",
    "df = df.drop(columns=columns_to_drop)\n",
    "\n",
    "num_records, num_attributes = df.shape\n",
    "\n",
    "print('There are {} data points, each with {} attributes.'. format(num_records, num_attributes))"
   ]
  },
  {
   "cell_type": "markdown",
   "id": "dde0aaf8",
   "metadata": {},
   "source": [
    "### Handle Missing Values\n",
    "Firstly, for each of the columns with missing value, check the number of rows with NaN values.\n",
    "There are 3 scenarios:\n",
    "1. NaN value is the major (e.g. fuel_type has 19121 rows with NaN values), we remove the corresponding attritubes.\n",
    "2. NaN value is the minor. We can choose to fill or delete related data points. "
   ]
  },
  {
   "cell_type": "code",
   "execution_count": 4,
   "id": "834807be",
   "metadata": {},
   "outputs": [
    {
     "name": "stdout",
     "output_type": "stream",
     "text": [
      "Column \"make\" has 1316 rows with NaN values.\n",
      "Column \"fuel_type\" has 19121 rows with NaN values.\n",
      "Column \"manufactured\" has 7 rows with NaN values.\n",
      "Column \"power\" has 2640 rows with NaN values.\n",
      "Column \"engine_cap\" has 596 rows with NaN values.\n",
      "Column \"mileage\" has 5304 rows with NaN values.\n",
      "Column \"no_of_owners\" has 18 rows with NaN values.\n",
      "Column \"depreciation\" has 507 rows with NaN values.\n",
      "Column \"road_tax\" has 2632 rows with NaN values.\n",
      "Column \"dereg_value\" has 220 rows with NaN values.\n",
      "Column \"omv\" has 64 rows with NaN values.\n",
      "Column \"arf\" has 174 rows with NaN values.\n",
      "Column \"opc_scheme\" has 24838 rows with NaN values.\n"
     ]
    }
   ],
   "source": [
    "columns_to_check = [\n",
    "    'make',\n",
    "    'fuel_type',\n",
    "    'manufactured',\n",
    "    'power',\n",
    "    'engine_cap',\n",
    "    'mileage',\n",
    "    'no_of_owners',\n",
    "    'depreciation',\n",
    "    'road_tax',\n",
    "    'dereg_value',\n",
    "    'omv',\n",
    "    'arf',\n",
    "    'opc_scheme'\n",
    "]\n",
    "\n",
    "# Calculate the number of NaN values in each specified column\n",
    "nan_counts = df[columns_to_check].isna().sum()\n",
    "\n",
    "# Print the number of NaN values for each column\n",
    "for column, count in nan_counts.items():\n",
    "    print(f'Column \"{column}\" has {count} rows with NaN values.')"
   ]
  },
  {
   "cell_type": "markdown",
   "id": "116b0e50",
   "metadata": {},
   "source": [
    "We delete attributes with TOO many NaN value here."
   ]
  },
  {
   "cell_type": "code",
   "execution_count": 5,
   "id": "da6b4bc0",
   "metadata": {},
   "outputs": [],
   "source": [
    "columns_to_drop_nan = [\n",
    "    'fuel_type',\n",
    "    'opc_scheme'\n",
    "]\n",
    "\n",
    "df = df.drop(columns=columns_to_drop_nan)"
   ]
  },
  {
   "cell_type": "markdown",
   "id": "7ea8a0de",
   "metadata": {},
   "source": [
    "Then we try to fill up other missing values."
   ]
  },
  {
   "cell_type": "code",
   "execution_count": 6,
   "id": "dfc6a526",
   "metadata": {},
   "outputs": [
    {
     "name": "stdout",
     "output_type": "stream",
     "text": [
      "NaN values after handling:  0\n"
     ]
    }
   ],
   "source": [
    "from util.DataPreprocess import HandlingMissingValues\n",
    "\n",
    "df = HandlingMissingValues(df)"
   ]
  },
  {
   "cell_type": "markdown",
   "id": "8eafaf03",
   "metadata": {},
   "source": [
    "### Remove Exact Duplicates\n",
    "We remove duplicated data points here."
   ]
  },
  {
   "cell_type": "code",
   "execution_count": 7,
   "id": "8caa0e9c",
   "metadata": {},
   "outputs": [
    {
     "name": "stdout",
     "output_type": "stream",
     "text": [
      "There are 24258 data points, each with 18 attributes.\n"
     ]
    }
   ],
   "source": [
    "df = df.drop_duplicates()\n",
    "\n",
    "num_records, num_attributes = df.shape\n",
    "\n",
    "print('There are {} data points, each with {} attributes.'. format(num_records, num_attributes))"
   ]
  },
  {
   "cell_type": "markdown",
   "id": "65b8754e",
   "metadata": {},
   "source": [
    "### Transform categorical value to numerical values"
   ]
  },
  {
   "cell_type": "code",
   "execution_count": 8,
   "id": "829f7d64",
   "metadata": {},
   "outputs": [],
   "source": [
    "categorical_columns = [\n",
    "    'make',\n",
    "    'model',\n",
    "    'type_of_vehicle',\n",
    "    'transmission',\n",
    "]\n",
    "\n",
    "le = LabelEncoder()\n",
    "for column in categorical_columns:\n",
    "    df[column] = le.fit_transform(df[column])"
   ]
  },
  {
   "cell_type": "markdown",
   "id": "a273d568",
   "metadata": {},
   "source": [
    "### Transform date time attributes to numerical values"
   ]
  },
  {
   "cell_type": "code",
   "execution_count": 9,
   "id": "f580a7ff",
   "metadata": {},
   "outputs": [
    {
     "name": "stdout",
     "output_type": "stream",
     "text": [
      "There are 24258 data points, each with 18 attributes.\n"
     ]
    }
   ],
   "source": [
    "df['reg_date'] = pd.to_datetime(df['reg_date'], format='%d-%b-%Y')\n",
    "df['reg_year'] = df['reg_date'].dt.year\n",
    "df = df.drop(columns=['reg_date'])\n",
    "\n",
    "num_records, num_attributes = df.shape\n",
    "\n",
    "print('There are {} data points, each with {} attributes.'. format(num_records, num_attributes))"
   ]
  },
  {
   "cell_type": "markdown",
   "id": "4a29cd1d",
   "metadata": {},
   "source": [
    "### Data Encoding"
   ]
  },
  {
   "cell_type": "code",
   "execution_count": 10,
   "id": "a43ae4a5",
   "metadata": {},
   "outputs": [],
   "source": [
    "from util.DataPreprocess import DataEncoding\n",
    "\n",
    "df = DataEncoding(df)"
   ]
  },
  {
   "cell_type": "markdown",
   "id": "ba08d320-7cc0-412a-bbb4-e6a8b3cdd8c7",
   "metadata": {},
   "source": [
    "### Outliers removal"
   ]
  },
  {
   "cell_type": "code",
   "execution_count": 11,
   "id": "edefeb5b-7b04-4713-9dd7-4b1cd1b59bb3",
   "metadata": {
    "scrolled": true
   },
   "outputs": [
    {
     "ename": "TypeError",
     "evalue": "OutlierRemoval() missing 2 required positional arguments: 'group_column' and 'target_column'",
     "output_type": "error",
     "traceback": [
      "\u001b[0;31m---------------------------------------------------------------------------\u001b[0m",
      "\u001b[0;31mTypeError\u001b[0m                                 Traceback (most recent call last)",
      "Cell \u001b[0;32mIn[11], line 2\u001b[0m\n\u001b[1;32m      1\u001b[0m \u001b[38;5;28;01mfrom\u001b[39;00m \u001b[38;5;21;01mutil\u001b[39;00m\u001b[38;5;21;01m.\u001b[39;00m\u001b[38;5;21;01mDataPreprocess\u001b[39;00m \u001b[38;5;28;01mimport\u001b[39;00m OutlierRemoval\n\u001b[0;32m----> 2\u001b[0m df \u001b[38;5;241m=\u001b[39m \u001b[43mOutlierRemoval\u001b[49m\u001b[43m(\u001b[49m\u001b[43mdf\u001b[49m\u001b[43m)\u001b[49m\n",
      "\u001b[0;31mTypeError\u001b[0m: OutlierRemoval() missing 2 required positional arguments: 'group_column' and 'target_column'"
     ]
    }
   ],
   "source": [
    "from util.DataPreprocess import OutlierRemoval\n",
    "\n",
    "df = OutlierRemoval(df, 'model', 'price')"
   ]
  },
  {
   "cell_type": "markdown",
   "id": "11789885",
   "metadata": {},
   "source": [
    "### Saving the Data"
   ]
  },
  {
   "cell_type": "code",
   "execution_count": null,
   "id": "10b15971",
   "metadata": {},
   "outputs": [],
   "source": [
    "output_file = './data/train_preprocessed.csv'\n",
    "\n",
    "\n",
    "# Check if the file exists\n",
    "if os.path.exists(output_file):\n",
    "    # Delete the file\n",
    "    os.remove(output_file)\n",
    "    print(f'Existing file \"{output_file}\" has been deleted.')\n",
    "\n",
    "# Save the DataFrame to CSV\n",
    "df.to_csv(output_file, index=False)\n",
    "print(f'DataFrame has been saved to \"{output_file}\".')"
   ]
  },
  {
   "cell_type": "markdown",
   "id": "06bc5a63",
   "metadata": {},
   "source": [
    "## Data Mining"
   ]
  },
  {
   "cell_type": "markdown",
   "id": "ad8dbb8b",
   "metadata": {},
   "source": [
    "### We load our preprocessed data first"
   ]
  },
  {
   "cell_type": "code",
   "execution_count": null,
   "id": "b09a1df4",
   "metadata": {},
   "outputs": [],
   "source": [
    "# Load file into pandas dataframe, we saved our preprocessed file at path 'output_file'\n",
    "output_file = './data/train_preprocessed.csv'\n",
    "df = pd.read_csv(output_file)\n",
    "\n",
    "\n",
    "columns_to_keep = [\n",
    "    'manufactured',\n",
    "    'reg_year',\n",
    "    'make',\n",
    "    'model',\n",
    "    'dereg_value',\n",
    "    'depreciation',\n",
    "    'power',\n",
    "    'coe',\n",
    "    'arf',\n",
    "    'omv',\n",
    "    'road_tax'\n",
    "    'price',\n",
    "]\n",
    "\n",
    "df = df[columns_to_keep]\n",
    "num_records, num_attributes = df.shape\n",
    "print('There are {} data points, each with {} attributes.'. format(num_records, num_attributes))"
   ]
  },
  {
   "cell_type": "markdown",
   "id": "e4c0ff14-54f2-4413-9a73-3f47eed760da",
   "metadata": {},
   "source": [
    "### Mining code here"
   ]
  },
  {
   "cell_type": "code",
   "execution_count": null,
   "id": "20ef04f5-90c1-429e-88d7-2b595357f7ec",
   "metadata": {},
   "outputs": [],
   "source": [
    "from util.DataMining import split_dataframe, split_dataframe_flex\n",
    "from util.DataMining import (\n",
    "    RandomForestMining,\n",
    "    RandomForestMiningByModel,\n",
    "    GradientBoostingMining,\n",
    "    LinearRegressionMining,\n",
    "    LinearRegressionMiningByModel,\n",
    ")"
   ]
  },
  {
   "cell_type": "code",
   "execution_count": null,
   "id": "4ff6e47a-683c-4ccf-b083-4e47fc1eca2e",
   "metadata": {
    "scrolled": true
   },
   "outputs": [],
   "source": [
    "# # Linear regression mining using dereg_val\n",
    "# run_times, rmse_sum = 10, 0\n",
    "# for i in tqdm(range(run_times), desc='Running Linear Regression'):\n",
    "#     target_col = 'price'\n",
    "#     x_train, x_test, y_train, y_test = split_dataframe(df[df['model'] == 601], train_drop_cols, test_col)\n",
    "#     rmse_sum += LinearRegressionMiningByModel(x_train, x_test, y_train, y_test)\n",
    "# print('Average RMSE:', round(rmse_sum / run_times))"
   ]
  },
  {
   "cell_type": "code",
   "execution_count": null,
   "id": "8b5ca461-6291-48a6-a99c-efa0f509ed5c",
   "metadata": {},
   "outputs": [],
   "source": [
    "# Linear regression mining using dereg_val\n",
    "run_times, rmse_sum = 10, 0\n",
    "for i in tqdm(range(run_times), desc='Running Linear Regression'):\n",
    "    train_drop_cols = ['make', 'dereg_value','depreciation', 'power', 'coe', 'arf', 'omv']\n",
    "    test_col = ['price', 'model']\n",
    "    x_train, x_test, y_train, y_test = split_dataframe_flex(df, train_drop_cols, test_col)\n",
    "    rmse_sum += LinearRegressionMiningByModel(x_train, x_test, y_train, dev)\n",
    "print('Average RMSE:', round(rmse_sum / run_times))"
   ]
  },
  {
   "cell_type": "code",
   "execution_count": null,
   "id": "9ec6736e-8539-4dcd-9f6a-1817e357ad91",
   "metadata": {},
   "outputs": [],
   "source": [
    "run_times, rmse_sum = 10, 0\n",
    "for i in tqdm(range(run_times), desc='Running Random Forest'):\n",
    "    target_col = 'price'\n",
    "    x_train, x_test, y_train, y_test = split_dataframe(df, target_col)\n",
    "    rmse_sum += RandomForestMining(x_train, x_test, y_train, y_test)\n",
    "print('Average RMSE:', round(rmse_sum / run_times))"
   ]
  },
  {
   "cell_type": "code",
   "execution_count": null,
   "id": "fdd41f74-1d11-402c-8452-78119b9636df",
   "metadata": {},
   "outputs": [],
   "source": []
  }
 ],
 "metadata": {
  "kernelspec": {
   "display_name": "Python 3 (ipykernel)",
   "language": "python",
   "name": "python3"
  },
  "language_info": {
   "codemirror_mode": {
    "name": "ipython",
    "version": 3
   },
   "file_extension": ".py",
   "mimetype": "text/x-python",
   "name": "python",
   "nbconvert_exporter": "python",
   "pygments_lexer": "ipython3",
   "version": "3.10.14"
  }
 },
 "nbformat": 4,
 "nbformat_minor": 5
}
