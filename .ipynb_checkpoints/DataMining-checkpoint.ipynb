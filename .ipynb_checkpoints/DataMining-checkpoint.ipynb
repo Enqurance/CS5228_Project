{
 "cells": [
  {
   "cell_type": "markdown",
   "id": "9139239be4d3d26a",
   "metadata": {},
   "source": [
    "<img src=\"images/img.png\" />"
   ]
  },
  {
   "cell_type": "markdown",
   "id": "28a5ce1aa953b915",
   "metadata": {},
   "source": [
    "# CS5228 Project, Group 32"
   ]
  },
  {
   "cell_type": "code",
   "execution_count": 19,
   "id": "5287322f-3943-4058-8448-970302c9ff79",
   "metadata": {},
   "outputs": [
    {
     "name": "stdout",
     "output_type": "stream",
     "text": [
      "The autoreload extension is already loaded. To reload it, use:\n",
      "  %reload_ext autoreload\n"
     ]
    }
   ],
   "source": [
    "# Auto reload\n",
    "%load_ext autoreload\n",
    "%autoreload 2"
   ]
  },
  {
   "cell_type": "code",
   "execution_count": 20,
   "id": "1e21c02e",
   "metadata": {},
   "outputs": [],
   "source": [
    "import os\n",
    "import json\n",
    "import pandas as pd\n",
    "from sklearn.preprocessing import LabelEncoder\n",
    "from sklearn.preprocessing import MultiLabelBinarizer\n",
    "from tqdm import tqdm\n",
    "import seaborn as sns\n",
    "import matplotlib.pyplot as plt"
   ]
  },
  {
   "cell_type": "code",
   "execution_count": 21,
   "id": "4c22a91f-729c-4a22-a443-0f05af43f099",
   "metadata": {},
   "outputs": [],
   "source": [
    "from util.DataMining import split_dataframe, split_dataframe_flex\n",
    "from util.DataMining import (\n",
    "    RandomForestMining,\n",
    "    RandomForestMiningByModel,\n",
    "    GradientBoostingMining,\n",
    "    GradientBoostingMiningByModel,\n",
    "    XGBoostMining,\n",
    "    XGBoostMiningByMake,\n",
    "    LinearRegressionMining,\n",
    "    LinearRegressionMiningByModel,\n",
    ")\n",
    "\n",
    "from sklearn.model_selection import GridSearchCV\n",
    "from sklearn.ensemble import RandomForestClassifier"
   ]
  },
  {
   "cell_type": "markdown",
   "id": "c681594f-3de4-4511-8154-437e10dee1b6",
   "metadata": {},
   "source": [
    "## Code cells for data mining code here"
   ]
  },
  {
   "cell_type": "code",
   "execution_count": 22,
   "id": "a72bb88a",
   "metadata": {},
   "outputs": [],
   "source": [
    "train_file = './data/train_preprocessed_impute.csv'\n",
    "test_file = './data/test_preprocessed.csv'\n",
    "\n",
    "df = pd.read_csv(train_file)\n",
    "df_test = pd.read_csv(test_file)"
   ]
  },
  {
   "cell_type": "code",
   "execution_count": 29,
   "id": "b2e17e4e",
   "metadata": {
    "scrolled": true
   },
   "outputs": [
    {
     "name": "stderr",
     "output_type": "stream",
     "text": [
      "Running XGBoost:  20%|████████████████████████████▏                                                                                                                | 1/5 [00:02<00:11,  2.93s/it]"
     ]
    },
    {
     "name": "stdout",
     "output_type": "stream",
     "text": [
      "Running not in develop mode\n",
      "RMSE on test data: 27469.273476989052\n"
     ]
    },
    {
     "name": "stderr",
     "output_type": "stream",
     "text": [
      "\r",
      "Running XGBoost:  40%|████████████████████████████████████████████████████████▍                                                                                    | 2/5 [00:05<00:08,  2.90s/it]"
     ]
    },
    {
     "name": "stdout",
     "output_type": "stream",
     "text": [
      "Running not in develop mode\n",
      "RMSE on test data: 26948.741732075796\n"
     ]
    },
    {
     "name": "stderr",
     "output_type": "stream",
     "text": [
      "\r",
      "Running XGBoost:  60%|████████████████████████████████████████████████████████████████████████████████████▌                                                        | 3/5 [00:08<00:05,  2.83s/it]"
     ]
    },
    {
     "name": "stdout",
     "output_type": "stream",
     "text": [
      "Running not in develop mode\n",
      "RMSE on test data: 27270.301141901928\n"
     ]
    },
    {
     "name": "stderr",
     "output_type": "stream",
     "text": [
      "\r",
      "Running XGBoost:  80%|████████████████████████████████████████████████████████████████████████████████████████████████████████████████▊                            | 4/5 [00:11<00:02,  2.90s/it]"
     ]
    },
    {
     "name": "stdout",
     "output_type": "stream",
     "text": [
      "Running not in develop mode\n",
      "RMSE on test data: 27578.688208460844\n"
     ]
    },
    {
     "name": "stderr",
     "output_type": "stream",
     "text": [
      "Running XGBoost: 100%|█████████████████████████████████████████████████████████████████████████████████████████████████████████████████████████████████████████████| 5/5 [00:14<00:00,  2.91s/it]"
     ]
    },
    {
     "name": "stdout",
     "output_type": "stream",
     "text": [
      "Running not in develop mode\n",
      "RMSE on test data: 31582.972926938517\n",
      "Average RMSE: 28170\n"
     ]
    },
    {
     "name": "stderr",
     "output_type": "stream",
     "text": [
      "\n"
     ]
    }
   ],
   "source": [
    "selected_columns = [\n",
    "    'make',\n",
    "    'model',\n",
    "    'type_of_vehicle',\n",
    "    'engine_cap',\n",
    "    'no_of_owners',\n",
    "    'depreciation',\n",
    "    'power',\n",
    "    'road_tax',\n",
    "    'mileage',\n",
    "    'omv_arf_ratio',\n",
    "    'dereg_coe_ratio',\n",
    "    'car_age',\n",
    "    'omv',\n",
    "    'arf',\n",
    "    'price',\n",
    "    'coe car',\n",
    "    'parf car',\n",
    "    'low mileage car'\n",
    "]\n",
    "\n",
    "df_filtered = df[selected_columns]\n",
    "\n",
    "run_times, rmse_sum = 5, 0\n",
    "for i in tqdm(range(run_times), desc='Running XGBoost'):\n",
    "    train_drop_cols = ['price']\n",
    "    x_train, x_test, y_train, y_test = split_dataframe(df_filtered, train_drop_cols)\n",
    "    rmse_sum += XGBoostMining(x_train, x_test, y_train, y_test)\n",
    "print('Average RMSE:', round(rmse_sum / run_times))"
   ]
  },
  {
   "cell_type": "code",
   "execution_count": 27,
   "id": "f43a1f58",
   "metadata": {
    "scrolled": true
   },
   "outputs": [
    {
     "data": {
      "text/html": [
       "<div>\n",
       "<style scoped>\n",
       "    .dataframe tbody tr th:only-of-type {\n",
       "        vertical-align: middle;\n",
       "    }\n",
       "\n",
       "    .dataframe tbody tr th {\n",
       "        vertical-align: top;\n",
       "    }\n",
       "\n",
       "    .dataframe thead th {\n",
       "        text-align: right;\n",
       "    }\n",
       "</style>\n",
       "<table border=\"1\" class=\"dataframe\">\n",
       "  <thead>\n",
       "    <tr style=\"text-align: right;\">\n",
       "      <th></th>\n",
       "      <th>make</th>\n",
       "      <th>model</th>\n",
       "      <th>type_of_vehicle</th>\n",
       "      <th>engine_cap</th>\n",
       "      <th>no_of_owners</th>\n",
       "      <th>depreciation</th>\n",
       "      <th>power</th>\n",
       "      <th>road_tax</th>\n",
       "      <th>mileage</th>\n",
       "      <th>car_age</th>\n",
       "      <th>omv</th>\n",
       "      <th>arf</th>\n",
       "      <th>coe car</th>\n",
       "      <th>parf car</th>\n",
       "    </tr>\n",
       "  </thead>\n",
       "  <tbody>\n",
       "    <tr>\n",
       "      <th>15346</th>\n",
       "      <td>58.0</td>\n",
       "      <td>471.0</td>\n",
       "      <td>1.0</td>\n",
       "      <td>2076.496656</td>\n",
       "      <td>1.0</td>\n",
       "      <td>15670.0</td>\n",
       "      <td>110.0</td>\n",
       "      <td>1560.000000</td>\n",
       "      <td>25000.0</td>\n",
       "      <td>1.0</td>\n",
       "      <td>38109.0</td>\n",
       "      <td>353.0</td>\n",
       "      <td>0.0</td>\n",
       "      <td>1.0</td>\n",
       "    </tr>\n",
       "    <tr>\n",
       "      <th>1211</th>\n",
       "      <td>49.0</td>\n",
       "      <td>14.0</td>\n",
       "      <td>2.0</td>\n",
       "      <td>2488.000000</td>\n",
       "      <td>4.0</td>\n",
       "      <td>16130.0</td>\n",
       "      <td>141.0</td>\n",
       "      <td>1786.000000</td>\n",
       "      <td>126000.0</td>\n",
       "      <td>9.0</td>\n",
       "      <td>24320.0</td>\n",
       "      <td>26048.0</td>\n",
       "      <td>0.0</td>\n",
       "      <td>1.0</td>\n",
       "    </tr>\n",
       "    <tr>\n",
       "      <th>7728</th>\n",
       "      <td>44.0</td>\n",
       "      <td>544.0</td>\n",
       "      <td>8.0</td>\n",
       "      <td>2960.000000</td>\n",
       "      <td>2.0</td>\n",
       "      <td>23030.0</td>\n",
       "      <td>147.0</td>\n",
       "      <td>2340.000000</td>\n",
       "      <td>103000.0</td>\n",
       "      <td>5.0</td>\n",
       "      <td>48408.0</td>\n",
       "      <td>59772.0</td>\n",
       "      <td>0.0</td>\n",
       "      <td>1.0</td>\n",
       "    </tr>\n",
       "    <tr>\n",
       "      <th>5361</th>\n",
       "      <td>58.0</td>\n",
       "      <td>542.0</td>\n",
       "      <td>10.0</td>\n",
       "      <td>1597.000000</td>\n",
       "      <td>3.0</td>\n",
       "      <td>9320.0</td>\n",
       "      <td>105.0</td>\n",
       "      <td>1064.169552</td>\n",
       "      <td>51082.0</td>\n",
       "      <td>3.0</td>\n",
       "      <td>22646.0</td>\n",
       "      <td>1133.0</td>\n",
       "      <td>0.0</td>\n",
       "      <td>0.0</td>\n",
       "    </tr>\n",
       "    <tr>\n",
       "      <th>7107</th>\n",
       "      <td>51.0</td>\n",
       "      <td>661.0</td>\n",
       "      <td>6.0</td>\n",
       "      <td>3498.000000</td>\n",
       "      <td>3.0</td>\n",
       "      <td>24950.0</td>\n",
       "      <td>225.0</td>\n",
       "      <td>3797.000000</td>\n",
       "      <td>61300.0</td>\n",
       "      <td>12.0</td>\n",
       "      <td>126790.0</td>\n",
       "      <td>126790.0</td>\n",
       "      <td>1.0</td>\n",
       "      <td>0.0</td>\n",
       "    </tr>\n",
       "  </tbody>\n",
       "</table>\n",
       "</div>"
      ],
      "text/plain": [
       "       make  model  type_of_vehicle   engine_cap  no_of_owners  depreciation  \\\n",
       "15346  58.0  471.0              1.0  2076.496656           1.0       15670.0   \n",
       "1211   49.0   14.0              2.0  2488.000000           4.0       16130.0   \n",
       "7728   44.0  544.0              8.0  2960.000000           2.0       23030.0   \n",
       "5361   58.0  542.0             10.0  1597.000000           3.0        9320.0   \n",
       "7107   51.0  661.0              6.0  3498.000000           3.0       24950.0   \n",
       "\n",
       "       power     road_tax   mileage  car_age       omv       arf  coe car  \\\n",
       "15346  110.0  1560.000000   25000.0      1.0   38109.0     353.0      0.0   \n",
       "1211   141.0  1786.000000  126000.0      9.0   24320.0   26048.0      0.0   \n",
       "7728   147.0  2340.000000  103000.0      5.0   48408.0   59772.0      0.0   \n",
       "5361   105.0  1064.169552   51082.0      3.0   22646.0    1133.0      0.0   \n",
       "7107   225.0  3797.000000   61300.0     12.0  126790.0  126790.0      1.0   \n",
       "\n",
       "       parf car  \n",
       "15346       1.0  \n",
       "1211        1.0  \n",
       "7728        1.0  \n",
       "5361        0.0  \n",
       "7107        0.0  "
      ]
     },
     "execution_count": 27,
     "metadata": {},
     "output_type": "execute_result"
    }
   ],
   "source": [
    "x_train.head()"
   ]
  },
  {
   "cell_type": "code",
   "execution_count": 28,
   "id": "f5716ffc-b01c-4851-b397-e498964f3afa",
   "metadata": {},
   "outputs": [],
   "source": [
    "df_selected = df[selected_columns]\n",
    "\n",
    "x_train, y_train = df_selected.drop(columns=['price']), df[['price']]\n",
    "x_test = df_test[x_train.columns]\n",
    "\n",
    "res_nomodel = XGBoostMining(x_train, x_test, y_train, dev=True)\n",
    "res_nomodel.reset_index(inplace=True)\n",
    "res_nomodel.rename(columns={'index': 'Id'}, inplace=True)\n",
    "res_nomodel.to_csv('./data/xgb_result.csv', index=False)"
   ]
  },
  {
   "cell_type": "markdown",
   "id": "4229aeee-e40d-4332-aab2-82beceb910a1",
   "metadata": {},
   "source": [
    "### This cell do prediction model by model"
   ]
  },
  {
   "cell_type": "markdown",
   "id": "a724fe5c",
   "metadata": {},
   "source": [
    "Validation cell"
   ]
  },
  {
   "cell_type": "code",
   "execution_count": 212,
   "id": "02f192a0",
   "metadata": {},
   "outputs": [
    {
     "name": "stderr",
     "output_type": "stream",
     "text": [
      "Running XGBoost:   0%|                                                                                                                                                     | 0/5 [00:00<?, ?it/s]/Users/enqurance/Desktop/NUS/Sem1_AY2024-2025/CS5228/Projects/CS5228_Project/util/DataMining.py:168: FutureWarning: The behavior of DataFrame concatenation with empty or all-NA entries is deprecated. In a future version, this will no longer exclude empty or all-NA columns when determining the result dtypes. To retain the old behavior, exclude the relevant entries before the concat operation.\n",
      "  missing_models = pd.concat([missing_models, row_df])\n",
      "Running XGBoost:  20%|████████████████████████████                                                                                                                | 1/5 [02:23<09:34, 143.58s/it]"
     ]
    },
    {
     "name": "stdout",
     "output_type": "stream",
     "text": [
      "Running not in develop mode\n",
      "RMSE on test data: 86576.02580016718\n"
     ]
    },
    {
     "name": "stderr",
     "output_type": "stream",
     "text": [
      "/Users/enqurance/Desktop/NUS/Sem1_AY2024-2025/CS5228/Projects/CS5228_Project/util/DataMining.py:168: FutureWarning: The behavior of DataFrame concatenation with empty or all-NA entries is deprecated. In a future version, this will no longer exclude empty or all-NA columns when determining the result dtypes. To retain the old behavior, exclude the relevant entries before the concat operation.\n",
      "  missing_models = pd.concat([missing_models, row_df])\n",
      "Running XGBoost:  40%|████████████████████████████████████████████████████████                                                                                    | 2/5 [04:49<07:14, 144.74s/it]"
     ]
    },
    {
     "name": "stdout",
     "output_type": "stream",
     "text": [
      "Running not in develop mode\n",
      "RMSE on test data: 97104.87752028811\n"
     ]
    },
    {
     "name": "stderr",
     "output_type": "stream",
     "text": [
      "/Users/enqurance/Desktop/NUS/Sem1_AY2024-2025/CS5228/Projects/CS5228_Project/util/DataMining.py:168: FutureWarning: The behavior of DataFrame concatenation with empty or all-NA entries is deprecated. In a future version, this will no longer exclude empty or all-NA columns when determining the result dtypes. To retain the old behavior, exclude the relevant entries before the concat operation.\n",
      "  missing_models = pd.concat([missing_models, row_df])\n",
      "Running XGBoost:  60%|████████████████████████████████████████████████████████████████████████████████████                                                        | 3/5 [07:13<04:49, 144.72s/it]"
     ]
    },
    {
     "name": "stdout",
     "output_type": "stream",
     "text": [
      "Running not in develop mode\n",
      "RMSE on test data: 93299.2585681242\n"
     ]
    },
    {
     "name": "stderr",
     "output_type": "stream",
     "text": [
      "/Users/enqurance/Desktop/NUS/Sem1_AY2024-2025/CS5228/Projects/CS5228_Project/util/DataMining.py:168: FutureWarning: The behavior of DataFrame concatenation with empty or all-NA entries is deprecated. In a future version, this will no longer exclude empty or all-NA columns when determining the result dtypes. To retain the old behavior, exclude the relevant entries before the concat operation.\n",
      "  missing_models = pd.concat([missing_models, row_df])\n",
      "Running XGBoost:  80%|████████████████████████████████████████████████████████████████████████████████████████████████████████████████                            | 4/5 [09:33<02:22, 142.90s/it]"
     ]
    },
    {
     "name": "stdout",
     "output_type": "stream",
     "text": [
      "Running not in develop mode\n",
      "RMSE on test data: 92199.50612841758\n"
     ]
    },
    {
     "name": "stderr",
     "output_type": "stream",
     "text": [
      "/Users/enqurance/Desktop/NUS/Sem1_AY2024-2025/CS5228/Projects/CS5228_Project/util/DataMining.py:168: FutureWarning: The behavior of DataFrame concatenation with empty or all-NA entries is deprecated. In a future version, this will no longer exclude empty or all-NA columns when determining the result dtypes. To retain the old behavior, exclude the relevant entries before the concat operation.\n",
      "  missing_models = pd.concat([missing_models, row_df])\n",
      "Running XGBoost: 100%|████████████████████████████████████████████████████████████████████████████████████████████████████████████████████████████████████████████| 5/5 [12:00<00:00, 144.16s/it]"
     ]
    },
    {
     "name": "stdout",
     "output_type": "stream",
     "text": [
      "Running not in develop mode\n",
      "RMSE on test data: 91798.99605347653\n",
      "Average RMSE: 92196\n"
     ]
    },
    {
     "name": "stderr",
     "output_type": "stream",
     "text": [
      "\n"
     ]
    }
   ],
   "source": [
    "run_times, rmse_sum = 5, 0\n",
    "for i in tqdm(range(run_times), desc='Running XGBoost'):\n",
    "    train_drop_cols = ['price']\n",
    "    test_cols = ['price', 'make']\n",
    "    x_train, x_test, y_train, y_test = split_dataframe_flex(df, train_drop_cols, test_cols)\n",
    "    rmse_sum += XGBoostMiningByMake(x_train, x_test, y_train, y_test)\n",
    "print('Average RMSE:', round(rmse_sum / run_times))"
   ]
  },
  {
   "cell_type": "markdown",
   "id": "c406b1e1",
   "metadata": {
    "scrolled": true
   },
   "source": [
    "Prediction on test dataset"
   ]
  },
  {
   "cell_type": "code",
   "execution_count": null,
   "id": "ff01db6a-6244-486e-9871-7bef6ddcdaea",
   "metadata": {
    "scrolled": false
   },
   "outputs": [],
   "source": [
    "x_train, y_train = df.drop(columns=['price']), df[['price', 'make']]\n",
    "x_test = df_test[x_train.columns]\n",
    "res_model =  XGBoostMiningByMake(x_train, x_test, y_train, dev=True)"
   ]
  },
  {
   "cell_type": "code",
   "execution_count": null,
   "id": "8f5365f8",
   "metadata": {},
   "outputs": [],
   "source": [
    "res_model.to_csv('./data/xgb_by_model_result.csv', index=False)"
   ]
  },
  {
   "cell_type": "code",
   "execution_count": null,
   "id": "861d19ef",
   "metadata": {},
   "outputs": [],
   "source": []
  }
 ],
 "metadata": {
  "kernelspec": {
   "display_name": "Python 3 (ipykernel)",
   "language": "python",
   "name": "python3"
  },
  "language_info": {
   "codemirror_mode": {
    "name": "ipython",
    "version": 3
   },
   "file_extension": ".py",
   "mimetype": "text/x-python",
   "name": "python",
   "nbconvert_exporter": "python",
   "pygments_lexer": "ipython3",
   "version": "3.9.18"
  }
 },
 "nbformat": 4,
 "nbformat_minor": 5
}
