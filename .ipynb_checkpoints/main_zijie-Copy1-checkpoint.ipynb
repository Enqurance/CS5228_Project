{
 "cells": [
  {
   "cell_type": "markdown",
   "id": "9139239be4d3d26a",
   "metadata": {},
   "source": [
    "<img src=\"images/img.png\" />"
   ]
  },
  {
   "cell_type": "markdown",
   "id": "28a5ce1aa953b915",
   "metadata": {},
   "source": [
    "# CS5228 Project, Group 32"
   ]
  },
  {
   "cell_type": "code",
   "execution_count": 1,
   "id": "5287322f-3943-4058-8448-970302c9ff79",
   "metadata": {},
   "outputs": [],
   "source": [
    "# Auto reload\n",
    "%load_ext autoreload\n",
    "%autoreload 2"
   ]
  },
  {
   "cell_type": "code",
   "execution_count": 2,
   "id": "5a8c6d3e9adfc751",
   "metadata": {},
   "outputs": [],
   "source": [
    "import os\n",
    "import json\n",
    "import pandas as pd\n",
    "from sklearn.preprocessing import LabelEncoder\n",
    "from sklearn.preprocessing import MultiLabelBinarizer\n",
    "from tqdm import tqdm\n",
    "import seaborn as sns\n",
    "import matplotlib.pyplot as plt"
   ]
  },
  {
   "cell_type": "markdown",
   "id": "f7f32f076115be79",
   "metadata": {},
   "source": [
    "## Data Preprocessing\n",
    "In this part, we are going to perform some data preprocessing steps. This may include:\n",
    "* Data cleaning: handle missing values, duplicates, inconsistant or invalid vallues, outliers\n",
    "\n",
    "* Data reduction: reduce number of attributes, reduce number of attribute values\n",
    "\n",
    "* Data transformation: attribute construction, normalization\n",
    "\n",
    "* Data discretization: encode to numerical attributes"
   ]
  },
  {
   "cell_type": "markdown",
   "id": "773fb74f",
   "metadata": {},
   "source": [
    "### Load the train dataset"
   ]
  },
  {
   "cell_type": "code",
   "execution_count": 3,
   "id": "a084ae15",
   "metadata": {},
   "outputs": [
    {
     "name": "stdout",
     "output_type": "stream",
     "text": [
      "There are 25000 data points in training data, each with 30 attributes.\n"
     ]
    }
   ],
   "source": [
    "# Load file into pandas dataframe\n",
    "df = pd.read_csv('./data/train.csv')\n",
    "\n",
    "num_records, num_attributes = df.shape\n",
    "print(\"There are {} data points in training data, each with {} attributes.\". format(num_records, num_attributes))"
   ]
  },
  {
   "cell_type": "markdown",
   "id": "4fd41045",
   "metadata": {},
   "source": [
    "### Data Cleaning"
   ]
  },
  {
   "cell_type": "markdown",
   "id": "389b04ed",
   "metadata": {},
   "source": [
    "Before data cleaning, remove the known attributes that are not meaningful to our prediction model:\n",
    "  * Meaningless idendifier: listing_id \n",
    "  * Attributes in free text: title, description, features, accessories\n",
    "  * Attribute with the same value: eco_category, indicative_price\n",
    "  * Attribute unlikely to affect price: curb_weight"
   ]
  },
  {
   "cell_type": "code",
   "execution_count": 4,
   "id": "c02d46d7",
   "metadata": {},
   "outputs": [
    {
     "name": "stdout",
     "output_type": "stream",
     "text": [
      "There are 25000 data points in training data, each with 20 attributes.\n"
     ]
    }
   ],
   "source": [
    "columns_to_drop = [\n",
    "    'listing_id',          # Meaningless identifier\n",
    "    'description',\n",
    "    'features',\n",
    "    'accessories',\n",
    "    'eco_category',        # Attribute with the same value\n",
    "    'indicative_price',\n",
    "    'curb_weight',         # Attribute unlikely to affect price\n",
    "    'transmission',\n",
    "    'original_reg_date',\n",
    "    'lifespan',\n",
    "]\n",
    "\n",
    "df = df.drop(columns=columns_to_drop)\n",
    "\n",
    "num_records, num_attributes = df.shape\n",
    "print(\"There are {} data points in training data, each with {} attributes.\". format(num_records, num_attributes))"
   ]
  },
  {
   "cell_type": "markdown",
   "id": "dde0aaf8",
   "metadata": {},
   "source": [
    "### Handle Missing Values\n",
    "Firstly, for each of the columns with missing value, check the number of rows with NaN values.\n",
    "There are 3 scenarios:\n",
    "1. NaN value is the major (e.g. fuel_type has 19121 rows with NaN values), we remove the corresponding attritubes.\n",
    "2. NaN value is the minor. We can choose to fill or delete related data points. "
   ]
  },
  {
   "cell_type": "code",
   "execution_count": 5,
   "id": "834807be",
   "metadata": {
    "scrolled": true
   },
   "outputs": [
    {
     "name": "stdout",
     "output_type": "stream",
     "text": [
      "Training data\n",
      "Column 'make' has 1316 rows with NaN values.\n",
      "Column 'fuel_type' has 19121 rows with NaN values.\n",
      "Column 'manufactured' has 7 rows with NaN values.\n",
      "Column 'power' has 2640 rows with NaN values.\n",
      "Column 'engine_cap' has 596 rows with NaN values.\n",
      "Column 'mileage' has 5304 rows with NaN values.\n",
      "Column 'no_of_owners' has 18 rows with NaN values.\n",
      "Column 'depreciation' has 507 rows with NaN values.\n",
      "Column 'road_tax' has 2632 rows with NaN values.\n",
      "Column 'dereg_value' has 220 rows with NaN values.\n",
      "Column 'omv' has 64 rows with NaN values.\n",
      "Column 'arf' has 174 rows with NaN values.\n",
      "Column 'opc_scheme' has 24838 rows with NaN values.\n"
     ]
    }
   ],
   "source": [
    "columns_to_check = [\n",
    "    'make',\n",
    "    'fuel_type',\n",
    "    'manufactured',\n",
    "    'power',\n",
    "    'engine_cap',\n",
    "    'mileage',\n",
    "    'no_of_owners',\n",
    "    'depreciation',\n",
    "    'road_tax',\n",
    "    'dereg_value',\n",
    "    'omv',\n",
    "    'arf',\n",
    "    'opc_scheme'\n",
    "]\n",
    "\n",
    "# Calculate the number of NaN values in each specified column\n",
    "nan_counts = df[columns_to_check].isna().sum()\n",
    "\n",
    "# Print the number of NaN values for each column\n",
    "print('Training data')\n",
    "for column, count in nan_counts.items():\n",
    "    print(f\"Column '{column}' has {count} rows with NaN values.\")"
   ]
  },
  {
   "cell_type": "markdown",
   "id": "2e2655f7",
   "metadata": {},
   "source": [
    "### We first drop columns with TOO MANY NaN values and unlikely to help prediction"
   ]
  },
  {
   "cell_type": "code",
   "execution_count": 6,
   "id": "da6b4bc0",
   "metadata": {},
   "outputs": [],
   "source": [
    "columns_to_drop_nan = [\n",
    "    'fuel_type',\n",
    "    'opc_scheme',\n",
    "    'power'\n",
    "]\n",
    "\n",
    "for col in columns_to_drop_nan:\n",
    "    if col in df.columns:\n",
    "        df = df.drop(columns=[col])"
   ]
  },
  {
   "cell_type": "markdown",
   "id": "28900a18-8bf3-4516-b663-c00533fde54f",
   "metadata": {},
   "source": [
    "### Transform categorical value to numerical values"
   ]
  },
  {
   "cell_type": "markdown",
   "id": "a09be75a",
   "metadata": {},
   "source": [
    "Transform date time attributes to numerical values\n",
    "This step is required to fill up the missing values."
   ]
  },
  {
   "cell_type": "code",
   "execution_count": 7,
   "id": "ce15c388",
   "metadata": {},
   "outputs": [
    {
     "name": "stdout",
     "output_type": "stream",
     "text": [
      "There are 25000 data points, each with 18 attributes.\n"
     ]
    }
   ],
   "source": [
    "from util.DataPreprocess import CalculateCarAge\n",
    "    \n",
    "\n",
    "df = CalculateCarAge(df)\n",
    "num_records, num_attributes = df.shape\n",
    "print(\"There are {} data points, each with {} attributes.\". format(num_records, num_attributes))"
   ]
  },
  {
   "cell_type": "code",
   "execution_count": 8,
   "id": "1f25f94d",
   "metadata": {},
   "outputs": [],
   "source": [
    "df['title'] = df['title'].str.replace(r'\\s*\\(.*?\\)', '', regex=True)"
   ]
  },
  {
   "cell_type": "code",
   "execution_count": 9,
   "id": "829f7d64",
   "metadata": {},
   "outputs": [],
   "source": [
    "categorical_columns = [\n",
    "    'model',\n",
    "    'make',\n",
    "    'type_of_vehicle',\n",
    "    'title'\n",
    "]\n",
    "\n",
    "encode_dict = {}\n",
    "le = LabelEncoder()\n",
    "for column in categorical_columns:\n",
    "    df[column] = le.fit_transform(df[column])\n",
    "    encode_dict[column] = {str(label): int(index) for index, label in enumerate(le.classes_)}\n",
    "\n",
    "with open('./data/encode.json', 'w') as file:\n",
    "    json.dump(encode_dict, file, indent=4)"
   ]
  },
  {
   "cell_type": "markdown",
   "id": "9e0265a9",
   "metadata": {},
   "source": [
    "### Handle category attribute"
   ]
  },
  {
   "cell_type": "code",
   "execution_count": 10,
   "id": "9823aef4",
   "metadata": {},
   "outputs": [
    {
     "name": "stdout",
     "output_type": "stream",
     "text": [
      "Number of unique categories: 15\n",
      "Unique categories: {'rare & exotic', 'opc car', 'almost new car', 'electric cars', 'hybrid cars', 'low mileage car', 'consignment car', 'imported used vehicle', 'parf car', 'vintage cars', 'coe car', 'premium ad car', 'sta evaluated car', 'sgcarmart warranty cars', 'direct owner sale'}\n",
      "There are 25000 data points, each with 32 attributes.\n",
      "Index(['title', 'make', 'model', 'manufactured', 'type_of_vehicle',\n",
      "       'engine_cap', 'no_of_owners', 'depreciation', 'coe', 'road_tax',\n",
      "       'dereg_value', 'mileage', 'omv', 'arf', 'price', 'reg_year', 'car_age',\n",
      "       'almost new car', 'coe car', 'consignment car', 'direct owner sale',\n",
      "       'electric cars', 'hybrid cars', 'imported used vehicle',\n",
      "       'low mileage car', 'opc car', 'parf car', 'premium ad car',\n",
      "       'rare & exotic', 'sgcarmart warranty cars', 'sta evaluated car',\n",
      "       'vintage cars'],\n",
      "      dtype='object')\n"
     ]
    }
   ],
   "source": [
    "from util.DataPreprocess import HandlingCategoryAttribute\n",
    "\n",
    "if 'category' in df.columns:\n",
    "    df = HandlingCategoryAttribute(df)\n",
    "    \n",
    "print(df.columns)"
   ]
  },
  {
   "cell_type": "code",
   "execution_count": 11,
   "id": "22ec92b3",
   "metadata": {},
   "outputs": [
    {
     "name": "stdout",
     "output_type": "stream",
     "text": [
      "Training data\n",
      "Column 'title' has 0 rows with NaN values.\n",
      "Column 'make' has 0 rows with NaN values.\n",
      "Column 'manufactured' has 7 rows with NaN values.\n",
      "Column 'engine_cap' has 596 rows with NaN values.\n",
      "Column 'mileage' has 5304 rows with NaN values.\n",
      "Column 'no_of_owners' has 18 rows with NaN values.\n",
      "Column 'depreciation' has 507 rows with NaN values.\n",
      "Column 'road_tax' has 2632 rows with NaN values.\n",
      "Column 'dereg_value' has 220 rows with NaN values.\n",
      "Column 'omv' has 64 rows with NaN values.\n",
      "Column 'arf' has 174 rows with NaN values.\n",
      "There are 24993 data points, each with 32 attributes.\n"
     ]
    }
   ],
   "source": [
    "columns_to_check = [\n",
    "    'title',\n",
    "    'make',\n",
    "    'manufactured',\n",
    "    'engine_cap',\n",
    "    'mileage',\n",
    "    'no_of_owners',\n",
    "    'depreciation',\n",
    "    'road_tax',\n",
    "    'dereg_value',\n",
    "    'omv',\n",
    "    'arf',\n",
    "]\n",
    "\n",
    "# Calculate the number of NaN values in each specified column\n",
    "nan_counts = df[columns_to_check].isna().sum()\n",
    "\n",
    "# Print the number of NaN values for each column\n",
    "print('Training data')\n",
    "for column, count in nan_counts.items():\n",
    "    print(f\"Column '{column}' has {count} rows with NaN values.\")\n",
    "\n",
    "df = df.dropna(subset=[\n",
    "    'manufactured',\n",
    "])\n",
    "\n",
    "num_records, num_attributes = df.shape\n",
    "print(\"There are {} data points, each with {} attributes.\". format(num_records, num_attributes))"
   ]
  },
  {
   "cell_type": "markdown",
   "id": "7ea8a0de",
   "metadata": {},
   "source": [
    "### Then we try to fill up other missing values."
   ]
  },
  {
   "cell_type": "code",
   "execution_count": 12,
   "id": "dfc6a526",
   "metadata": {},
   "outputs": [
    {
     "name": "stdout",
     "output_type": "stream",
     "text": [
      "Index(['title', 'make', 'model', 'manufactured', 'type_of_vehicle',\n",
      "       'engine_cap', 'no_of_owners', 'depreciation', 'coe', 'road_tax',\n",
      "       'dereg_value', 'mileage', 'omv', 'arf', 'price', 'reg_year', 'car_age',\n",
      "       'almost new car', 'coe car', 'consignment car', 'direct owner sale',\n",
      "       'electric cars', 'hybrid cars', 'imported used vehicle',\n",
      "       'low mileage car', 'opc car', 'parf car', 'premium ad car',\n",
      "       'rare & exotic', 'sgcarmart warranty cars', 'sta evaluated car',\n",
      "       'vintage cars'],\n",
      "      dtype='object')\n",
      "title                         0\n",
      "make                          0\n",
      "model                         0\n",
      "manufactured                  0\n",
      "type_of_vehicle               0\n",
      "engine_cap                  589\n",
      "no_of_owners                 18\n",
      "depreciation                  0\n",
      "coe                           0\n",
      "road_tax                   2529\n",
      "dereg_value                   0\n",
      "mileage                    5094\n",
      "omv                          57\n",
      "arf                         165\n",
      "price                         0\n",
      "reg_year                      0\n",
      "car_age                       0\n",
      "almost new car                0\n",
      "coe car                       0\n",
      "consignment car               0\n",
      "direct owner sale             0\n",
      "electric cars                 0\n",
      "hybrid cars                   0\n",
      "imported used vehicle         0\n",
      "low mileage car               0\n",
      "opc car                       0\n",
      "parf car                      0\n",
      "premium ad car                0\n",
      "rare & exotic                 0\n",
      "sgcarmart warranty cars       0\n",
      "sta evaluated car             0\n",
      "vintage cars                  0\n",
      "dtype: int64\n",
      "NaN values after handling:  0\n"
     ]
    }
   ],
   "source": [
    "from util.DataPreprocess import HandlingMissingValue\n",
    "from util.DataPreprocess import HandlingMissingValueWithImpute\n",
    "\n",
    "columns = [\n",
    "    'model',\n",
    "    'mileage',\n",
    "    'engine_cap',\n",
    "    'no_of_owners',\n",
    "    'coe', \n",
    "    'road_tax',\n",
    "    'omv',\n",
    "    'arf',\n",
    "    'price',\n",
    "]\n",
    "\n",
    "print(df.columns)\n",
    "\n",
    "df = HandlingMissingValue(df)\n",
    "df = HandlingMissingValueWithImpute(df, columns)"
   ]
  },
  {
   "cell_type": "code",
   "execution_count": 13,
   "id": "d8c1cf5f",
   "metadata": {
    "scrolled": false
   },
   "outputs": [
    {
     "data": {
      "text/html": [
       "<div>\n",
       "<style scoped>\n",
       "    .dataframe tbody tr th:only-of-type {\n",
       "        vertical-align: middle;\n",
       "    }\n",
       "\n",
       "    .dataframe tbody tr th {\n",
       "        vertical-align: top;\n",
       "    }\n",
       "\n",
       "    .dataframe thead th {\n",
       "        text-align: right;\n",
       "    }\n",
       "</style>\n",
       "<table border=\"1\" class=\"dataframe\">\n",
       "  <thead>\n",
       "    <tr style=\"text-align: right;\">\n",
       "      <th></th>\n",
       "      <th>title</th>\n",
       "      <th>make</th>\n",
       "      <th>model</th>\n",
       "      <th>manufactured</th>\n",
       "      <th>type_of_vehicle</th>\n",
       "      <th>engine_cap</th>\n",
       "      <th>no_of_owners</th>\n",
       "      <th>depreciation</th>\n",
       "      <th>coe</th>\n",
       "      <th>road_tax</th>\n",
       "      <th>...</th>\n",
       "      <th>hybrid cars</th>\n",
       "      <th>imported used vehicle</th>\n",
       "      <th>low mileage car</th>\n",
       "      <th>opc car</th>\n",
       "      <th>parf car</th>\n",
       "      <th>premium ad car</th>\n",
       "      <th>rare &amp; exotic</th>\n",
       "      <th>sgcarmart warranty cars</th>\n",
       "      <th>sta evaluated car</th>\n",
       "      <th>vintage cars</th>\n",
       "    </tr>\n",
       "  </thead>\n",
       "  <tbody>\n",
       "    <tr>\n",
       "      <th>0</th>\n",
       "      <td>1452</td>\n",
       "      <td>43</td>\n",
       "      <td>595.0</td>\n",
       "      <td>2018.0</td>\n",
       "      <td>8</td>\n",
       "      <td>2995.0</td>\n",
       "      <td>2.0</td>\n",
       "      <td>34270.0</td>\n",
       "      <td>48011.0</td>\n",
       "      <td>2380.0</td>\n",
       "      <td>...</td>\n",
       "      <td>0</td>\n",
       "      <td>0</td>\n",
       "      <td>0</td>\n",
       "      <td>0</td>\n",
       "      <td>1</td>\n",
       "      <td>0</td>\n",
       "      <td>0</td>\n",
       "      <td>0</td>\n",
       "      <td>0</td>\n",
       "      <td>0</td>\n",
       "    </tr>\n",
       "    <tr>\n",
       "      <th>1</th>\n",
       "      <td>1928</td>\n",
       "      <td>51</td>\n",
       "      <td>192.0</td>\n",
       "      <td>2017.0</td>\n",
       "      <td>2</td>\n",
       "      <td>1991.0</td>\n",
       "      <td>2.0</td>\n",
       "      <td>21170.0</td>\n",
       "      <td>47002.0</td>\n",
       "      <td>1202.0</td>\n",
       "      <td>...</td>\n",
       "      <td>0</td>\n",
       "      <td>0</td>\n",
       "      <td>0</td>\n",
       "      <td>0</td>\n",
       "      <td>1</td>\n",
       "      <td>1</td>\n",
       "      <td>0</td>\n",
       "      <td>0</td>\n",
       "      <td>0</td>\n",
       "      <td>0</td>\n",
       "    </tr>\n",
       "    <tr>\n",
       "      <th>2</th>\n",
       "      <td>1012</td>\n",
       "      <td>29</td>\n",
       "      <td>546.0</td>\n",
       "      <td>2007.0</td>\n",
       "      <td>4</td>\n",
       "      <td>2354.0</td>\n",
       "      <td>3.0</td>\n",
       "      <td>12520.0</td>\n",
       "      <td>50355.0</td>\n",
       "      <td>2442.0</td>\n",
       "      <td>...</td>\n",
       "      <td>0</td>\n",
       "      <td>0</td>\n",
       "      <td>1</td>\n",
       "      <td>0</td>\n",
       "      <td>0</td>\n",
       "      <td>1</td>\n",
       "      <td>0</td>\n",
       "      <td>0</td>\n",
       "      <td>0</td>\n",
       "      <td>0</td>\n",
       "    </tr>\n",
       "    <tr>\n",
       "      <th>3</th>\n",
       "      <td>3204</td>\n",
       "      <td>88</td>\n",
       "      <td>156.0</td>\n",
       "      <td>2008.0</td>\n",
       "      <td>3</td>\n",
       "      <td>1598.0</td>\n",
       "      <td>3.0</td>\n",
       "      <td>10140.0</td>\n",
       "      <td>27571.0</td>\n",
       "      <td>1113.0</td>\n",
       "      <td>...</td>\n",
       "      <td>0</td>\n",
       "      <td>0</td>\n",
       "      <td>0</td>\n",
       "      <td>0</td>\n",
       "      <td>0</td>\n",
       "      <td>1</td>\n",
       "      <td>0</td>\n",
       "      <td>0</td>\n",
       "      <td>0</td>\n",
       "      <td>0</td>\n",
       "    </tr>\n",
       "    <tr>\n",
       "      <th>4</th>\n",
       "      <td>1474</td>\n",
       "      <td>44</td>\n",
       "      <td>398.0</td>\n",
       "      <td>2006.0</td>\n",
       "      <td>2</td>\n",
       "      <td>2995.0</td>\n",
       "      <td>6.0</td>\n",
       "      <td>13690.0</td>\n",
       "      <td>48479.0</td>\n",
       "      <td>3570.0</td>\n",
       "      <td>...</td>\n",
       "      <td>0</td>\n",
       "      <td>0</td>\n",
       "      <td>0</td>\n",
       "      <td>0</td>\n",
       "      <td>0</td>\n",
       "      <td>1</td>\n",
       "      <td>0</td>\n",
       "      <td>0</td>\n",
       "      <td>0</td>\n",
       "      <td>0</td>\n",
       "    </tr>\n",
       "  </tbody>\n",
       "</table>\n",
       "<p>5 rows × 32 columns</p>\n",
       "</div>"
      ],
      "text/plain": [
       "   title  make  model  manufactured  type_of_vehicle  engine_cap  \\\n",
       "0   1452    43  595.0        2018.0                8      2995.0   \n",
       "1   1928    51  192.0        2017.0                2      1991.0   \n",
       "2   1012    29  546.0        2007.0                4      2354.0   \n",
       "3   3204    88  156.0        2008.0                3      1598.0   \n",
       "4   1474    44  398.0        2006.0                2      2995.0   \n",
       "\n",
       "   no_of_owners  depreciation      coe  road_tax  ...  hybrid cars  \\\n",
       "0           2.0       34270.0  48011.0    2380.0  ...            0   \n",
       "1           2.0       21170.0  47002.0    1202.0  ...            0   \n",
       "2           3.0       12520.0  50355.0    2442.0  ...            0   \n",
       "3           3.0       10140.0  27571.0    1113.0  ...            0   \n",
       "4           6.0       13690.0  48479.0    3570.0  ...            0   \n",
       "\n",
       "   imported used vehicle  low mileage car  opc car  parf car  premium ad car  \\\n",
       "0                      0                0        0         1               0   \n",
       "1                      0                0        0         1               1   \n",
       "2                      0                1        0         0               1   \n",
       "3                      0                0        0         0               1   \n",
       "4                      0                0        0         0               1   \n",
       "\n",
       "   rare & exotic  sgcarmart warranty cars  sta evaluated car  vintage cars  \n",
       "0              0                        0                  0             0  \n",
       "1              0                        0                  0             0  \n",
       "2              0                        0                  0             0  \n",
       "3              0                        0                  0             0  \n",
       "4              0                        0                  0             0  \n",
       "\n",
       "[5 rows x 32 columns]"
      ]
     },
     "execution_count": 13,
     "metadata": {},
     "output_type": "execute_result"
    }
   ],
   "source": [
    "df.head()"
   ]
  },
  {
   "cell_type": "markdown",
   "id": "8eafaf03",
   "metadata": {},
   "source": [
    "### Remove Exact Duplicates\n",
    "We remove duplicated data points here."
   ]
  },
  {
   "cell_type": "code",
   "execution_count": 14,
   "id": "8caa0e9c",
   "metadata": {},
   "outputs": [
    {
     "name": "stdout",
     "output_type": "stream",
     "text": [
      "There are 24417 data points in training data, each with 32 attributes.\n"
     ]
    }
   ],
   "source": [
    "df = df.drop_duplicates()\n",
    "\n",
    "num_records, num_attributes = df.shape\n",
    "print(\"There are {} data points in training data, each with {} attributes.\". format(num_records, num_attributes))"
   ]
  },
  {
   "cell_type": "markdown",
   "id": "c0a55c35-f9f7-42ed-a7aa-1e3edfffa7d4",
   "metadata": {},
   "source": [
    "### Data Calculation"
   ]
  },
  {
   "cell_type": "code",
   "execution_count": 15,
   "id": "c95ae45d-0846-4e1b-9f4d-2608349504b6",
   "metadata": {},
   "outputs": [
    {
     "name": "stdout",
     "output_type": "stream",
     "text": [
      "   title  make  model  manufactured  type_of_vehicle  engine_cap  \\\n",
      "0   1452    43  595.0        2018.0                8      2995.0   \n",
      "1   1928    51  192.0        2017.0                2      1991.0   \n",
      "2   1012    29  546.0        2007.0                4      2354.0   \n",
      "3   3204    88  156.0        2008.0                3      1598.0   \n",
      "4   1474    44  398.0        2006.0                2      2995.0   \n",
      "\n",
      "   no_of_owners  depreciation      coe  road_tax  ...  imported used vehicle  \\\n",
      "0           2.0       34270.0  48011.0    2380.0  ...                      0   \n",
      "1           2.0       21170.0  47002.0    1202.0  ...                      0   \n",
      "2           3.0       12520.0  50355.0    2442.0  ...                      0   \n",
      "3           3.0       10140.0  27571.0    1113.0  ...                      0   \n",
      "4           6.0       13690.0  48479.0    3570.0  ...                      0   \n",
      "\n",
      "   low mileage car  opc car  parf car  premium ad car  rare & exotic  \\\n",
      "0                0        0         1               0              0   \n",
      "1                0        0         1               1              0   \n",
      "2                1        0         0               1              0   \n",
      "3                0        0         0               1              0   \n",
      "4                0        0         0               1              0   \n",
      "\n",
      "   sgcarmart warranty cars  sta evaluated car  vintage cars  omv_arf_ratio  \n",
      "0                        0                  0             0       0.673372  \n",
      "1                        0                  0             0       0.925552  \n",
      "2                        0                  0             0       0.909073  \n",
      "3                        0                  0             0       1.000000  \n",
      "4                        0                  0             0       0.909081  \n",
      "\n",
      "[5 rows x 33 columns]\n",
      "   title  make  model  manufactured  type_of_vehicle  engine_cap  \\\n",
      "0   1452    43  595.0        2018.0                8      2995.0   \n",
      "1   1928    51  192.0        2017.0                2      1991.0   \n",
      "2   1012    29  546.0        2007.0                4      2354.0   \n",
      "3   3204    88  156.0        2008.0                3      1598.0   \n",
      "4   1474    44  398.0        2006.0                2      2995.0   \n",
      "\n",
      "   no_of_owners  depreciation      coe  road_tax  ...  low mileage car  \\\n",
      "0           2.0       34270.0  48011.0    2380.0  ...                0   \n",
      "1           2.0       21170.0  47002.0    1202.0  ...                0   \n",
      "2           3.0       12520.0  50355.0    2442.0  ...                1   \n",
      "3           3.0       10140.0  27571.0    1113.0  ...                0   \n",
      "4           6.0       13690.0  48479.0    3570.0  ...                0   \n",
      "\n",
      "   opc car  parf car  premium ad car  rare & exotic  sgcarmart warranty cars  \\\n",
      "0        0         1               0              0                        0   \n",
      "1        0         1               1              0                        0   \n",
      "2        0         0               1              0                        0   \n",
      "3        0         0               1              0                        0   \n",
      "4        0         0               1              0                        0   \n",
      "\n",
      "   sta evaluated car  vintage cars  omv_arf_ratio  dereg_coe_ratio  \n",
      "0                  0             0       0.673372         2.152069  \n",
      "1                  0             0       0.925552         0.961214  \n",
      "2                  0             0       0.909073         0.317804  \n",
      "3                  0             0       1.000000         0.441914  \n",
      "4                  0             0       0.909081         0.188494  \n",
      "\n",
      "[5 rows x 34 columns]\n"
     ]
    }
   ],
   "source": [
    "from util.DataPreprocess import DataCalculation\n",
    "\n",
    "df = DataCalculation(df)\n",
    "print(df.head())"
   ]
  },
  {
   "cell_type": "markdown",
   "id": "11789885",
   "metadata": {},
   "source": [
    "### Save the preprocessed data"
   ]
  },
  {
   "cell_type": "code",
   "execution_count": 16,
   "id": "10b15971",
   "metadata": {},
   "outputs": [
    {
     "name": "stdout",
     "output_type": "stream",
     "text": [
      "Existing file './data/train_preprocessed_impute.csv' has been deleted.\n",
      "DataFrame has been saved to './data/train_preprocessed_impute.csv'.\n"
     ]
    }
   ],
   "source": [
    "file_name = './data/train_preprocessed_impute.csv'\n",
    "\n",
    "# Check if the file exists\n",
    "if os.path.exists(file_name):\n",
    "    # Delete the file\n",
    "    os.remove(file_name)\n",
    "    print(f\"Existing file '{file_name}' has been deleted.\")\n",
    "\n",
    "# Save the DataFrame to CSV\n",
    "df.to_csv(file_name, index=False)\n",
    "print(f\"DataFrame has been saved to '{file_name}'.\")"
   ]
  },
  {
   "cell_type": "markdown",
   "id": "06bc5a63",
   "metadata": {},
   "source": [
    "## Data Mining"
   ]
  },
  {
   "cell_type": "markdown",
   "id": "12a1b610-13c2-4709-9ad9-cb3482c3d209",
   "metadata": {},
   "source": [
    "### Load preprocessed training data"
   ]
  },
  {
   "cell_type": "code",
   "execution_count": 17,
   "id": "e6e80ea1",
   "metadata": {},
   "outputs": [
    {
     "name": "stdout",
     "output_type": "stream",
     "text": [
      "Index(['make', 'model', 'manufactured', 'type_of_vehicle', 'engine_cap',\n",
      "       'no_of_owners', 'depreciation', 'road_tax', 'mileage', 'omv', 'arf',\n",
      "       'omv_arf_ratio', 'dereg_coe_ratio', 'price', 'car_age',\n",
      "       'almost new car', 'coe car', 'consignment car', 'direct owner sale',\n",
      "       'electric cars', 'hybrid cars', 'imported used vehicle',\n",
      "       'low mileage car', 'opc car', 'parf car', 'premium ad car',\n",
      "       'rare & exotic', 'sgcarmart warranty cars', 'sta evaluated car',\n",
      "       'vintage cars'],\n",
      "      dtype='object')\n",
      "There are 24417 data points in training data, each with 30 attributes.\n"
     ]
    }
   ],
   "source": [
    "# Load file into pandas dataframe, we saved our preprocessed file at path 'output_file'\n",
    "training_file = './data/train_preprocessed_impute.csv'\n",
    "df = pd.read_csv(training_file)\n",
    "\n",
    "columns_to_keep = [\n",
    "    'make',\n",
    "    'model',\n",
    "    'manufactured',\n",
    "    'type_of_vehicle',\n",
    "    'engine_cap',\n",
    "    'no_of_owners',\n",
    "    'depreciation',\n",
    "    'road_tax',\n",
    "    'mileage',\n",
    "    'omv',\n",
    "    'arf',\n",
    "    'omv_arf_ratio',\n",
    "    'dereg_coe_ratio',\n",
    "    'price',\n",
    "    'car_age',\n",
    "    'almost new car',\n",
    "    'coe car',\n",
    "    'consignment car',\n",
    "    'direct owner sale',\n",
    "    'electric cars',\n",
    "    'hybrid cars',\n",
    "    'imported used vehicle',\n",
    "    'low mileage car',\n",
    "    'opc car',\n",
    "    'parf car',\n",
    "    'premium ad car',\n",
    "    'rare & exotic',\n",
    "    'sgcarmart warranty cars',\n",
    "    'sta evaluated car',\n",
    "    'vintage cars'\n",
    "]\n",
    "df = df[columns_to_keep]\n",
    "columns_to_keep = [col for col in df.columns if col != 'price']\n",
    "\n",
    "print(df.columns)\n",
    "num_records, num_attributes = df.shape\n",
    "print(\"There are {} data points in training data, each with {} attributes.\". format(num_records, num_attributes))"
   ]
  },
  {
   "cell_type": "markdown",
   "id": "77da5708",
   "metadata": {},
   "source": [
    "### Data Augmentation, copy rows with less than 5 samples by group"
   ]
  },
  {
   "cell_type": "code",
   "execution_count": 18,
   "id": "a1aa49ca",
   "metadata": {},
   "outputs": [
    {
     "name": "stdout",
     "output_type": "stream",
     "text": [
      "There are 40701 data points after augmentation, each with 30 attributes.\n"
     ]
    }
   ],
   "source": [
    "from util.DataPreprocess import DataAugmentation\n",
    "\n",
    "df_aug = DataAugmentation(df)\n",
    "\n",
    "num_records, num_attributes = df_aug.shape\n",
    "print(\"There are {} data points after augmentation, each with {} attributes.\". format(num_records, num_attributes))"
   ]
  },
  {
   "cell_type": "markdown",
   "id": "ca582db1",
   "metadata": {},
   "source": [
    "### Save the augmentation data"
   ]
  },
  {
   "cell_type": "code",
   "execution_count": 19,
   "id": "e4d43381",
   "metadata": {},
   "outputs": [
    {
     "name": "stdout",
     "output_type": "stream",
     "text": [
      "Existing file './data/train_preprocessed_augmentation.csv' has been deleted.\n",
      "DataFrame has been saved to './data/train_preprocessed_augmentation.csv'.\n"
     ]
    }
   ],
   "source": [
    "file_name = './data/train_preprocessed_augmentation.csv'\n",
    "\n",
    "# Check if the file exists\n",
    "if os.path.exists(file_name):\n",
    "    # Delete the file\n",
    "    os.remove(file_name)\n",
    "    print(f\"Existing file '{file_name}' has been deleted.\")\n",
    "\n",
    "# Save the DataFrame to CSV\n",
    "df_aug.to_csv(file_name, index=False)\n",
    "print(f\"DataFrame has been saved to '{file_name}'.\")"
   ]
  },
  {
   "cell_type": "markdown",
   "id": "81365da5-d652-4c94-9cb9-0bdbc430dc9e",
   "metadata": {},
   "source": [
    "### Load test data and preprocess"
   ]
  },
  {
   "cell_type": "code",
   "execution_count": 20,
   "id": "51b11652-d408-4b2d-b7a0-a39b1dafd5ae",
   "metadata": {},
   "outputs": [],
   "source": [
    "test_file = './data/test.csv'\n",
    "df_test = pd.read_csv(test_file)"
   ]
  },
  {
   "cell_type": "markdown",
   "id": "8f062d2a",
   "metadata": {},
   "source": [
    "### Convert date"
   ]
  },
  {
   "cell_type": "code",
   "execution_count": 21,
   "id": "8e6ecdb5",
   "metadata": {},
   "outputs": [
    {
     "name": "stdout",
     "output_type": "stream",
     "text": [
      "There are 10000 data points, each with 30 attributes.\n"
     ]
    }
   ],
   "source": [
    "from util.DataPreprocess import CalculateCarAge\n",
    "df_test = CalculateCarAge(df_test)\n",
    "\n",
    "num_records, num_attributes = df_test.shape\n",
    "print(\"There are {} data points, each with {} attributes.\". format(num_records, num_attributes))"
   ]
  },
  {
   "cell_type": "markdown",
   "id": "35084373",
   "metadata": {},
   "source": [
    "### Convert category data"
   ]
  },
  {
   "cell_type": "code",
   "execution_count": 22,
   "id": "434bdf6b",
   "metadata": {},
   "outputs": [
    {
     "name": "stdout",
     "output_type": "stream",
     "text": [
      "Number of unique categories: 15\n",
      "Unique categories: {'rare & exotic', 'almost new car', 'opc car', 'electric cars', 'hybrid cars', 'low mileage car', 'consignment car', 'imported used vehicle', 'parf car', 'vintage cars', 'coe car', 'premium ad car', 'sta evaluated car', 'sgcarmart warranty cars', 'direct owner sale'}\n",
      "There are 10000 data points, each with 44 attributes.\n"
     ]
    }
   ],
   "source": [
    "from util.DataPreprocess import HandlingCategoryAttribute\n",
    "\n",
    "if 'category' in df_test.columns:\n",
    "    df_test = HandlingCategoryAttribute(df_test)"
   ]
  },
  {
   "cell_type": "markdown",
   "id": "19b479fa",
   "metadata": {},
   "source": [
    "### Data calculation"
   ]
  },
  {
   "cell_type": "code",
   "execution_count": 23,
   "id": "0c331190",
   "metadata": {},
   "outputs": [
    {
     "name": "stdout",
     "output_type": "stream",
     "text": [
      "   listing_id                               title    make   model  \\\n",
      "0     1303772                  Honda Vezel 1.5A X   honda   vezel   \n",
      "1     1323166  Mazda 3 1.6A SP (COE till 10/2027)   mazda       3   \n",
      "2     1308405       MINI Cooper S Countryman 2.0A    mini  cooper   \n",
      "3     1216706                  Toyota Vios 1.5A G  toyota    vios   \n",
      "4     1298206                     Mazda 3 HB 1.5A   mazda       3   \n",
      "\n",
      "                                         description  manufactured  \\\n",
      "0                                               4614        2015.0   \n",
      "1  extremely well maintained and in pristine cond...        2007.0   \n",
      "2  1 owner! beautiful island blue color! eurokars...        2019.0   \n",
      "3  fully agent maintain! genuine low mileage at 5...        2019.0   \n",
      "4  workshop check/sta evaluation available. accid...        2015.0   \n",
      "\n",
      "  original_reg_date  type_of_vehicle transmission  curb_weight  ...  \\\n",
      "0               NaN              suv         auto       1190.0  ...   \n",
      "1               NaN  mid-sized sedan         auto       1235.0  ...   \n",
      "2               NaN       sports car         auto       1535.0  ...   \n",
      "3               NaN  mid-sized sedan         auto       1100.0  ...   \n",
      "4               NaN        hatchback         auto       1324.0  ...   \n",
      "\n",
      "   imported used vehicle low mileage car  opc car  parf car  premium ad car  \\\n",
      "0                      0               0        0         1               0   \n",
      "1                      0               1        0         0               1   \n",
      "2                      0               0        0         1               0   \n",
      "3                      0               0        0         1               1   \n",
      "4                      0               0        0         1               1   \n",
      "\n",
      "   rare & exotic  sgcarmart warranty cars  sta evaluated car  vintage cars  \\\n",
      "0              0                        0                  0             0   \n",
      "1              0                        0                  0             0   \n",
      "2              0                        0                  0             0   \n",
      "3              0                        0                  0             0   \n",
      "4              0                        0                  0             0   \n",
      "\n",
      "   omv_arf_ratio  \n",
      "0       2.083541  \n",
      "1       0.909074  \n",
      "2       0.833797  \n",
      "3       1.000000  \n",
      "4       1.381767  \n",
      "\n",
      "[5 rows x 45 columns]\n"
     ]
    }
   ],
   "source": [
    "from util.DataPreprocess import DataCalculation\n",
    "\n",
    "df_test = DataCalculation(df_test)"
   ]
  },
  {
   "cell_type": "markdown",
   "id": "ed8d7469",
   "metadata": {},
   "source": [
    "### Select attributes"
   ]
  },
  {
   "cell_type": "code",
   "execution_count": 24,
   "id": "6c94ff25",
   "metadata": {},
   "outputs": [
    {
     "name": "stdout",
     "output_type": "stream",
     "text": [
      "make                        541\n",
      "model                         0\n",
      "manufactured                  3\n",
      "type_of_vehicle               0\n",
      "engine_cap                  235\n",
      "no_of_owners                  8\n",
      "depreciation                201\n",
      "road_tax                   1082\n",
      "mileage                    2166\n",
      "omv                          29\n",
      "arf                          65\n",
      "omv_arf_ratio                65\n",
      "dereg_coe_ratio              83\n",
      "car_age                       0\n",
      "almost new car                0\n",
      "coe car                       0\n",
      "consignment car               0\n",
      "direct owner sale             0\n",
      "electric cars                 0\n",
      "hybrid cars                   0\n",
      "imported used vehicle         0\n",
      "low mileage car               0\n",
      "opc car                       0\n",
      "parf car                      0\n",
      "premium ad car                0\n",
      "rare & exotic                 0\n",
      "sgcarmart warranty cars       0\n",
      "sta evaluated car             0\n",
      "vintage cars                  0\n",
      "dtype: int64\n"
     ]
    }
   ],
   "source": [
    "columns_to_keep = df.columns\n",
    "columns_to_keep = [col for col in columns_to_keep if col != 'price']\n",
    "\n",
    "df_test = df_test[columns_to_keep]\n",
    "total_nulls = df_test.isnull().sum()\n",
    "print(total_nulls)"
   ]
  },
  {
   "cell_type": "markdown",
   "id": "f6e85bd5-970c-425c-a0f0-dce631a8d3a7",
   "metadata": {},
   "source": [
    "### Encode attributes on test data"
   ]
  },
  {
   "cell_type": "code",
   "execution_count": 25,
   "id": "6e21a079-8608-48b9-bd9e-389eb321d103",
   "metadata": {
    "scrolled": true
   },
   "outputs": [
    {
     "name": "stdout",
     "output_type": "stream",
     "text": [
      "There are 10000 data points, each with 29 attributes.\n",
      "There are 10000 data points in test data, each with 29 attributes.\n"
     ]
    }
   ],
   "source": [
    "num_records, num_attributes = df_test.shape\n",
    "print(\"There are {} data points, each with {} attributes.\". format(num_records, num_attributes))\n",
    "\n",
    "categorical_columns = [\n",
    "    'make',\n",
    "    'model',\n",
    "    'type_of_vehicle',\n",
    "    'transmission',\n",
    "]\n",
    "\n",
    "with open('./data/encode.json', 'r') as file:\n",
    "    data = json.load(file)\n",
    "\n",
    "for col, cate_dict in data.items():\n",
    "    if col in df_test.columns:\n",
    "        df_test.loc[:, col] = df_test[col].map(cate_dict)\n",
    "\n",
    "num_records, num_attributes = df_test.shape\n",
    "print(\"There are {} data points in test data, each with {} attributes.\". format(num_records, num_attributes))"
   ]
  },
  {
   "cell_type": "code",
   "execution_count": 26,
   "id": "07802c0f",
   "metadata": {},
   "outputs": [
    {
     "name": "stdout",
     "output_type": "stream",
     "text": [
      "make                        544\n",
      "model                        77\n",
      "manufactured                  3\n",
      "type_of_vehicle               0\n",
      "engine_cap                  235\n",
      "no_of_owners                  8\n",
      "depreciation                201\n",
      "road_tax                   1082\n",
      "mileage                    2166\n",
      "omv                          29\n",
      "arf                          65\n",
      "omv_arf_ratio                65\n",
      "dereg_coe_ratio              83\n",
      "car_age                       0\n",
      "almost new car                0\n",
      "coe car                       0\n",
      "consignment car               0\n",
      "direct owner sale             0\n",
      "electric cars                 0\n",
      "hybrid cars                   0\n",
      "imported used vehicle         0\n",
      "low mileage car               0\n",
      "opc car                       0\n",
      "parf car                      0\n",
      "premium ad car                0\n",
      "rare & exotic                 0\n",
      "sgcarmart warranty cars       0\n",
      "sta evaluated car             0\n",
      "vintage cars                  0\n",
      "dtype: int64\n"
     ]
    }
   ],
   "source": [
    "total_nulls = df_test.isnull().sum()\n",
    "print(total_nulls)"
   ]
  },
  {
   "cell_type": "markdown",
   "id": "b3bebacb",
   "metadata": {},
   "source": [
    "### Handle missing values on test data"
   ]
  },
  {
   "cell_type": "code",
   "execution_count": 27,
   "id": "d2786c79",
   "metadata": {
    "scrolled": true
   },
   "outputs": [
    {
     "name": "stdout",
     "output_type": "stream",
     "text": [
      "Test data\n",
      "Column 'make' has 544 rows with NaN values.\n",
      "Column 'model' has 77 rows with NaN values.\n",
      "Column 'manufactured' has 3 rows with NaN values.\n",
      "Column 'engine_cap' has 235 rows with NaN values.\n",
      "Column 'no_of_owners' has 8 rows with NaN values.\n",
      "Column 'depreciation' has 201 rows with NaN values.\n",
      "Column 'road_tax' has 1082 rows with NaN values.\n",
      "Column 'mileage' has 2166 rows with NaN values.\n",
      "Column 'omv_arf_ratio' has 65 rows with NaN values.\n",
      "Column 'dereg_coe_ratio' has 83 rows with NaN values.\n"
     ]
    }
   ],
   "source": [
    "columns_to_check = [\n",
    "    'make',\n",
    "    'model',\n",
    "    'manufactured',\n",
    "    'engine_cap',\n",
    "    'no_of_owners',\n",
    "    'depreciation',\n",
    "    'road_tax',\n",
    "    'mileage',\n",
    "    'omv_arf_ratio',\n",
    "    'dereg_coe_ratio'\n",
    "]\n",
    "\n",
    "# Calculate the number of NaN values in each specified column\n",
    "nan_counts = df_test[columns_to_check].isna().sum()\n",
    "\n",
    "# Print the number of NaN values for each column\n",
    "print('Test data')\n",
    "for column, count in nan_counts.items():\n",
    "    print(f\"Column '{column}' has {count} rows with NaN values.\")"
   ]
  },
  {
   "cell_type": "code",
   "execution_count": 28,
   "id": "d2768fe5",
   "metadata": {},
   "outputs": [],
   "source": [
    "from util.DataPreprocess import HandlingCategoryAttribute\n",
    "\n",
    "if 'category' in df_test.columns:\n",
    "    df_test = HandlingCategoryAttribute(df_test)"
   ]
  },
  {
   "cell_type": "code",
   "execution_count": 29,
   "id": "6508fc75",
   "metadata": {},
   "outputs": [
    {
     "name": "stdout",
     "output_type": "stream",
     "text": [
      "make                        544\n",
      "model                        77\n",
      "manufactured                  3\n",
      "type_of_vehicle               0\n",
      "engine_cap                  235\n",
      "no_of_owners                  8\n",
      "depreciation                201\n",
      "road_tax                   1082\n",
      "mileage                    2166\n",
      "omv                          29\n",
      "arf                          65\n",
      "omv_arf_ratio                65\n",
      "dereg_coe_ratio              83\n",
      "car_age                       0\n",
      "almost new car                0\n",
      "coe car                       0\n",
      "consignment car               0\n",
      "direct owner sale             0\n",
      "electric cars                 0\n",
      "hybrid cars                   0\n",
      "imported used vehicle         0\n",
      "low mileage car               0\n",
      "opc car                       0\n",
      "parf car                      0\n",
      "premium ad car                0\n",
      "rare & exotic                 0\n",
      "sgcarmart warranty cars       0\n",
      "sta evaluated car             0\n",
      "vintage cars                  0\n",
      "dtype: int64\n",
      "   make  model  manufactured type_of_vehicle  engine_cap  no_of_owners  \\\n",
      "0  29.0  746.0        2015.0               8      1496.0           2.0   \n",
      "1  49.0   41.0        2007.0               3      1598.0           1.0   \n",
      "2  53.0  235.0        2019.0               6      1998.0           1.0   \n",
      "3  88.0  748.0        2019.0               3      1496.0           3.0   \n",
      "4  49.0   41.0        2015.0               1      1496.0           3.0   \n",
      "\n",
      "   depreciation  road_tax   mileage      omv  ...  hybrid cars  \\\n",
      "0       17660.0     682.0  112000.0  19229.0  ...            0   \n",
      "1       10920.0    1113.0  120000.0  14347.0  ...            0   \n",
      "2       22120.0    1210.0   43000.0  39863.0  ...            0   \n",
      "3       13700.0     682.0   53300.0  15573.0  ...            0   \n",
      "4       14190.0     682.0  149000.0  18097.0  ...            0   \n",
      "\n",
      "   imported used vehicle  low mileage car  opc car  parf car  premium ad car  \\\n",
      "0                      0                0        0         1               0   \n",
      "1                      0                1        0         0               1   \n",
      "2                      0                0        0         1               0   \n",
      "3                      0                0        0         1               1   \n",
      "4                      0                0        0         1               1   \n",
      "\n",
      "   rare & exotic  sgcarmart warranty cars  sta evaluated car  vintage cars  \n",
      "0              0                        0                  0             0  \n",
      "1              0                        0                  0             0  \n",
      "2              0                        0                  0             0  \n",
      "3              0                        0                  0             0  \n",
      "4              0                        0                  0             0  \n",
      "\n",
      "[5 rows x 29 columns]\n",
      "NaN values after handling:  171\n"
     ]
    }
   ],
   "source": [
    "from util.DataPreprocess import HandlingMissingValueWithImputeReference\n",
    "from util.DataPreprocess import HandlingMissingValueWithReference\n",
    "\n",
    "columns = [\n",
    "    'make',\n",
    "#     'model',\n",
    "    'manufactured',\n",
    "    'engine_cap',\n",
    "    'no_of_owners',\n",
    "    'depreciation',\n",
    "    'road_tax',\n",
    "    'mileage',\n",
    "    'omv_arf_ratio',\n",
    "    'dereg_coe_ratio'\n",
    "]\n",
    "\n",
    "# df_test = HandlingMissingValueWithReference(df, df_test)\n",
    "total_nulls = df_test.isnull().sum()\n",
    "print(total_nulls)\n",
    "df_test = HandlingMissingValueWithImputeReference(df_test, df, columns)"
   ]
  },
  {
   "cell_type": "code",
   "execution_count": 30,
   "id": "27033493",
   "metadata": {},
   "outputs": [
    {
     "data": {
      "text/html": [
       "<div>\n",
       "<style scoped>\n",
       "    .dataframe tbody tr th:only-of-type {\n",
       "        vertical-align: middle;\n",
       "    }\n",
       "\n",
       "    .dataframe tbody tr th {\n",
       "        vertical-align: top;\n",
       "    }\n",
       "\n",
       "    .dataframe thead th {\n",
       "        text-align: right;\n",
       "    }\n",
       "</style>\n",
       "<table border=\"1\" class=\"dataframe\">\n",
       "  <thead>\n",
       "    <tr style=\"text-align: right;\">\n",
       "      <th></th>\n",
       "      <th>make</th>\n",
       "      <th>model</th>\n",
       "      <th>manufactured</th>\n",
       "      <th>type_of_vehicle</th>\n",
       "      <th>engine_cap</th>\n",
       "      <th>no_of_owners</th>\n",
       "      <th>depreciation</th>\n",
       "      <th>road_tax</th>\n",
       "      <th>mileage</th>\n",
       "      <th>omv</th>\n",
       "      <th>...</th>\n",
       "      <th>hybrid cars</th>\n",
       "      <th>imported used vehicle</th>\n",
       "      <th>low mileage car</th>\n",
       "      <th>opc car</th>\n",
       "      <th>parf car</th>\n",
       "      <th>premium ad car</th>\n",
       "      <th>rare &amp; exotic</th>\n",
       "      <th>sgcarmart warranty cars</th>\n",
       "      <th>sta evaluated car</th>\n",
       "      <th>vintage cars</th>\n",
       "    </tr>\n",
       "  </thead>\n",
       "  <tbody>\n",
       "    <tr>\n",
       "      <th>0</th>\n",
       "      <td>29.0</td>\n",
       "      <td>746.0</td>\n",
       "      <td>2015.0</td>\n",
       "      <td>8</td>\n",
       "      <td>1496.0</td>\n",
       "      <td>2.0</td>\n",
       "      <td>17660.0</td>\n",
       "      <td>682.0</td>\n",
       "      <td>112000.0</td>\n",
       "      <td>19229.0</td>\n",
       "      <td>...</td>\n",
       "      <td>0</td>\n",
       "      <td>0</td>\n",
       "      <td>0</td>\n",
       "      <td>0</td>\n",
       "      <td>1</td>\n",
       "      <td>0</td>\n",
       "      <td>0</td>\n",
       "      <td>0</td>\n",
       "      <td>0</td>\n",
       "      <td>0</td>\n",
       "    </tr>\n",
       "    <tr>\n",
       "      <th>1</th>\n",
       "      <td>49.0</td>\n",
       "      <td>41.0</td>\n",
       "      <td>2007.0</td>\n",
       "      <td>3</td>\n",
       "      <td>1598.0</td>\n",
       "      <td>1.0</td>\n",
       "      <td>10920.0</td>\n",
       "      <td>1113.0</td>\n",
       "      <td>120000.0</td>\n",
       "      <td>14347.0</td>\n",
       "      <td>...</td>\n",
       "      <td>0</td>\n",
       "      <td>0</td>\n",
       "      <td>1</td>\n",
       "      <td>0</td>\n",
       "      <td>0</td>\n",
       "      <td>1</td>\n",
       "      <td>0</td>\n",
       "      <td>0</td>\n",
       "      <td>0</td>\n",
       "      <td>0</td>\n",
       "    </tr>\n",
       "    <tr>\n",
       "      <th>2</th>\n",
       "      <td>53.0</td>\n",
       "      <td>235.0</td>\n",
       "      <td>2019.0</td>\n",
       "      <td>6</td>\n",
       "      <td>1998.0</td>\n",
       "      <td>1.0</td>\n",
       "      <td>22120.0</td>\n",
       "      <td>1210.0</td>\n",
       "      <td>43000.0</td>\n",
       "      <td>39863.0</td>\n",
       "      <td>...</td>\n",
       "      <td>0</td>\n",
       "      <td>0</td>\n",
       "      <td>0</td>\n",
       "      <td>0</td>\n",
       "      <td>1</td>\n",
       "      <td>0</td>\n",
       "      <td>0</td>\n",
       "      <td>0</td>\n",
       "      <td>0</td>\n",
       "      <td>0</td>\n",
       "    </tr>\n",
       "    <tr>\n",
       "      <th>3</th>\n",
       "      <td>88.0</td>\n",
       "      <td>748.0</td>\n",
       "      <td>2019.0</td>\n",
       "      <td>3</td>\n",
       "      <td>1496.0</td>\n",
       "      <td>3.0</td>\n",
       "      <td>13700.0</td>\n",
       "      <td>682.0</td>\n",
       "      <td>53300.0</td>\n",
       "      <td>15573.0</td>\n",
       "      <td>...</td>\n",
       "      <td>0</td>\n",
       "      <td>0</td>\n",
       "      <td>0</td>\n",
       "      <td>0</td>\n",
       "      <td>1</td>\n",
       "      <td>1</td>\n",
       "      <td>0</td>\n",
       "      <td>0</td>\n",
       "      <td>0</td>\n",
       "      <td>0</td>\n",
       "    </tr>\n",
       "    <tr>\n",
       "      <th>4</th>\n",
       "      <td>49.0</td>\n",
       "      <td>41.0</td>\n",
       "      <td>2015.0</td>\n",
       "      <td>1</td>\n",
       "      <td>1496.0</td>\n",
       "      <td>3.0</td>\n",
       "      <td>14190.0</td>\n",
       "      <td>682.0</td>\n",
       "      <td>149000.0</td>\n",
       "      <td>18097.0</td>\n",
       "      <td>...</td>\n",
       "      <td>0</td>\n",
       "      <td>0</td>\n",
       "      <td>0</td>\n",
       "      <td>0</td>\n",
       "      <td>1</td>\n",
       "      <td>1</td>\n",
       "      <td>0</td>\n",
       "      <td>0</td>\n",
       "      <td>0</td>\n",
       "      <td>0</td>\n",
       "    </tr>\n",
       "  </tbody>\n",
       "</table>\n",
       "<p>5 rows × 29 columns</p>\n",
       "</div>"
      ],
      "text/plain": [
       "   make  model  manufactured type_of_vehicle  engine_cap  no_of_owners  \\\n",
       "0  29.0  746.0        2015.0               8      1496.0           2.0   \n",
       "1  49.0   41.0        2007.0               3      1598.0           1.0   \n",
       "2  53.0  235.0        2019.0               6      1998.0           1.0   \n",
       "3  88.0  748.0        2019.0               3      1496.0           3.0   \n",
       "4  49.0   41.0        2015.0               1      1496.0           3.0   \n",
       "\n",
       "   depreciation  road_tax   mileage      omv  ...  hybrid cars  \\\n",
       "0       17660.0     682.0  112000.0  19229.0  ...            0   \n",
       "1       10920.0    1113.0  120000.0  14347.0  ...            0   \n",
       "2       22120.0    1210.0   43000.0  39863.0  ...            0   \n",
       "3       13700.0     682.0   53300.0  15573.0  ...            0   \n",
       "4       14190.0     682.0  149000.0  18097.0  ...            0   \n",
       "\n",
       "   imported used vehicle  low mileage car  opc car  parf car  premium ad car  \\\n",
       "0                      0                0        0         1               0   \n",
       "1                      0                1        0         0               1   \n",
       "2                      0                0        0         1               0   \n",
       "3                      0                0        0         1               1   \n",
       "4                      0                0        0         1               1   \n",
       "\n",
       "   rare & exotic  sgcarmart warranty cars  sta evaluated car  vintage cars  \n",
       "0              0                        0                  0             0  \n",
       "1              0                        0                  0             0  \n",
       "2              0                        0                  0             0  \n",
       "3              0                        0                  0             0  \n",
       "4              0                        0                  0             0  \n",
       "\n",
       "[5 rows x 29 columns]"
      ]
     },
     "execution_count": 30,
     "metadata": {},
     "output_type": "execute_result"
    }
   ],
   "source": [
    "df_test.head()"
   ]
  },
  {
   "cell_type": "code",
   "execution_count": 31,
   "id": "d03b6c85",
   "metadata": {},
   "outputs": [
    {
     "name": "stdout",
     "output_type": "stream",
     "text": [
      "Index(['make', 'model', 'manufactured', 'type_of_vehicle', 'engine_cap',\n",
      "       'no_of_owners', 'depreciation', 'road_tax', 'mileage', 'omv', 'arf',\n",
      "       'omv_arf_ratio', 'dereg_coe_ratio', 'car_age', 'almost new car',\n",
      "       'coe car', 'consignment car', 'direct owner sale', 'electric cars',\n",
      "       'hybrid cars', 'imported used vehicle', 'low mileage car', 'opc car',\n",
      "       'parf car', 'premium ad car', 'rare & exotic',\n",
      "       'sgcarmart warranty cars', 'sta evaluated car', 'vintage cars'],\n",
      "      dtype='object')\n",
      "Index(['make', 'model', 'manufactured', 'type_of_vehicle', 'engine_cap',\n",
      "       'no_of_owners', 'depreciation', 'road_tax', 'mileage', 'omv', 'arf',\n",
      "       'omv_arf_ratio', 'dereg_coe_ratio', 'price', 'car_age',\n",
      "       'almost new car', 'coe car', 'consignment car', 'direct owner sale',\n",
      "       'electric cars', 'hybrid cars', 'imported used vehicle',\n",
      "       'low mileage car', 'opc car', 'parf car', 'premium ad car',\n",
      "       'rare & exotic', 'sgcarmart warranty cars', 'sta evaluated car',\n",
      "       'vintage cars'],\n",
      "      dtype='object')\n"
     ]
    }
   ],
   "source": [
    "print(df_test.columns)\n",
    "print(df.columns)"
   ]
  },
  {
   "cell_type": "markdown",
   "id": "cd996336-d74b-4e21-b82a-dcd20d42cdcc",
   "metadata": {},
   "source": [
    "### Check if train data has all models in test data"
   ]
  },
  {
   "cell_type": "code",
   "execution_count": 32,
   "id": "d57e5e92-f7c4-454d-8653-d515f7754e86",
   "metadata": {},
   "outputs": [
    {
     "name": "stdout",
     "output_type": "stream",
     "text": [
      "df does not include {nan, 36.0, 651.0, 659.0, 411.0}\n"
     ]
    }
   ],
   "source": [
    "models_in_df = set(df['model'].unique())\n",
    "models_in_df_test = set(df_test['model'].unique())\n",
    "\n",
    "if models_in_df_test.issubset(models_in_df):\n",
    "    print(\"df includes all models in df_test\")\n",
    "else:\n",
    "    missing_models = models_in_df_test - models_in_df\n",
    "    print(\"df does not include\", missing_models)"
   ]
  },
  {
   "cell_type": "markdown",
   "id": "c681594f-3de4-4511-8154-437e10dee1b6",
   "metadata": {},
   "source": [
    "### Mining code here"
   ]
  },
  {
   "cell_type": "code",
   "execution_count": 33,
   "id": "4c22a91f-729c-4a22-a443-0f05af43f099",
   "metadata": {},
   "outputs": [],
   "source": [
    "from util.DataMining import split_dataframe, split_dataframe_flex\n",
    "from util.DataMining import (\n",
    "    RandomForestMining,\n",
    "    RandomForestMiningByModel,\n",
    "    GradientBoostingMining,\n",
    "    GradientBoostingMiningByModel,\n",
    "    XGBoostMining,\n",
    "    LinearRegressionMining,\n",
    "    LinearRegressionMiningByModel,\n",
    "    CombinedDataMiningRandomForestAndLinearRegression\n",
    ")\n",
    "\n",
    "from sklearn.model_selection import GridSearchCV\n",
    "from sklearn.ensemble import RandomForestClassifier"
   ]
  },
  {
   "cell_type": "code",
   "execution_count": 34,
   "id": "03355739-324a-4a13-a77a-bf301417c9ba",
   "metadata": {},
   "outputs": [],
   "source": [
    "# run_times, rmse_sum = 1, 0\n",
    "# for i in tqdm(range(run_times), desc='Running Random Forest'):\n",
    "#     target_col = 'price'\n",
    "#     x_train, x_test, y_train, y_test = split_dataframe(df, target_col)\n",
    "#     rmse_sum += RandomForestMining(x_train, x_test, y_train, y_test)\n",
    "# print('Average RMSE:', round(rmse_sum / run_times))"
   ]
  },
  {
   "cell_type": "code",
   "execution_count": 35,
   "id": "5469d35d-cf27-470e-97ab-9e4f0b67152d",
   "metadata": {
    "scrolled": false
   },
   "outputs": [],
   "source": [
    "# run_times, rmse_sum = 1, 0\n",
    "# for i in tqdm(range(run_times), desc='Running Random Forest'):\n",
    "#     train_drop_cols = ['price']\n",
    "#     test_cols = ['price', 'model']\n",
    "#     x_train, x_test, y_train, y_test = split_dataframe_flex(df_aug, train_drop_cols, test_cols)\n",
    "#     rmse_sum += RandomForestMiningByModel(x_train, x_test, y_train, y_test)\n",
    "# print('Average RMSE:', round(rmse_sum / run_times))"
   ]
  },
  {
   "cell_type": "code",
   "execution_count": 36,
   "id": "b2e17e4e",
   "metadata": {
    "scrolled": true
   },
   "outputs": [
    {
     "name": "stderr",
     "output_type": "stream",
     "text": [
      "Running XGBoost:  20%|███████████████████▌                                                                              | 1/5 [00:00<00:01,  2.91it/s]"
     ]
    },
    {
     "name": "stdout",
     "output_type": "stream",
     "text": [
      "Running not in develop mode\n",
      "RMSE on test data: 13140.46003938495\n"
     ]
    },
    {
     "name": "stderr",
     "output_type": "stream",
     "text": [
      "\r",
      "Running XGBoost:  40%|███████████████████████████████████████▏                                                          | 2/5 [00:00<00:00,  3.09it/s]"
     ]
    },
    {
     "name": "stdout",
     "output_type": "stream",
     "text": [
      "Running not in develop mode\n",
      "RMSE on test data: 14096.101051966554\n"
     ]
    },
    {
     "name": "stderr",
     "output_type": "stream",
     "text": [
      "\r",
      "Running XGBoost:  60%|██████████████████████████████████████████████████████████▊                                       | 3/5 [00:00<00:00,  3.11it/s]"
     ]
    },
    {
     "name": "stdout",
     "output_type": "stream",
     "text": [
      "Running not in develop mode\n",
      "RMSE on test data: 16576.65168696996\n"
     ]
    },
    {
     "name": "stderr",
     "output_type": "stream",
     "text": [
      "\r",
      "Running XGBoost:  80%|██████████████████████████████████████████████████████████████████████████████▍                   | 4/5 [00:01<00:00,  3.17it/s]"
     ]
    },
    {
     "name": "stdout",
     "output_type": "stream",
     "text": [
      "Running not in develop mode\n",
      "RMSE on test data: 17132.915678012374\n"
     ]
    },
    {
     "name": "stderr",
     "output_type": "stream",
     "text": [
      "Running XGBoost: 100%|██████████████████████████████████████████████████████████████████████████████████████████████████| 5/5 [00:01<00:00,  3.11it/s]"
     ]
    },
    {
     "name": "stdout",
     "output_type": "stream",
     "text": [
      "Running not in develop mode\n",
      "RMSE on test data: 13580.462872042624\n",
      "Average RMSE: 14905\n"
     ]
    },
    {
     "name": "stderr",
     "output_type": "stream",
     "text": [
      "\n"
     ]
    }
   ],
   "source": [
    "selected_columns = [\n",
    "    'make',\n",
    "    'model',\n",
    "#     'manufactured',\n",
    "    'type_of_vehicle',\n",
    "    'engine_cap',\n",
    "    'no_of_owners',\n",
    "    'depreciation',\n",
    "    'road_tax',\n",
    "    'mileage',\n",
    "    'omv_arf_ratio',\n",
    "    'dereg_coe_ratio',\n",
    "    'car_age',\n",
    "    'omv',\n",
    "    'arf',\n",
    "#     'almost new car',\n",
    "#     'coe car',\n",
    "#     'consignment car',\n",
    "#     'direct owner sale',\n",
    "#     'electric cars',\n",
    "#     'hybrid cars',\n",
    "#     'imported used vehicle',\n",
    "#     'low mileage car',\n",
    "#     'opc car',\n",
    "#     'parf car',\n",
    "#     'premium ad car',\n",
    "#     'rare & exotic',\n",
    "#     'sgcarmart warranty cars',\n",
    "#     'sta evaluated car',\n",
    "#     'vintage cars',\n",
    "    'price'\n",
    "]\n",
    "\n",
    "df_aug_filtered = df_aug[selected_columns]\n",
    "\n",
    "run_times, rmse_sum = 5, 0\n",
    "for i in tqdm(range(run_times), desc='Running XGBoost'):\n",
    "    train_drop_cols = ['price']\n",
    "    x_train, x_test, y_train, y_test = split_dataframe(df_aug_filtered, train_drop_cols)\n",
    "    rmse_sum += XGBoostMining(x_train, x_test, y_train, y_test)\n",
    "print('Average RMSE:', round(rmse_sum / run_times))"
   ]
  },
  {
   "cell_type": "code",
   "execution_count": 37,
   "id": "f43a1f58",
   "metadata": {
    "scrolled": true
   },
   "outputs": [
    {
     "data": {
      "text/html": [
       "<div>\n",
       "<style scoped>\n",
       "    .dataframe tbody tr th:only-of-type {\n",
       "        vertical-align: middle;\n",
       "    }\n",
       "\n",
       "    .dataframe tbody tr th {\n",
       "        vertical-align: top;\n",
       "    }\n",
       "\n",
       "    .dataframe thead th {\n",
       "        text-align: right;\n",
       "    }\n",
       "</style>\n",
       "<table border=\"1\" class=\"dataframe\">\n",
       "  <thead>\n",
       "    <tr style=\"text-align: right;\">\n",
       "      <th></th>\n",
       "      <th>make</th>\n",
       "      <th>model</th>\n",
       "      <th>manufactured</th>\n",
       "      <th>type_of_vehicle</th>\n",
       "      <th>engine_cap</th>\n",
       "      <th>no_of_owners</th>\n",
       "      <th>depreciation</th>\n",
       "      <th>road_tax</th>\n",
       "      <th>mileage</th>\n",
       "      <th>omv</th>\n",
       "      <th>...</th>\n",
       "      <th>hybrid cars</th>\n",
       "      <th>imported used vehicle</th>\n",
       "      <th>low mileage car</th>\n",
       "      <th>opc car</th>\n",
       "      <th>parf car</th>\n",
       "      <th>premium ad car</th>\n",
       "      <th>rare &amp; exotic</th>\n",
       "      <th>sgcarmart warranty cars</th>\n",
       "      <th>sta evaluated car</th>\n",
       "      <th>vintage cars</th>\n",
       "    </tr>\n",
       "  </thead>\n",
       "  <tbody>\n",
       "    <tr>\n",
       "      <th>0</th>\n",
       "      <td>29.0</td>\n",
       "      <td>746.0</td>\n",
       "      <td>2015.0</td>\n",
       "      <td>8</td>\n",
       "      <td>1496.0</td>\n",
       "      <td>2.0</td>\n",
       "      <td>17660.0</td>\n",
       "      <td>682.0</td>\n",
       "      <td>112000.0</td>\n",
       "      <td>19229.0</td>\n",
       "      <td>...</td>\n",
       "      <td>0</td>\n",
       "      <td>0</td>\n",
       "      <td>0</td>\n",
       "      <td>0</td>\n",
       "      <td>1</td>\n",
       "      <td>0</td>\n",
       "      <td>0</td>\n",
       "      <td>0</td>\n",
       "      <td>0</td>\n",
       "      <td>0</td>\n",
       "    </tr>\n",
       "    <tr>\n",
       "      <th>1</th>\n",
       "      <td>49.0</td>\n",
       "      <td>41.0</td>\n",
       "      <td>2007.0</td>\n",
       "      <td>3</td>\n",
       "      <td>1598.0</td>\n",
       "      <td>1.0</td>\n",
       "      <td>10920.0</td>\n",
       "      <td>1113.0</td>\n",
       "      <td>120000.0</td>\n",
       "      <td>14347.0</td>\n",
       "      <td>...</td>\n",
       "      <td>0</td>\n",
       "      <td>0</td>\n",
       "      <td>1</td>\n",
       "      <td>0</td>\n",
       "      <td>0</td>\n",
       "      <td>1</td>\n",
       "      <td>0</td>\n",
       "      <td>0</td>\n",
       "      <td>0</td>\n",
       "      <td>0</td>\n",
       "    </tr>\n",
       "    <tr>\n",
       "      <th>2</th>\n",
       "      <td>53.0</td>\n",
       "      <td>235.0</td>\n",
       "      <td>2019.0</td>\n",
       "      <td>6</td>\n",
       "      <td>1998.0</td>\n",
       "      <td>1.0</td>\n",
       "      <td>22120.0</td>\n",
       "      <td>1210.0</td>\n",
       "      <td>43000.0</td>\n",
       "      <td>39863.0</td>\n",
       "      <td>...</td>\n",
       "      <td>0</td>\n",
       "      <td>0</td>\n",
       "      <td>0</td>\n",
       "      <td>0</td>\n",
       "      <td>1</td>\n",
       "      <td>0</td>\n",
       "      <td>0</td>\n",
       "      <td>0</td>\n",
       "      <td>0</td>\n",
       "      <td>0</td>\n",
       "    </tr>\n",
       "    <tr>\n",
       "      <th>3</th>\n",
       "      <td>88.0</td>\n",
       "      <td>748.0</td>\n",
       "      <td>2019.0</td>\n",
       "      <td>3</td>\n",
       "      <td>1496.0</td>\n",
       "      <td>3.0</td>\n",
       "      <td>13700.0</td>\n",
       "      <td>682.0</td>\n",
       "      <td>53300.0</td>\n",
       "      <td>15573.0</td>\n",
       "      <td>...</td>\n",
       "      <td>0</td>\n",
       "      <td>0</td>\n",
       "      <td>0</td>\n",
       "      <td>0</td>\n",
       "      <td>1</td>\n",
       "      <td>1</td>\n",
       "      <td>0</td>\n",
       "      <td>0</td>\n",
       "      <td>0</td>\n",
       "      <td>0</td>\n",
       "    </tr>\n",
       "    <tr>\n",
       "      <th>4</th>\n",
       "      <td>49.0</td>\n",
       "      <td>41.0</td>\n",
       "      <td>2015.0</td>\n",
       "      <td>1</td>\n",
       "      <td>1496.0</td>\n",
       "      <td>3.0</td>\n",
       "      <td>14190.0</td>\n",
       "      <td>682.0</td>\n",
       "      <td>149000.0</td>\n",
       "      <td>18097.0</td>\n",
       "      <td>...</td>\n",
       "      <td>0</td>\n",
       "      <td>0</td>\n",
       "      <td>0</td>\n",
       "      <td>0</td>\n",
       "      <td>1</td>\n",
       "      <td>1</td>\n",
       "      <td>0</td>\n",
       "      <td>0</td>\n",
       "      <td>0</td>\n",
       "      <td>0</td>\n",
       "    </tr>\n",
       "  </tbody>\n",
       "</table>\n",
       "<p>5 rows × 29 columns</p>\n",
       "</div>"
      ],
      "text/plain": [
       "   make  model  manufactured type_of_vehicle  engine_cap  no_of_owners  \\\n",
       "0  29.0  746.0        2015.0               8      1496.0           2.0   \n",
       "1  49.0   41.0        2007.0               3      1598.0           1.0   \n",
       "2  53.0  235.0        2019.0               6      1998.0           1.0   \n",
       "3  88.0  748.0        2019.0               3      1496.0           3.0   \n",
       "4  49.0   41.0        2015.0               1      1496.0           3.0   \n",
       "\n",
       "   depreciation  road_tax   mileage      omv  ...  hybrid cars  \\\n",
       "0       17660.0     682.0  112000.0  19229.0  ...            0   \n",
       "1       10920.0    1113.0  120000.0  14347.0  ...            0   \n",
       "2       22120.0    1210.0   43000.0  39863.0  ...            0   \n",
       "3       13700.0     682.0   53300.0  15573.0  ...            0   \n",
       "4       14190.0     682.0  149000.0  18097.0  ...            0   \n",
       "\n",
       "   imported used vehicle  low mileage car  opc car  parf car  premium ad car  \\\n",
       "0                      0                0        0         1               0   \n",
       "1                      0                1        0         0               1   \n",
       "2                      0                0        0         1               0   \n",
       "3                      0                0        0         1               1   \n",
       "4                      0                0        0         1               1   \n",
       "\n",
       "   rare & exotic  sgcarmart warranty cars  sta evaluated car  vintage cars  \n",
       "0              0                        0                  0             0  \n",
       "1              0                        0                  0             0  \n",
       "2              0                        0                  0             0  \n",
       "3              0                        0                  0             0  \n",
       "4              0                        0                  0             0  \n",
       "\n",
       "[5 rows x 29 columns]"
      ]
     },
     "execution_count": 37,
     "metadata": {},
     "output_type": "execute_result"
    }
   ],
   "source": [
    "df_test.head()"
   ]
  },
  {
   "cell_type": "code",
   "execution_count": 38,
   "id": "f5716ffc-b01c-4851-b397-e498964f3afa",
   "metadata": {},
   "outputs": [
    {
     "name": "stdout",
     "output_type": "stream",
     "text": [
      "    Id      Predicted\n",
      "0    0   22187.541016\n",
      "1    1   33934.449219\n",
      "2    2  158490.984375\n",
      "3    3   76098.468750\n",
      "4    4   24278.529297\n",
      "5    5   75574.937500\n",
      "6    6   75925.726562\n",
      "7    7  204159.671875\n",
      "8    8   67015.765625\n",
      "9    9   68682.593750\n",
      "10  10   55705.699219\n",
      "11  11  119554.281250\n",
      "12  12  109528.281250\n",
      "13  13   79220.890625\n",
      "14  14   68134.585938\n",
      "15  15   14353.547852\n",
      "16  16   78719.882812\n",
      "17  17   52718.089844\n",
      "18  18  134685.000000\n",
      "19  19  102051.070312\n"
     ]
    }
   ],
   "source": [
    "df_selected = df[selected_columns]\n",
    "\n",
    "x_train, y_train = df_selected.drop(columns=['price']), df[['price']]\n",
    "x_test = df_test[x_train.columns]\n",
    "\n",
    "res_nomodel = XGBoostMining(x_train, x_test, y_train, dev=True)\n",
    "res_nomodel.reset_index(inplace=True)\n",
    "res_nomodel.rename(columns={'index': 'Id'}, inplace=True)\n",
    "print(res_nomodel.head(20))"
   ]
  },
  {
   "cell_type": "code",
   "execution_count": 39,
   "id": "a9dbb0dd",
   "metadata": {},
   "outputs": [
    {
     "data": {
      "text/plain": [
       "Index(['make', 'model', 'type_of_vehicle', 'engine_cap', 'no_of_owners',\n",
       "       'depreciation', 'road_tax', 'mileage', 'omv_arf_ratio',\n",
       "       'dereg_coe_ratio', 'car_age', 'omv', 'arf'],\n",
       "      dtype='object')"
      ]
     },
     "execution_count": 39,
     "metadata": {},
     "output_type": "execute_result"
    }
   ],
   "source": [
    "x_train.columns"
   ]
  },
  {
   "cell_type": "code",
   "execution_count": 40,
   "id": "a96b9e7e",
   "metadata": {},
   "outputs": [],
   "source": [
    "res_nomodel.to_csv('./data/xgb_result.csv', index=False)"
   ]
  },
  {
   "cell_type": "code",
   "execution_count": 41,
   "id": "d5fd9187",
   "metadata": {},
   "outputs": [
    {
     "name": "stdout",
     "output_type": "stream",
     "text": [
      "Index(['make', 'model', 'manufactured', 'type_of_vehicle', 'engine_cap',\n",
      "       'no_of_owners', 'depreciation', 'road_tax', 'mileage', 'omv', 'arf',\n",
      "       'omv_arf_ratio', 'dereg_coe_ratio', 'car_age', 'almost new car',\n",
      "       'coe car', 'consignment car', 'direct owner sale', 'electric cars',\n",
      "       'hybrid cars', 'imported used vehicle', 'low mileage car', 'opc car',\n",
      "       'parf car', 'premium ad car', 'rare & exotic',\n",
      "       'sgcarmart warranty cars', 'sta evaluated car', 'vintage cars'],\n",
      "      dtype='object')\n",
      "Index(['make', 'model', 'type_of_vehicle', 'engine_cap', 'no_of_owners',\n",
      "       'depreciation', 'road_tax', 'mileage', 'omv_arf_ratio',\n",
      "       'dereg_coe_ratio', 'car_age', 'omv', 'arf'],\n",
      "      dtype='object')\n"
     ]
    }
   ],
   "source": [
    "print(df_test.columns)\n",
    "print(x_train.columns)"
   ]
  },
  {
   "cell_type": "markdown",
   "id": "4229aeee-e40d-4332-aab2-82beceb910a1",
   "metadata": {},
   "source": [
    "### This cell do prediction model by model"
   ]
  },
  {
   "cell_type": "code",
   "execution_count": 44,
   "id": "900b06eb-489d-40c2-8722-61bcd5fd87a6",
   "metadata": {
    "scrolled": true
   },
   "outputs": [
    {
     "name": "stdout",
     "output_type": "stream",
     "text": [
      "79\n"
     ]
    }
   ],
   "source": [
    "x_train, y_train = df.drop(columns=['price']), df[['price', 'model']]\n",
    "x_test = df_test[x_train.columns].dropna(subset=['model'])\n",
    "\n",
    "null_counts = x_test.isnull().sum().sum()\n",
    "print(null_counts)"
   ]
  },
  {
   "cell_type": "code",
   "execution_count": 45,
   "id": "ff01db6a-6244-486e-9871-7bef6ddcdaea",
   "metadata": {
    "scrolled": false
   },
   "outputs": [
    {
     "name": "stderr",
     "output_type": "stream",
     "text": [
      "/Users/enqurance/Desktop/NUS/Sem1_AY2024-2025/CS5228/Projects/CS5228_Project/util/DataMining.py:146: FutureWarning: The behavior of DataFrame concatenation with empty or all-NA entries is deprecated. In a future version, this will no longer exclude empty or all-NA columns when determining the result dtypes. To retain the old behavior, exclude the relevant entries before the concat operation.\n",
      "  y_pred = pd.concat([y_pred, temp_df])\n"
     ]
    },
    {
     "ename": "KeyError",
     "evalue": "411.0",
     "output_type": "error",
     "traceback": [
      "\u001b[0;31m---------------------------------------------------------------------------\u001b[0m",
      "\u001b[0;31mKeyError\u001b[0m                                  Traceback (most recent call last)",
      "Cell \u001b[0;32mIn[45], line 1\u001b[0m\n\u001b[0;32m----> 1\u001b[0m res_model \u001b[38;5;241m=\u001b[39m \u001b[43mRandomForestMiningByModel\u001b[49m\u001b[43m(\u001b[49m\u001b[43mx_train\u001b[49m\u001b[43m,\u001b[49m\u001b[43m \u001b[49m\u001b[43mx_test\u001b[49m\u001b[43m,\u001b[49m\u001b[43m \u001b[49m\u001b[43my_train\u001b[49m\u001b[43m,\u001b[49m\u001b[43m \u001b[49m\u001b[43mdev\u001b[49m\u001b[38;5;241;43m=\u001b[39;49m\u001b[38;5;28;43;01mTrue\u001b[39;49;00m\u001b[43m)\u001b[49m\n\u001b[1;32m      2\u001b[0m \u001b[38;5;28mprint\u001b[39m(res_model\u001b[38;5;241m.\u001b[39mhead())\n",
      "File \u001b[0;32m~/Desktop/NUS/Sem1_AY2024-2025/CS5228/Projects/CS5228_Project/util/DataMining.py:138\u001b[0m, in \u001b[0;36mRandomForestMiningByModel\u001b[0;34m(x_train, x_test, y_train, y_test, dev)\u001b[0m\n\u001b[1;32m    136\u001b[0m y_pred \u001b[38;5;241m=\u001b[39m pd\u001b[38;5;241m.\u001b[39mDataFrame(columns\u001b[38;5;241m=\u001b[39m[\u001b[38;5;124m'\u001b[39m\u001b[38;5;124mmodel\u001b[39m\u001b[38;5;124m'\u001b[39m, \u001b[38;5;124m'\u001b[39m\u001b[38;5;124mPredicted\u001b[39m\u001b[38;5;124m'\u001b[39m])\n\u001b[1;32m    137\u001b[0m \u001b[38;5;28;01mfor\u001b[39;00m index, test \u001b[38;5;129;01min\u001b[39;00m x_test\u001b[38;5;241m.\u001b[39miterrows():\n\u001b[0;32m--> 138\u001b[0m \tmodel \u001b[38;5;241m=\u001b[39m \u001b[43mmodel_dict\u001b[49m\u001b[43m[\u001b[49m\u001b[43mtest\u001b[49m\u001b[43m[\u001b[49m\u001b[38;5;124;43m'\u001b[39;49m\u001b[38;5;124;43mmodel\u001b[39;49m\u001b[38;5;124;43m'\u001b[39;49m\u001b[43m]\u001b[49m\u001b[43m]\u001b[49m\n\u001b[1;32m    139\u001b[0m \tX \u001b[38;5;241m=\u001b[39m test\u001b[38;5;241m.\u001b[39mdrop([\u001b[38;5;124m'\u001b[39m\u001b[38;5;124mmodel\u001b[39m\u001b[38;5;124m'\u001b[39m])\u001b[38;5;241m.\u001b[39mto_frame()\u001b[38;5;241m.\u001b[39mT\n\u001b[1;32m    140\u001b[0m \ty_pred_new \u001b[38;5;241m=\u001b[39m model\u001b[38;5;241m.\u001b[39mpredict(X)\n",
      "\u001b[0;31mKeyError\u001b[0m: 411.0"
     ]
    }
   ],
   "source": [
    "res_model = RandomForestMiningByModel(x_train, x_test, y_train, dev=True)\n",
    "print(res_model.head())"
   ]
  },
  {
   "cell_type": "markdown",
   "id": "79b1c5d2-e091-44e2-ab66-c4ef272ab0a6",
   "metadata": {},
   "source": [
    "### This cell do prediction on test data with 'model' attribute missing"
   ]
  },
  {
   "cell_type": "code",
   "execution_count": null,
   "id": "ee95f3a0-b95a-463e-ad61-e8865d6f02d4",
   "metadata": {},
   "outputs": [],
   "source": [
    "x_train, y_train = df.drop(columns=['price', 'model']), df[['price']]\n",
    "df_test_unmapped = df_test[df_test['model'].isna()]\n",
    "x_test = df_test_unmapped[x_train.columns]\n",
    "\n",
    "res_nomodel = RandomForestMining(x_train, x_test, y_train, dev=True)\n",
    "print(res_nomodel.head())"
   ]
  },
  {
   "cell_type": "code",
   "execution_count": null,
   "id": "89a93b02-347e-45fb-82bd-b1627555e72f",
   "metadata": {},
   "outputs": [],
   "source": [
    "print(len(res_model))\n",
    "print(len(res_nomodel))\n",
    "res = pd.concat([res_model, res_nomodel])\n",
    "res.to_csv('./data/res_by_model_original.csv')\n",
    "res.reset_index(inplace=True)\n",
    "res.rename(columns={'index': 'Id'}, inplace=True)\n",
    "res_sorted = res.sort_values(by='Id')\n",
    "res_sorted.to_csv('./data/res_by_model_rf.csv', index=False)"
   ]
  },
  {
   "cell_type": "code",
   "execution_count": null,
   "id": "387f2301-f281-4dfc-b417-c3966a2fe6aa",
   "metadata": {},
   "outputs": [],
   "source": [
    "res.head()"
   ]
  },
  {
   "cell_type": "code",
   "execution_count": null,
   "id": "e0936b0f-8a2b-40a8-8c08-ad40e867e272",
   "metadata": {},
   "outputs": [],
   "source": []
  },
  {
   "cell_type": "code",
   "execution_count": null,
   "id": "af8f1b47",
   "metadata": {},
   "outputs": [],
   "source": []
  }
 ],
 "metadata": {
  "kernelspec": {
   "display_name": "Python 3 (ipykernel)",
   "language": "python",
   "name": "python3"
  },
  "language_info": {
   "codemirror_mode": {
    "name": "ipython",
    "version": 3
   },
   "file_extension": ".py",
   "mimetype": "text/x-python",
   "name": "python",
   "nbconvert_exporter": "python",
   "pygments_lexer": "ipython3",
   "version": "3.9.18"
  }
 },
 "nbformat": 4,
 "nbformat_minor": 5
}
