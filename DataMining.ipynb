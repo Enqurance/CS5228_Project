{
 "cells": [
  {
   "cell_type": "markdown",
   "id": "9139239be4d3d26a",
   "metadata": {},
   "source": [
    "<img src=\"images/img.png\" />"
   ]
  },
  {
   "cell_type": "markdown",
   "id": "28a5ce1aa953b915",
   "metadata": {},
   "source": [
    "# CS5228 Project, Group 32"
   ]
  },
  {
   "cell_type": "code",
   "execution_count": 68,
   "id": "5287322f-3943-4058-8448-970302c9ff79",
   "metadata": {},
   "outputs": [
    {
     "name": "stdout",
     "output_type": "stream",
     "text": [
      "The autoreload extension is already loaded. To reload it, use:\n",
      "  %reload_ext autoreload\n"
     ]
    }
   ],
   "source": [
    "# Auto reload\n",
    "%load_ext autoreload\n",
    "%autoreload 2"
   ]
  },
  {
   "cell_type": "code",
   "execution_count": 97,
   "id": "1e21c02e",
   "metadata": {},
   "outputs": [],
   "source": [
    "import os\n",
    "import json\n",
    "import pandas as pd\n",
    "from sklearn.preprocessing import LabelEncoder\n",
    "from sklearn.preprocessing import MultiLabelBinarizer\n",
    "from tqdm import tqdm\n",
    "import seaborn as sns\n",
    "import matplotlib.pyplot as plt"
   ]
  },
  {
   "cell_type": "code",
   "execution_count": 98,
   "id": "4c22a91f-729c-4a22-a443-0f05af43f099",
   "metadata": {},
   "outputs": [],
   "source": [
    "from util.DataMining import split_dataframe, split_dataframe_flex\n",
    "from util.DataMining import (\n",
    "    RandomForestMining,\n",
    "    RandomForestMiningByModel,\n",
    "    GradientBoostingMining,\n",
    "    GradientBoostingMiningByModel,\n",
    "    XGBoostMining,\n",
    "    XGBoostMiningByMake,\n",
    "    LinearRegressionMining,\n",
    "    LinearRegressionMiningByModel,\n",
    ")\n",
    "\n",
    "from sklearn.model_selection import GridSearchCV\n",
    "from sklearn.ensemble import RandomForestClassifier"
   ]
  },
  {
   "cell_type": "markdown",
   "id": "c681594f-3de4-4511-8154-437e10dee1b6",
   "metadata": {},
   "source": [
    "## Code cells for data mining code here"
   ]
  },
  {
   "cell_type": "code",
   "execution_count": 176,
   "id": "a72bb88a",
   "metadata": {},
   "outputs": [],
   "source": [
    "train_file = './data/train_preprocessed_impute.csv'\n",
    "test_file = './data/test_preprocessed.csv'\n",
    "\n",
    "df = pd.read_csv(train_file)\n",
    "df_test = pd.read_csv(test_file)"
   ]
  },
  {
   "cell_type": "code",
   "execution_count": 201,
   "id": "b2e17e4e",
   "metadata": {
    "scrolled": true
   },
   "outputs": [
    {
     "name": "stderr",
     "output_type": "stream",
     "text": [
      "Running XGBoost:  20%|████████████████████████████▏                                                                                                                | 1/5 [00:02<00:08,  2.18s/it]"
     ]
    },
    {
     "name": "stdout",
     "output_type": "stream",
     "text": [
      "Running not in develop mode\n",
      "RMSE on test data: 25214.22693797391\n"
     ]
    },
    {
     "name": "stderr",
     "output_type": "stream",
     "text": [
      "\r",
      "Running XGBoost:  40%|████████████████████████████████████████████████████████▍                                                                                    | 2/5 [00:04<00:06,  2.18s/it]"
     ]
    },
    {
     "name": "stdout",
     "output_type": "stream",
     "text": [
      "Running not in develop mode\n",
      "RMSE on test data: 20578.68561188324\n"
     ]
    },
    {
     "name": "stderr",
     "output_type": "stream",
     "text": [
      "\r",
      "Running XGBoost:  60%|████████████████████████████████████████████████████████████████████████████████████▌                                                        | 3/5 [00:06<00:04,  2.16s/it]"
     ]
    },
    {
     "name": "stdout",
     "output_type": "stream",
     "text": [
      "Running not in develop mode\n",
      "RMSE on test data: 22772.582142339405\n"
     ]
    },
    {
     "name": "stderr",
     "output_type": "stream",
     "text": [
      "\r",
      "Running XGBoost:  80%|████████████████████████████████████████████████████████████████████████████████████████████████████████████████▊                            | 4/5 [00:08<00:02,  2.23s/it]"
     ]
    },
    {
     "name": "stdout",
     "output_type": "stream",
     "text": [
      "Running not in develop mode\n",
      "RMSE on test data: 23068.46057765834\n"
     ]
    },
    {
     "name": "stderr",
     "output_type": "stream",
     "text": [
      "Running XGBoost: 100%|█████████████████████████████████████████████████████████████████████████████████████████████████████████████████████████████████████████████| 5/5 [00:11<00:00,  2.36s/it]"
     ]
    },
    {
     "name": "stdout",
     "output_type": "stream",
     "text": [
      "Running not in develop mode\n",
      "RMSE on test data: 23558.354721812186\n",
      "Average RMSE: 23038\n"
     ]
    },
    {
     "name": "stderr",
     "output_type": "stream",
     "text": [
      "\n"
     ]
    }
   ],
   "source": [
    "selected_columns = [\n",
    "    'make',\n",
    "    'model',\n",
    "    'type_of_vehicle',\n",
    "    'engine_cap',\n",
    "    'no_of_owners',\n",
    "    'depreciation',\n",
    "    'power',\n",
    "    'road_tax',\n",
    "    'mileage',\n",
    "    'omv_arf_ratio',\n",
    "    'dereg_coe_ratio',\n",
    "    'car_age',\n",
    "    'omv',\n",
    "    'arf',\n",
    "    'price',\n",
    "    'coe car',\n",
    "    'parf car',\n",
    "]\n",
    "\n",
    "df_filtered = df[selected_columns]\n",
    "\n",
    "run_times, rmse_sum = 5, 0\n",
    "for i in tqdm(range(run_times), desc='Running XGBoost'):\n",
    "    train_drop_cols = ['price']\n",
    "    x_train, x_test, y_train, y_test = split_dataframe(df_filtered, train_drop_cols)\n",
    "    rmse_sum += XGBoostMining(x_train, x_test, y_train, y_test)\n",
    "print('Average RMSE:', round(rmse_sum / run_times))"
   ]
  },
  {
   "cell_type": "code",
   "execution_count": 202,
   "id": "f43a1f58",
   "metadata": {
    "scrolled": true
   },
   "outputs": [
    {
     "data": {
      "text/html": [
       "<div>\n",
       "<style scoped>\n",
       "    .dataframe tbody tr th:only-of-type {\n",
       "        vertical-align: middle;\n",
       "    }\n",
       "\n",
       "    .dataframe tbody tr th {\n",
       "        vertical-align: top;\n",
       "    }\n",
       "\n",
       "    .dataframe thead th {\n",
       "        text-align: right;\n",
       "    }\n",
       "</style>\n",
       "<table border=\"1\" class=\"dataframe\">\n",
       "  <thead>\n",
       "    <tr style=\"text-align: right;\">\n",
       "      <th></th>\n",
       "      <th>make</th>\n",
       "      <th>model</th>\n",
       "      <th>type_of_vehicle</th>\n",
       "      <th>engine_cap</th>\n",
       "      <th>no_of_owners</th>\n",
       "      <th>depreciation</th>\n",
       "      <th>power</th>\n",
       "      <th>road_tax</th>\n",
       "      <th>mileage</th>\n",
       "      <th>omv_arf_ratio</th>\n",
       "      <th>dereg_coe_ratio</th>\n",
       "      <th>car_age</th>\n",
       "      <th>omv</th>\n",
       "      <th>arf</th>\n",
       "      <th>coe car</th>\n",
       "      <th>parf car</th>\n",
       "    </tr>\n",
       "  </thead>\n",
       "  <tbody>\n",
       "    <tr>\n",
       "      <th>2928</th>\n",
       "      <td>4</td>\n",
       "      <td>132.0</td>\n",
       "      <td>2</td>\n",
       "      <td>999.0</td>\n",
       "      <td>1.0</td>\n",
       "      <td>16200.0</td>\n",
       "      <td>85.0</td>\n",
       "      <td>392.000000</td>\n",
       "      <td>23889.000000</td>\n",
       "      <td>0.963609</td>\n",
       "      <td>1.072579</td>\n",
       "      <td>4</td>\n",
       "      <td>22084.0</td>\n",
       "      <td>22918.0</td>\n",
       "      <td>0</td>\n",
       "      <td>1</td>\n",
       "    </tr>\n",
       "    <tr>\n",
       "      <th>4386</th>\n",
       "      <td>32</td>\n",
       "      <td>580.0</td>\n",
       "      <td>2</td>\n",
       "      <td>2997.0</td>\n",
       "      <td>2.0</td>\n",
       "      <td>39890.0</td>\n",
       "      <td>298.0</td>\n",
       "      <td>2382.000000</td>\n",
       "      <td>79000.000000</td>\n",
       "      <td>0.818745</td>\n",
       "      <td>0.870106</td>\n",
       "      <td>7</td>\n",
       "      <td>44787.0</td>\n",
       "      <td>54702.0</td>\n",
       "      <td>0</td>\n",
       "      <td>1</td>\n",
       "    </tr>\n",
       "    <tr>\n",
       "      <th>19835</th>\n",
       "      <td>54</td>\n",
       "      <td>317.0</td>\n",
       "      <td>6</td>\n",
       "      <td>1998.0</td>\n",
       "      <td>6.0</td>\n",
       "      <td>26780.0</td>\n",
       "      <td>206.0</td>\n",
       "      <td>1815.000000</td>\n",
       "      <td>141444.474398</td>\n",
       "      <td>1.000000</td>\n",
       "      <td>0.410672</td>\n",
       "      <td>16</td>\n",
       "      <td>34499.0</td>\n",
       "      <td>34499.0</td>\n",
       "      <td>1</td>\n",
       "      <td>0</td>\n",
       "    </tr>\n",
       "    <tr>\n",
       "      <th>3834</th>\n",
       "      <td>88</td>\n",
       "      <td>273.0</td>\n",
       "      <td>9</td>\n",
       "      <td>2755.0</td>\n",
       "      <td>1.0</td>\n",
       "      <td>13340.0</td>\n",
       "      <td>97.0</td>\n",
       "      <td>2672.393568</td>\n",
       "      <td>66273.603115</td>\n",
       "      <td>19.994051</td>\n",
       "      <td>0.787134</td>\n",
       "      <td>2</td>\n",
       "      <td>33610.0</td>\n",
       "      <td>1681.0</td>\n",
       "      <td>0</td>\n",
       "      <td>0</td>\n",
       "    </tr>\n",
       "    <tr>\n",
       "      <th>21051</th>\n",
       "      <td>58</td>\n",
       "      <td>542.0</td>\n",
       "      <td>10</td>\n",
       "      <td>1597.0</td>\n",
       "      <td>1.0</td>\n",
       "      <td>9260.0</td>\n",
       "      <td>105.0</td>\n",
       "      <td>766.490801</td>\n",
       "      <td>59598.532941</td>\n",
       "      <td>19.983333</td>\n",
       "      <td>0.917806</td>\n",
       "      <td>1</td>\n",
       "      <td>15587.0</td>\n",
       "      <td>780.0</td>\n",
       "      <td>0</td>\n",
       "      <td>0</td>\n",
       "    </tr>\n",
       "  </tbody>\n",
       "</table>\n",
       "</div>"
      ],
      "text/plain": [
       "       make  model  type_of_vehicle  engine_cap  no_of_owners  depreciation  \\\n",
       "2928      4  132.0                2       999.0           1.0       16200.0   \n",
       "4386     32  580.0                2      2997.0           2.0       39890.0   \n",
       "19835    54  317.0                6      1998.0           6.0       26780.0   \n",
       "3834     88  273.0                9      2755.0           1.0       13340.0   \n",
       "21051    58  542.0               10      1597.0           1.0        9260.0   \n",
       "\n",
       "       power     road_tax        mileage  omv_arf_ratio  dereg_coe_ratio  \\\n",
       "2928    85.0   392.000000   23889.000000       0.963609         1.072579   \n",
       "4386   298.0  2382.000000   79000.000000       0.818745         0.870106   \n",
       "19835  206.0  1815.000000  141444.474398       1.000000         0.410672   \n",
       "3834    97.0  2672.393568   66273.603115      19.994051         0.787134   \n",
       "21051  105.0   766.490801   59598.532941      19.983333         0.917806   \n",
       "\n",
       "       car_age      omv      arf  coe car  parf car  \n",
       "2928         4  22084.0  22918.0        0         1  \n",
       "4386         7  44787.0  54702.0        0         1  \n",
       "19835       16  34499.0  34499.0        1         0  \n",
       "3834         2  33610.0   1681.0        0         0  \n",
       "21051        1  15587.0    780.0        0         0  "
      ]
     },
     "execution_count": 202,
     "metadata": {},
     "output_type": "execute_result"
    }
   ],
   "source": [
    "x_train.head()"
   ]
  },
  {
   "cell_type": "code",
   "execution_count": 203,
   "id": "f5716ffc-b01c-4851-b397-e498964f3afa",
   "metadata": {},
   "outputs": [],
   "source": [
    "df_selected = df[selected_columns]\n",
    "\n",
    "x_train, y_train = df_selected.drop(columns=['price']), df[['price']]\n",
    "x_test = df_test[x_train.columns]\n",
    "\n",
    "res_nomodel = XGBoostMining(x_train, x_test, y_train, dev=True)\n",
    "res_nomodel.reset_index(inplace=True)\n",
    "res_nomodel.rename(columns={'index': 'Id'}, inplace=True)\n",
    "res_nomodel.to_csv('./data/xgb_result.csv', index=False)"
   ]
  },
  {
   "cell_type": "markdown",
   "id": "4229aeee-e40d-4332-aab2-82beceb910a1",
   "metadata": {},
   "source": [
    "### This cell do prediction model by model"
   ]
  },
  {
   "cell_type": "markdown",
   "id": "a724fe5c",
   "metadata": {},
   "source": [
    "Validation cell"
   ]
  },
  {
   "cell_type": "code",
   "execution_count": 212,
   "id": "02f192a0",
   "metadata": {},
   "outputs": [
    {
     "name": "stderr",
     "output_type": "stream",
     "text": [
      "Running XGBoost:   0%|                                                                                                                                                     | 0/5 [00:00<?, ?it/s]/Users/enqurance/Desktop/NUS/Sem1_AY2024-2025/CS5228/Projects/CS5228_Project/util/DataMining.py:168: FutureWarning: The behavior of DataFrame concatenation with empty or all-NA entries is deprecated. In a future version, this will no longer exclude empty or all-NA columns when determining the result dtypes. To retain the old behavior, exclude the relevant entries before the concat operation.\n",
      "  missing_models = pd.concat([missing_models, row_df])\n",
      "Running XGBoost:  20%|████████████████████████████                                                                                                                | 1/5 [02:23<09:34, 143.58s/it]"
     ]
    },
    {
     "name": "stdout",
     "output_type": "stream",
     "text": [
      "Running not in develop mode\n",
      "RMSE on test data: 86576.02580016718\n"
     ]
    },
    {
     "name": "stderr",
     "output_type": "stream",
     "text": [
      "/Users/enqurance/Desktop/NUS/Sem1_AY2024-2025/CS5228/Projects/CS5228_Project/util/DataMining.py:168: FutureWarning: The behavior of DataFrame concatenation with empty or all-NA entries is deprecated. In a future version, this will no longer exclude empty or all-NA columns when determining the result dtypes. To retain the old behavior, exclude the relevant entries before the concat operation.\n",
      "  missing_models = pd.concat([missing_models, row_df])\n",
      "Running XGBoost:  40%|████████████████████████████████████████████████████████                                                                                    | 2/5 [04:49<07:14, 144.74s/it]"
     ]
    },
    {
     "name": "stdout",
     "output_type": "stream",
     "text": [
      "Running not in develop mode\n",
      "RMSE on test data: 97104.87752028811\n"
     ]
    },
    {
     "name": "stderr",
     "output_type": "stream",
     "text": [
      "/Users/enqurance/Desktop/NUS/Sem1_AY2024-2025/CS5228/Projects/CS5228_Project/util/DataMining.py:168: FutureWarning: The behavior of DataFrame concatenation with empty or all-NA entries is deprecated. In a future version, this will no longer exclude empty or all-NA columns when determining the result dtypes. To retain the old behavior, exclude the relevant entries before the concat operation.\n",
      "  missing_models = pd.concat([missing_models, row_df])\n",
      "Running XGBoost:  60%|████████████████████████████████████████████████████████████████████████████████████                                                        | 3/5 [07:13<04:49, 144.72s/it]"
     ]
    },
    {
     "name": "stdout",
     "output_type": "stream",
     "text": [
      "Running not in develop mode\n",
      "RMSE on test data: 93299.2585681242\n"
     ]
    },
    {
     "name": "stderr",
     "output_type": "stream",
     "text": [
      "/Users/enqurance/Desktop/NUS/Sem1_AY2024-2025/CS5228/Projects/CS5228_Project/util/DataMining.py:168: FutureWarning: The behavior of DataFrame concatenation with empty or all-NA entries is deprecated. In a future version, this will no longer exclude empty or all-NA columns when determining the result dtypes. To retain the old behavior, exclude the relevant entries before the concat operation.\n",
      "  missing_models = pd.concat([missing_models, row_df])\n",
      "Running XGBoost:  80%|████████████████████████████████████████████████████████████████████████████████████████████████████████████████                            | 4/5 [09:33<02:22, 142.90s/it]"
     ]
    },
    {
     "name": "stdout",
     "output_type": "stream",
     "text": [
      "Running not in develop mode\n",
      "RMSE on test data: 92199.50612841758\n"
     ]
    },
    {
     "name": "stderr",
     "output_type": "stream",
     "text": [
      "/Users/enqurance/Desktop/NUS/Sem1_AY2024-2025/CS5228/Projects/CS5228_Project/util/DataMining.py:168: FutureWarning: The behavior of DataFrame concatenation with empty or all-NA entries is deprecated. In a future version, this will no longer exclude empty or all-NA columns when determining the result dtypes. To retain the old behavior, exclude the relevant entries before the concat operation.\n",
      "  missing_models = pd.concat([missing_models, row_df])\n",
      "Running XGBoost: 100%|████████████████████████████████████████████████████████████████████████████████████████████████████████████████████████████████████████████| 5/5 [12:00<00:00, 144.16s/it]"
     ]
    },
    {
     "name": "stdout",
     "output_type": "stream",
     "text": [
      "Running not in develop mode\n",
      "RMSE on test data: 91798.99605347653\n",
      "Average RMSE: 92196\n"
     ]
    },
    {
     "name": "stderr",
     "output_type": "stream",
     "text": [
      "\n"
     ]
    }
   ],
   "source": [
    "run_times, rmse_sum = 5, 0\n",
    "for i in tqdm(range(run_times), desc='Running XGBoost'):\n",
    "    train_drop_cols = ['price']\n",
    "    test_cols = ['price', 'make']\n",
    "    x_train, x_test, y_train, y_test = split_dataframe_flex(df, train_drop_cols, test_cols)\n",
    "    rmse_sum += XGBoostMiningByMake(x_train, x_test, y_train, y_test)\n",
    "print('Average RMSE:', round(rmse_sum / run_times))"
   ]
  },
  {
   "cell_type": "markdown",
   "id": "c406b1e1",
   "metadata": {
    "scrolled": true
   },
   "source": [
    "Prediction on test dataset"
   ]
  },
  {
   "cell_type": "code",
   "execution_count": null,
   "id": "ff01db6a-6244-486e-9871-7bef6ddcdaea",
   "metadata": {
    "scrolled": false
   },
   "outputs": [],
   "source": [
    "x_train, y_train = df.drop(columns=['price']), df[['price', 'make']]\n",
    "x_test = df_test[x_train.columns]\n",
    "res_model =  XGBoostMiningByMake(x_train, x_test, y_train, dev=True)"
   ]
  },
  {
   "cell_type": "code",
   "execution_count": null,
   "id": "8f5365f8",
   "metadata": {},
   "outputs": [],
   "source": [
    "res_model.to_csv('./data/xgb_by_model_result.csv', index=False)"
   ]
  },
  {
   "cell_type": "code",
   "execution_count": null,
   "id": "861d19ef",
   "metadata": {},
   "outputs": [],
   "source": []
  }
 ],
 "metadata": {
  "kernelspec": {
   "display_name": "Python 3 (ipykernel)",
   "language": "python",
   "name": "python3"
  },
  "language_info": {
   "codemirror_mode": {
    "name": "ipython",
    "version": 3
   },
   "file_extension": ".py",
   "mimetype": "text/x-python",
   "name": "python",
   "nbconvert_exporter": "python",
   "pygments_lexer": "ipython3",
   "version": "3.9.18"
  }
 },
 "nbformat": 4,
 "nbformat_minor": 5
}
