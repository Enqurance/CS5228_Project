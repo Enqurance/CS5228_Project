{
 "cells": [
  {
   "cell_type": "markdown",
   "id": "9139239be4d3d26a",
   "metadata": {},
   "source": [
    "<img src=\"images/img.png\" />"
   ]
  },
  {
   "cell_type": "markdown",
   "id": "28a5ce1aa953b915",
   "metadata": {},
   "source": [
    "# CS5228 Project, Group 32"
   ]
  },
  {
   "cell_type": "code",
   "execution_count": 19,
   "id": "5287322f-3943-4058-8448-970302c9ff79",
   "metadata": {},
   "outputs": [
    {
     "name": "stdout",
     "output_type": "stream",
     "text": [
      "The autoreload extension is already loaded. To reload it, use:\n",
      "  %reload_ext autoreload\n"
     ]
    }
   ],
   "source": [
    "# Auto reload\n",
    "%load_ext autoreload\n",
    "%autoreload 2"
   ]
  },
  {
   "cell_type": "code",
   "execution_count": 20,
   "id": "1e21c02e",
   "metadata": {},
   "outputs": [],
   "source": [
    "import os\n",
    "import json\n",
    "import pandas as pd\n",
    "from sklearn.preprocessing import LabelEncoder\n",
    "from sklearn.preprocessing import MultiLabelBinarizer\n",
    "from tqdm import tqdm\n",
    "import seaborn as sns\n",
    "import matplotlib.pyplot as plt"
   ]
  },
  {
   "cell_type": "code",
   "execution_count": 21,
   "id": "4c22a91f-729c-4a22-a443-0f05af43f099",
   "metadata": {},
   "outputs": [],
   "source": [
    "from util.DataMining import split_dataframe, split_dataframe_flex\n",
    "from util.DataMining import (\n",
    "    RandomForestMining,\n",
    "    RandomForestMiningByModel,\n",
    "    GradientBoostingMining,\n",
    "    GradientBoostingMiningByModel,\n",
    "    XGBoostMining,\n",
    "    XGBoostMiningByMake,\n",
    "    LinearRegressionMining,\n",
    "    LinearRegressionMiningByModel,\n",
    ")\n",
    "\n",
    "from sklearn.model_selection import GridSearchCV\n",
    "from sklearn.ensemble import RandomForestClassifier"
   ]
  },
  {
   "cell_type": "markdown",
   "id": "c681594f-3de4-4511-8154-437e10dee1b6",
   "metadata": {},
   "source": [
    "## Code cells for data mining code here"
   ]
  },
  {
   "cell_type": "code",
   "execution_count": 22,
   "id": "a72bb88a",
   "metadata": {},
   "outputs": [],
   "source": [
    "train_file = './data/train_preprocessed_impute.csv'\n",
    "test_file = './data/test_preprocessed.csv'\n",
    "\n",
    "df = pd.read_csv(train_file)\n",
    "df_test = pd.read_csv(test_file)"
   ]
  },
  {
   "cell_type": "code",
   "execution_count": 30,
   "id": "b2e17e4e",
   "metadata": {
    "scrolled": true
   },
   "outputs": [
    {
     "name": "stderr",
     "output_type": "stream",
     "text": [
      "Running XGBoost:  20%|████████████████████████████▏                                                                                                                | 1/5 [00:02<00:11,  2.78s/it]"
     ]
    },
    {
     "name": "stdout",
     "output_type": "stream",
     "text": [
      "Running not in develop mode\n",
      "RMSE on test data: 25777.88039039003\n"
     ]
    },
    {
     "name": "stderr",
     "output_type": "stream",
     "text": [
      "\r",
      "Running XGBoost:  40%|████████████████████████████████████████████████████████▍                                                                                    | 2/5 [00:05<00:08,  2.77s/it]"
     ]
    },
    {
     "name": "stdout",
     "output_type": "stream",
     "text": [
      "Running not in develop mode\n",
      "RMSE on test data: 18859.900650503736\n"
     ]
    },
    {
     "name": "stderr",
     "output_type": "stream",
     "text": [
      "\r",
      "Running XGBoost:  60%|████████████████████████████████████████████████████████████████████████████████████▌                                                        | 3/5 [00:08<00:05,  2.76s/it]"
     ]
    },
    {
     "name": "stdout",
     "output_type": "stream",
     "text": [
      "Running not in develop mode\n",
      "RMSE on test data: 21004.420315629206\n"
     ]
    },
    {
     "name": "stderr",
     "output_type": "stream",
     "text": [
      "\r",
      "Running XGBoost:  80%|████████████████████████████████████████████████████████████████████████████████████████████████████████████████▊                            | 4/5 [00:10<00:02,  2.73s/it]"
     ]
    },
    {
     "name": "stdout",
     "output_type": "stream",
     "text": [
      "Running not in develop mode\n",
      "RMSE on test data: 22930.632007651006\n"
     ]
    },
    {
     "name": "stderr",
     "output_type": "stream",
     "text": [
      "Running XGBoost: 100%|█████████████████████████████████████████████████████████████████████████████████████████████████████████████████████████████████████████████| 5/5 [00:13<00:00,  2.78s/it]"
     ]
    },
    {
     "name": "stdout",
     "output_type": "stream",
     "text": [
      "Running not in develop mode\n",
      "RMSE on test data: 17806.909005528287\n",
      "Average RMSE: 21276\n"
     ]
    },
    {
     "name": "stderr",
     "output_type": "stream",
     "text": [
      "\n"
     ]
    }
   ],
   "source": [
    "selected_columns = [\n",
    "    'make',\n",
    "    'model',\n",
    "    'type_of_vehicle',\n",
    "    'engine_cap',\n",
    "    'no_of_owners',\n",
    "    'depreciation',\n",
    "    'power',\n",
    "    'road_tax',\n",
    "    'mileage',\n",
    "    'omv_arf_ratio',\n",
    "    'dereg_coe_ratio',\n",
    "    'car_age',\n",
    "    'omv',\n",
    "    'arf',\n",
    "    'price',\n",
    "    'coe car',\n",
    "    'parf car',\n",
    "    'low mileage car'\n",
    "]\n",
    "\n",
    "df_filtered = df[selected_columns]\n",
    "\n",
    "run_times, rmse_sum = 5, 0\n",
    "for i in tqdm(range(run_times), desc='Running XGBoost'):\n",
    "    train_drop_cols = ['price']\n",
    "    x_train, x_test, y_train, y_test = split_dataframe(df_filtered, train_drop_cols)\n",
    "    rmse_sum += XGBoostMining(x_train, x_test, y_train, y_test)\n",
    "print('Average RMSE:', round(rmse_sum / run_times))"
   ]
  },
  {
   "cell_type": "code",
   "execution_count": 31,
   "id": "f43a1f58",
   "metadata": {
    "scrolled": true
   },
   "outputs": [
    {
     "data": {
      "text/html": [
       "<div>\n",
       "<style scoped>\n",
       "    .dataframe tbody tr th:only-of-type {\n",
       "        vertical-align: middle;\n",
       "    }\n",
       "\n",
       "    .dataframe tbody tr th {\n",
       "        vertical-align: top;\n",
       "    }\n",
       "\n",
       "    .dataframe thead th {\n",
       "        text-align: right;\n",
       "    }\n",
       "</style>\n",
       "<table border=\"1\" class=\"dataframe\">\n",
       "  <thead>\n",
       "    <tr style=\"text-align: right;\">\n",
       "      <th></th>\n",
       "      <th>make</th>\n",
       "      <th>model</th>\n",
       "      <th>type_of_vehicle</th>\n",
       "      <th>engine_cap</th>\n",
       "      <th>no_of_owners</th>\n",
       "      <th>depreciation</th>\n",
       "      <th>power</th>\n",
       "      <th>road_tax</th>\n",
       "      <th>mileage</th>\n",
       "      <th>omv_arf_ratio</th>\n",
       "      <th>dereg_coe_ratio</th>\n",
       "      <th>car_age</th>\n",
       "      <th>omv</th>\n",
       "      <th>arf</th>\n",
       "      <th>coe car</th>\n",
       "      <th>parf car</th>\n",
       "      <th>low mileage car</th>\n",
       "    </tr>\n",
       "  </thead>\n",
       "  <tbody>\n",
       "    <tr>\n",
       "      <th>6109</th>\n",
       "      <td>51.0</td>\n",
       "      <td>157.0</td>\n",
       "      <td>8.0</td>\n",
       "      <td>2996.0</td>\n",
       "      <td>2.0</td>\n",
       "      <td>30220.0</td>\n",
       "      <td>270.0</td>\n",
       "      <td>2382.0</td>\n",
       "      <td>116000.0</td>\n",
       "      <td>0.722584</td>\n",
       "      <td>2.520139</td>\n",
       "      <td>6.0</td>\n",
       "      <td>67295.0</td>\n",
       "      <td>93131.0</td>\n",
       "      <td>0.0</td>\n",
       "      <td>1.0</td>\n",
       "      <td>0.0</td>\n",
       "    </tr>\n",
       "    <tr>\n",
       "      <th>12310</th>\n",
       "      <td>45.0</td>\n",
       "      <td>303.0</td>\n",
       "      <td>6.0</td>\n",
       "      <td>3456.0</td>\n",
       "      <td>1.0</td>\n",
       "      <td>54510.0</td>\n",
       "      <td>298.0</td>\n",
       "      <td>3100.0</td>\n",
       "      <td>3800.0</td>\n",
       "      <td>0.473987</td>\n",
       "      <td>1.308472</td>\n",
       "      <td>1.0</td>\n",
       "      <td>110067.0</td>\n",
       "      <td>232215.0</td>\n",
       "      <td>0.0</td>\n",
       "      <td>1.0</td>\n",
       "      <td>1.0</td>\n",
       "    </tr>\n",
       "    <tr>\n",
       "      <th>3093</th>\n",
       "      <td>29.0</td>\n",
       "      <td>274.0</td>\n",
       "      <td>8.0</td>\n",
       "      <td>1496.0</td>\n",
       "      <td>1.0</td>\n",
       "      <td>16250.0</td>\n",
       "      <td>174.0</td>\n",
       "      <td>778.0</td>\n",
       "      <td>99.0</td>\n",
       "      <td>1.081658</td>\n",
       "      <td>1.171690</td>\n",
       "      <td>0.0</td>\n",
       "      <td>27340.0</td>\n",
       "      <td>25276.0</td>\n",
       "      <td>0.0</td>\n",
       "      <td>1.0</td>\n",
       "      <td>1.0</td>\n",
       "    </tr>\n",
       "    <tr>\n",
       "      <th>9919</th>\n",
       "      <td>29.0</td>\n",
       "      <td>220.0</td>\n",
       "      <td>3.0</td>\n",
       "      <td>1799.0</td>\n",
       "      <td>3.0</td>\n",
       "      <td>12190.0</td>\n",
       "      <td>103.0</td>\n",
       "      <td>1271.0</td>\n",
       "      <td>133189.0</td>\n",
       "      <td>1.000000</td>\n",
       "      <td>0.687674</td>\n",
       "      <td>13.0</td>\n",
       "      <td>25169.0</td>\n",
       "      <td>25169.0</td>\n",
       "      <td>1.0</td>\n",
       "      <td>0.0</td>\n",
       "      <td>0.0</td>\n",
       "    </tr>\n",
       "    <tr>\n",
       "      <th>3710</th>\n",
       "      <td>88.0</td>\n",
       "      <td>156.0</td>\n",
       "      <td>3.0</td>\n",
       "      <td>1598.0</td>\n",
       "      <td>1.0</td>\n",
       "      <td>13210.0</td>\n",
       "      <td>90.0</td>\n",
       "      <td>742.0</td>\n",
       "      <td>111000.0</td>\n",
       "      <td>1.363346</td>\n",
       "      <td>0.996171</td>\n",
       "      <td>10.0</td>\n",
       "      <td>18761.0</td>\n",
       "      <td>13761.0</td>\n",
       "      <td>1.0</td>\n",
       "      <td>0.0</td>\n",
       "      <td>0.0</td>\n",
       "    </tr>\n",
       "  </tbody>\n",
       "</table>\n",
       "</div>"
      ],
      "text/plain": [
       "       make  model  type_of_vehicle  engine_cap  no_of_owners  depreciation  \\\n",
       "6109   51.0  157.0              8.0      2996.0           2.0       30220.0   \n",
       "12310  45.0  303.0              6.0      3456.0           1.0       54510.0   \n",
       "3093   29.0  274.0              8.0      1496.0           1.0       16250.0   \n",
       "9919   29.0  220.0              3.0      1799.0           3.0       12190.0   \n",
       "3710   88.0  156.0              3.0      1598.0           1.0       13210.0   \n",
       "\n",
       "       power  road_tax   mileage  omv_arf_ratio  dereg_coe_ratio  car_age  \\\n",
       "6109   270.0    2382.0  116000.0       0.722584         2.520139      6.0   \n",
       "12310  298.0    3100.0    3800.0       0.473987         1.308472      1.0   \n",
       "3093   174.0     778.0      99.0       1.081658         1.171690      0.0   \n",
       "9919   103.0    1271.0  133189.0       1.000000         0.687674     13.0   \n",
       "3710    90.0     742.0  111000.0       1.363346         0.996171     10.0   \n",
       "\n",
       "            omv       arf  coe car  parf car  low mileage car  \n",
       "6109    67295.0   93131.0      0.0       1.0              0.0  \n",
       "12310  110067.0  232215.0      0.0       1.0              1.0  \n",
       "3093    27340.0   25276.0      0.0       1.0              1.0  \n",
       "9919    25169.0   25169.0      1.0       0.0              0.0  \n",
       "3710    18761.0   13761.0      1.0       0.0              0.0  "
      ]
     },
     "execution_count": 31,
     "metadata": {},
     "output_type": "execute_result"
    }
   ],
   "source": [
    "x_train.head()"
   ]
  },
  {
   "cell_type": "code",
   "execution_count": 32,
   "id": "f5716ffc-b01c-4851-b397-e498964f3afa",
   "metadata": {},
   "outputs": [],
   "source": [
    "df_selected = df[selected_columns]\n",
    "\n",
    "x_train, y_train = df_selected.drop(columns=['price']), df[['price']]\n",
    "x_test = df_test[x_train.columns]\n",
    "\n",
    "res_nomodel = XGBoostMining(x_train, x_test, y_train, dev=True)\n",
    "res_nomodel.reset_index(inplace=True)\n",
    "res_nomodel.rename(columns={'index': 'Id'}, inplace=True)\n",
    "res_nomodel.to_csv('./data/xgb_result.csv', index=False)"
   ]
  },
  {
   "cell_type": "markdown",
   "id": "4229aeee-e40d-4332-aab2-82beceb910a1",
   "metadata": {},
   "source": [
    "### This cell do prediction model by model"
   ]
  },
  {
   "cell_type": "markdown",
   "id": "a724fe5c",
   "metadata": {},
   "source": [
    "Validation cell"
   ]
  },
  {
   "cell_type": "code",
   "execution_count": 212,
   "id": "02f192a0",
   "metadata": {},
   "outputs": [
    {
     "name": "stderr",
     "output_type": "stream",
     "text": [
      "Running XGBoost:   0%|                                                                                                                                                     | 0/5 [00:00<?, ?it/s]/Users/enqurance/Desktop/NUS/Sem1_AY2024-2025/CS5228/Projects/CS5228_Project/util/DataMining.py:168: FutureWarning: The behavior of DataFrame concatenation with empty or all-NA entries is deprecated. In a future version, this will no longer exclude empty or all-NA columns when determining the result dtypes. To retain the old behavior, exclude the relevant entries before the concat operation.\n",
      "  missing_models = pd.concat([missing_models, row_df])\n",
      "Running XGBoost:  20%|████████████████████████████                                                                                                                | 1/5 [02:23<09:34, 143.58s/it]"
     ]
    },
    {
     "name": "stdout",
     "output_type": "stream",
     "text": [
      "Running not in develop mode\n",
      "RMSE on test data: 86576.02580016718\n"
     ]
    },
    {
     "name": "stderr",
     "output_type": "stream",
     "text": [
      "/Users/enqurance/Desktop/NUS/Sem1_AY2024-2025/CS5228/Projects/CS5228_Project/util/DataMining.py:168: FutureWarning: The behavior of DataFrame concatenation with empty or all-NA entries is deprecated. In a future version, this will no longer exclude empty or all-NA columns when determining the result dtypes. To retain the old behavior, exclude the relevant entries before the concat operation.\n",
      "  missing_models = pd.concat([missing_models, row_df])\n",
      "Running XGBoost:  40%|████████████████████████████████████████████████████████                                                                                    | 2/5 [04:49<07:14, 144.74s/it]"
     ]
    },
    {
     "name": "stdout",
     "output_type": "stream",
     "text": [
      "Running not in develop mode\n",
      "RMSE on test data: 97104.87752028811\n"
     ]
    },
    {
     "name": "stderr",
     "output_type": "stream",
     "text": [
      "/Users/enqurance/Desktop/NUS/Sem1_AY2024-2025/CS5228/Projects/CS5228_Project/util/DataMining.py:168: FutureWarning: The behavior of DataFrame concatenation with empty or all-NA entries is deprecated. In a future version, this will no longer exclude empty or all-NA columns when determining the result dtypes. To retain the old behavior, exclude the relevant entries before the concat operation.\n",
      "  missing_models = pd.concat([missing_models, row_df])\n",
      "Running XGBoost:  60%|████████████████████████████████████████████████████████████████████████████████████                                                        | 3/5 [07:13<04:49, 144.72s/it]"
     ]
    },
    {
     "name": "stdout",
     "output_type": "stream",
     "text": [
      "Running not in develop mode\n",
      "RMSE on test data: 93299.2585681242\n"
     ]
    },
    {
     "name": "stderr",
     "output_type": "stream",
     "text": [
      "/Users/enqurance/Desktop/NUS/Sem1_AY2024-2025/CS5228/Projects/CS5228_Project/util/DataMining.py:168: FutureWarning: The behavior of DataFrame concatenation with empty or all-NA entries is deprecated. In a future version, this will no longer exclude empty or all-NA columns when determining the result dtypes. To retain the old behavior, exclude the relevant entries before the concat operation.\n",
      "  missing_models = pd.concat([missing_models, row_df])\n",
      "Running XGBoost:  80%|████████████████████████████████████████████████████████████████████████████████████████████████████████████████                            | 4/5 [09:33<02:22, 142.90s/it]"
     ]
    },
    {
     "name": "stdout",
     "output_type": "stream",
     "text": [
      "Running not in develop mode\n",
      "RMSE on test data: 92199.50612841758\n"
     ]
    },
    {
     "name": "stderr",
     "output_type": "stream",
     "text": [
      "/Users/enqurance/Desktop/NUS/Sem1_AY2024-2025/CS5228/Projects/CS5228_Project/util/DataMining.py:168: FutureWarning: The behavior of DataFrame concatenation with empty or all-NA entries is deprecated. In a future version, this will no longer exclude empty or all-NA columns when determining the result dtypes. To retain the old behavior, exclude the relevant entries before the concat operation.\n",
      "  missing_models = pd.concat([missing_models, row_df])\n",
      "Running XGBoost: 100%|████████████████████████████████████████████████████████████████████████████████████████████████████████████████████████████████████████████| 5/5 [12:00<00:00, 144.16s/it]"
     ]
    },
    {
     "name": "stdout",
     "output_type": "stream",
     "text": [
      "Running not in develop mode\n",
      "RMSE on test data: 91798.99605347653\n",
      "Average RMSE: 92196\n"
     ]
    },
    {
     "name": "stderr",
     "output_type": "stream",
     "text": [
      "\n"
     ]
    }
   ],
   "source": [
    "run_times, rmse_sum = 5, 0\n",
    "for i in tqdm(range(run_times), desc='Running XGBoost'):\n",
    "    train_drop_cols = ['price']\n",
    "    test_cols = ['price', 'make']\n",
    "    x_train, x_test, y_train, y_test = split_dataframe_flex(df, train_drop_cols, test_cols)\n",
    "    rmse_sum += XGBoostMiningByMake(x_train, x_test, y_train, y_test)\n",
    "print('Average RMSE:', round(rmse_sum / run_times))"
   ]
  },
  {
   "cell_type": "markdown",
   "id": "c406b1e1",
   "metadata": {
    "scrolled": true
   },
   "source": [
    "Prediction on test dataset"
   ]
  },
  {
   "cell_type": "code",
   "execution_count": null,
   "id": "ff01db6a-6244-486e-9871-7bef6ddcdaea",
   "metadata": {
    "scrolled": false
   },
   "outputs": [],
   "source": [
    "x_train, y_train = df.drop(columns=['price']), df[['price', 'make']]\n",
    "x_test = df_test[x_train.columns]\n",
    "res_model =  XGBoostMiningByMake(x_train, x_test, y_train, dev=True)"
   ]
  },
  {
   "cell_type": "code",
   "execution_count": null,
   "id": "8f5365f8",
   "metadata": {},
   "outputs": [],
   "source": [
    "res_model.to_csv('./data/xgb_by_model_result.csv', index=False)"
   ]
  },
  {
   "cell_type": "code",
   "execution_count": null,
   "id": "861d19ef",
   "metadata": {},
   "outputs": [],
   "source": []
  }
 ],
 "metadata": {
  "kernelspec": {
   "display_name": "Python 3 (ipykernel)",
   "language": "python",
   "name": "python3"
  },
  "language_info": {
   "codemirror_mode": {
    "name": "ipython",
    "version": 3
   },
   "file_extension": ".py",
   "mimetype": "text/x-python",
   "name": "python",
   "nbconvert_exporter": "python",
   "pygments_lexer": "ipython3",
   "version": "3.9.18"
  }
 },
 "nbformat": 4,
 "nbformat_minor": 5
}
