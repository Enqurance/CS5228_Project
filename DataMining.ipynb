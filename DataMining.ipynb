{
 "cells": [
  {
   "cell_type": "markdown",
   "id": "9139239be4d3d26a",
   "metadata": {},
   "source": [
    "<img src=\"images/img.png\" />"
   ]
  },
  {
   "cell_type": "markdown",
   "id": "28a5ce1aa953b915",
   "metadata": {},
   "source": [
    "# CS5228 Project, Group 32"
   ]
  },
  {
   "cell_type": "code",
   "execution_count": 12,
   "id": "5287322f-3943-4058-8448-970302c9ff79",
   "metadata": {},
   "outputs": [
    {
     "name": "stdout",
     "output_type": "stream",
     "text": [
      "The autoreload extension is already loaded. To reload it, use:\n",
      "  %reload_ext autoreload\n"
     ]
    }
   ],
   "source": [
    "# Auto reload\n",
    "%load_ext autoreload\n",
    "%autoreload 2"
   ]
  },
  {
   "cell_type": "code",
   "execution_count": 13,
   "id": "1e21c02e",
   "metadata": {},
   "outputs": [],
   "source": [
    "import pandas as pd\n",
    "from tqdm import tqdm"
   ]
  },
  {
   "cell_type": "code",
   "execution_count": 14,
   "id": "4c22a91f-729c-4a22-a443-0f05af43f099",
   "metadata": {},
   "outputs": [],
   "source": [
    "from util.DataMining import split_dataframe, split_dataframe_flex\n",
    "from util.DataMining import (\n",
    "    RandomForestMining,\n",
    "    RandomForestMiningByModel,\n",
    "    GradientBoostingMining,\n",
    "    GradientBoostingMiningByModel,\n",
    "    XGBoostMining,\n",
    "    XGBoostMiningByMake,\n",
    "    LinearRegressionMining,\n",
    "    LinearRegressionMiningByModel,\n",
    ")"
   ]
  },
  {
   "cell_type": "markdown",
   "id": "c681594f-3de4-4511-8154-437e10dee1b6",
   "metadata": {},
   "source": [
    "## Data mining"
   ]
  },
  {
   "cell_type": "markdown",
   "id": "b283963f",
   "metadata": {},
   "source": [
    "### Load the preprocessed training and test data"
   ]
  },
  {
   "cell_type": "code",
   "execution_count": 41,
   "id": "a72bb88a",
   "metadata": {},
   "outputs": [],
   "source": [
    "train_file = './data/train_preprocessed_impute.csv'\n",
    "test_file = './data/test_preprocessed.csv'\n",
    "\n",
    "df = pd.read_csv(train_file)\n",
    "df_test = pd.read_csv(test_file)"
   ]
  },
  {
   "cell_type": "markdown",
   "id": "42e67ead",
   "metadata": {},
   "source": [
    "### Train XGB on the preselected 18 attributes"
   ]
  },
  {
   "cell_type": "code",
   "execution_count": 49,
   "id": "b2e17e4e",
   "metadata": {
    "scrolled": true
   },
   "outputs": [
    {
     "name": "stderr",
     "output_type": "stream",
     "text": [
      "Running XGBoost:   0%|                                                                                                                                                     | 0/1 [00:00<?, ?it/s]/Users/enqurance/opt/miniconda3/lib/python3.9/site-packages/sklearn/base.py:1474: DataConversionWarning: A column-vector y was passed when a 1d array was expected. Please change the shape of y to (n_samples,), for example using ravel().\n",
      "  return fit_method(estimator, *args, **kwargs)\n",
      "/Users/enqurance/opt/miniconda3/lib/python3.9/site-packages/sklearn/base.py:1474: DataConversionWarning: A column-vector y was passed when a 1d array was expected. Please change the shape of y to (n_samples,), for example using ravel().\n",
      "  return fit_method(estimator, *args, **kwargs)\n",
      "/Users/enqurance/opt/miniconda3/lib/python3.9/site-packages/sklearn/base.py:1474: DataConversionWarning: A column-vector y was passed when a 1d array was expected. Please change the shape of y to (n_samples,), for example using ravel().\n",
      "  return fit_method(estimator, *args, **kwargs)\n",
      "/Users/enqurance/opt/miniconda3/lib/python3.9/site-packages/sklearn/base.py:1474: DataConversionWarning: A column-vector y was passed when a 1d array was expected. Please change the shape of y to (n_samples,), for example using ravel().\n",
      "  return fit_method(estimator, *args, **kwargs)\n",
      "/Users/enqurance/opt/miniconda3/lib/python3.9/site-packages/sklearn/base.py:1474: DataConversionWarning: A column-vector y was passed when a 1d array was expected. Please change the shape of y to (n_samples,), for example using ravel().\n",
      "  return fit_method(estimator, *args, **kwargs)\n",
      "/Users/enqurance/opt/miniconda3/lib/python3.9/site-packages/sklearn/base.py:1474: DataConversionWarning: A column-vector y was passed when a 1d array was expected. Please change the shape of y to (n_samples,), for example using ravel().\n",
      "  return fit_method(estimator, *args, **kwargs)\n"
     ]
    },
    {
     "name": "stdout",
     "output_type": "stream",
     "text": [
      "Cross-validated RMSE scores: [23050.56632623 21247.0158987  19524.58627001 25491.57628489\n",
      " 27168.68061599]\n",
      "Mean CV RMSE: 23296.485079163635\n"
     ]
    },
    {
     "name": "stderr",
     "output_type": "stream",
     "text": [
      "Running XGBoost: 100%|████████████████████████████████████████████████████████████████████████████████████████████████████████████████████████████████████████████| 1/1 [12:22<00:00, 742.24s/it]"
     ]
    },
    {
     "name": "stdout",
     "output_type": "stream",
     "text": [
      "Running not in develop mode\n",
      "RMSE on test data: 26755.482461221243\n",
      "Average RMSE: 26755\n"
     ]
    },
    {
     "name": "stderr",
     "output_type": "stream",
     "text": [
      "\n"
     ]
    }
   ],
   "source": [
    "selected_columns = [\n",
    "    'make',\n",
    "    'model',\n",
    "    'type_of_vehicle',\n",
    "    'engine_cap',\n",
    "    'no_of_owners',\n",
    "    'depreciation',\n",
    "    'power',\n",
    "    'road_tax',\n",
    "    'mileage',\n",
    "    'omv_arf_ratio',\n",
    "    'dereg_coe_ratio',\n",
    "    'car_age',\n",
    "    'omv',\n",
    "    'arf',\n",
    "    'price',\n",
    "    'coe car',\n",
    "    'parf car'\n",
    "]\n",
    "\n",
    "df_filtered = df[selected_columns]\n",
    "\n",
    "run_times, rmse_sum = 1, 0\n",
    "for i in tqdm(range(run_times), desc='Running XGBoost'):\n",
    "    train_drop_cols = ['price']\n",
    "    x_train, x_test, y_train, y_test = split_dataframe(df_filtered, train_drop_cols)\n",
    "    rmse_sum += RandomForestMining(x_train, x_test, y_train, y_test)\n",
    "print('Average RMSE:', round(rmse_sum / run_times))"
   ]
  },
  {
   "cell_type": "code",
   "execution_count": 34,
   "id": "f43a1f58",
   "metadata": {
    "scrolled": false
   },
   "outputs": [
    {
     "data": {
      "text/html": [
       "<div>\n",
       "<style scoped>\n",
       "    .dataframe tbody tr th:only-of-type {\n",
       "        vertical-align: middle;\n",
       "    }\n",
       "\n",
       "    .dataframe tbody tr th {\n",
       "        vertical-align: top;\n",
       "    }\n",
       "\n",
       "    .dataframe thead th {\n",
       "        text-align: right;\n",
       "    }\n",
       "</style>\n",
       "<table border=\"1\" class=\"dataframe\">\n",
       "  <thead>\n",
       "    <tr style=\"text-align: right;\">\n",
       "      <th></th>\n",
       "      <th>make</th>\n",
       "      <th>model</th>\n",
       "      <th>type_of_vehicle</th>\n",
       "      <th>engine_cap</th>\n",
       "      <th>no_of_owners</th>\n",
       "      <th>depreciation</th>\n",
       "      <th>power</th>\n",
       "      <th>road_tax</th>\n",
       "      <th>mileage</th>\n",
       "      <th>omv_arf_ratio</th>\n",
       "      <th>dereg_coe_ratio</th>\n",
       "      <th>car_age</th>\n",
       "      <th>omv</th>\n",
       "      <th>arf</th>\n",
       "      <th>coe car</th>\n",
       "      <th>parf car</th>\n",
       "    </tr>\n",
       "  </thead>\n",
       "  <tbody>\n",
       "    <tr>\n",
       "      <th>14809</th>\n",
       "      <td>51.0</td>\n",
       "      <td>157.0</td>\n",
       "      <td>2.0</td>\n",
       "      <td>1595.0</td>\n",
       "      <td>2.0</td>\n",
       "      <td>19460.0</td>\n",
       "      <td>90.0</td>\n",
       "      <td>740.0</td>\n",
       "      <td>85000.000000</td>\n",
       "      <td>1.005872</td>\n",
       "      <td>0.746056</td>\n",
       "      <td>7.0</td>\n",
       "      <td>32032.0</td>\n",
       "      <td>31845.0</td>\n",
       "      <td>0.0</td>\n",
       "      <td>1.0</td>\n",
       "    </tr>\n",
       "    <tr>\n",
       "      <th>13329</th>\n",
       "      <td>58.0</td>\n",
       "      <td>402.0</td>\n",
       "      <td>6.0</td>\n",
       "      <td>3799.0</td>\n",
       "      <td>6.0</td>\n",
       "      <td>45870.0</td>\n",
       "      <td>357.0</td>\n",
       "      <td>5454.0</td>\n",
       "      <td>98000.000000</td>\n",
       "      <td>1.000000</td>\n",
       "      <td>0.535894</td>\n",
       "      <td>15.0</td>\n",
       "      <td>106010.0</td>\n",
       "      <td>106010.0</td>\n",
       "      <td>1.0</td>\n",
       "      <td>0.0</td>\n",
       "    </tr>\n",
       "    <tr>\n",
       "      <th>11865</th>\n",
       "      <td>8.0</td>\n",
       "      <td>26.0</td>\n",
       "      <td>6.0</td>\n",
       "      <td>1499.0</td>\n",
       "      <td>5.0</td>\n",
       "      <td>21790.0</td>\n",
       "      <td>100.0</td>\n",
       "      <td>684.0</td>\n",
       "      <td>113000.000000</td>\n",
       "      <td>0.856765</td>\n",
       "      <td>0.982751</td>\n",
       "      <td>6.0</td>\n",
       "      <td>34358.0</td>\n",
       "      <td>40102.0</td>\n",
       "      <td>0.0</td>\n",
       "      <td>1.0</td>\n",
       "    </tr>\n",
       "    <tr>\n",
       "      <th>14957</th>\n",
       "      <td>8.0</td>\n",
       "      <td>418.0</td>\n",
       "      <td>1.0</td>\n",
       "      <td>647.0</td>\n",
       "      <td>2.0</td>\n",
       "      <td>21090.0</td>\n",
       "      <td>125.0</td>\n",
       "      <td>948.0</td>\n",
       "      <td>82604.147002</td>\n",
       "      <td>1.746407</td>\n",
       "      <td>0.485814</td>\n",
       "      <td>8.0</td>\n",
       "      <td>45927.0</td>\n",
       "      <td>26298.0</td>\n",
       "      <td>0.0</td>\n",
       "      <td>1.0</td>\n",
       "    </tr>\n",
       "    <tr>\n",
       "      <th>23423</th>\n",
       "      <td>29.0</td>\n",
       "      <td>413.0</td>\n",
       "      <td>8.0</td>\n",
       "      <td>1496.0</td>\n",
       "      <td>1.0</td>\n",
       "      <td>16630.0</td>\n",
       "      <td>96.0</td>\n",
       "      <td>682.0</td>\n",
       "      <td>32000.000000</td>\n",
       "      <td>0.992359</td>\n",
       "      <td>1.091874</td>\n",
       "      <td>5.0</td>\n",
       "      <td>20391.0</td>\n",
       "      <td>20548.0</td>\n",
       "      <td>0.0</td>\n",
       "      <td>1.0</td>\n",
       "    </tr>\n",
       "  </tbody>\n",
       "</table>\n",
       "</div>"
      ],
      "text/plain": [
       "       make  model  type_of_vehicle  engine_cap  no_of_owners  depreciation  \\\n",
       "14809  51.0  157.0              2.0      1595.0           2.0       19460.0   \n",
       "13329  58.0  402.0              6.0      3799.0           6.0       45870.0   \n",
       "11865   8.0   26.0              6.0      1499.0           5.0       21790.0   \n",
       "14957   8.0  418.0              1.0       647.0           2.0       21090.0   \n",
       "23423  29.0  413.0              8.0      1496.0           1.0       16630.0   \n",
       "\n",
       "       power  road_tax        mileage  omv_arf_ratio  dereg_coe_ratio  \\\n",
       "14809   90.0     740.0   85000.000000       1.005872         0.746056   \n",
       "13329  357.0    5454.0   98000.000000       1.000000         0.535894   \n",
       "11865  100.0     684.0  113000.000000       0.856765         0.982751   \n",
       "14957  125.0     948.0   82604.147002       1.746407         0.485814   \n",
       "23423   96.0     682.0   32000.000000       0.992359         1.091874   \n",
       "\n",
       "       car_age       omv       arf  coe car  parf car  \n",
       "14809      7.0   32032.0   31845.0      0.0       1.0  \n",
       "13329     15.0  106010.0  106010.0      1.0       0.0  \n",
       "11865      6.0   34358.0   40102.0      0.0       1.0  \n",
       "14957      8.0   45927.0   26298.0      0.0       1.0  \n",
       "23423      5.0   20391.0   20548.0      0.0       1.0  "
      ]
     },
     "execution_count": 34,
     "metadata": {},
     "output_type": "execute_result"
    }
   ],
   "source": [
    "x_train.head()"
   ]
  },
  {
   "cell_type": "markdown",
   "id": "2d4f32c0",
   "metadata": {},
   "source": [
    "### Predict on Kaggle test data and save the result file"
   ]
  },
  {
   "cell_type": "code",
   "execution_count": 47,
   "id": "f5716ffc-b01c-4851-b397-e498964f3afa",
   "metadata": {},
   "outputs": [
    {
     "name": "stderr",
     "output_type": "stream",
     "text": [
      "/Users/enqurance/opt/miniconda3/lib/python3.9/site-packages/sklearn/base.py:1474: DataConversionWarning: A column-vector y was passed when a 1d array was expected. Please change the shape of y to (n_samples,), for example using ravel().\n",
      "  return fit_method(estimator, *args, **kwargs)\n"
     ]
    }
   ],
   "source": [
    "df_selected = df[selected_columns]\n",
    "\n",
    "x_train, y_train = df_selected.drop(columns=['price']), df[['price']]\n",
    "x_test = df_test[x_train.columns]\n",
    "\n",
    "res_nomodel = RandomForestMining(x_train, x_test, y_train, dev=True)\n",
    "res_nomodel.reset_index(inplace=True)\n",
    "res_nomodel.rename(columns={'index': 'Id'}, inplace=True)\n",
    "res_nomodel.to_csv('./data/rf_result.csv', index=False)"
   ]
  },
  {
   "cell_type": "markdown",
   "id": "4229aeee-e40d-4332-aab2-82beceb910a1",
   "metadata": {},
   "source": [
    "### Train XGB for each value of `make`"
   ]
  },
  {
   "cell_type": "code",
   "execution_count": 212,
   "id": "02f192a0",
   "metadata": {},
   "outputs": [
    {
     "name": "stderr",
     "output_type": "stream",
     "text": [
      "Running XGBoost:   0%|                                                                                                                                                     | 0/5 [00:00<?, ?it/s]/Users/enqurance/Desktop/NUS/Sem1_AY2024-2025/CS5228/Projects/CS5228_Project/util/DataMining.py:168: FutureWarning: The behavior of DataFrame concatenation with empty or all-NA entries is deprecated. In a future version, this will no longer exclude empty or all-NA columns when determining the result dtypes. To retain the old behavior, exclude the relevant entries before the concat operation.\n",
      "  missing_models = pd.concat([missing_models, row_df])\n",
      "Running XGBoost:  20%|████████████████████████████                                                                                                                | 1/5 [02:23<09:34, 143.58s/it]"
     ]
    },
    {
     "name": "stdout",
     "output_type": "stream",
     "text": [
      "Running not in develop mode\n",
      "RMSE on test data: 86576.02580016718\n"
     ]
    },
    {
     "name": "stderr",
     "output_type": "stream",
     "text": [
      "/Users/enqurance/Desktop/NUS/Sem1_AY2024-2025/CS5228/Projects/CS5228_Project/util/DataMining.py:168: FutureWarning: The behavior of DataFrame concatenation with empty or all-NA entries is deprecated. In a future version, this will no longer exclude empty or all-NA columns when determining the result dtypes. To retain the old behavior, exclude the relevant entries before the concat operation.\n",
      "  missing_models = pd.concat([missing_models, row_df])\n",
      "Running XGBoost:  40%|████████████████████████████████████████████████████████                                                                                    | 2/5 [04:49<07:14, 144.74s/it]"
     ]
    },
    {
     "name": "stdout",
     "output_type": "stream",
     "text": [
      "Running not in develop mode\n",
      "RMSE on test data: 97104.87752028811\n"
     ]
    },
    {
     "name": "stderr",
     "output_type": "stream",
     "text": [
      "/Users/enqurance/Desktop/NUS/Sem1_AY2024-2025/CS5228/Projects/CS5228_Project/util/DataMining.py:168: FutureWarning: The behavior of DataFrame concatenation with empty or all-NA entries is deprecated. In a future version, this will no longer exclude empty or all-NA columns when determining the result dtypes. To retain the old behavior, exclude the relevant entries before the concat operation.\n",
      "  missing_models = pd.concat([missing_models, row_df])\n",
      "Running XGBoost:  60%|████████████████████████████████████████████████████████████████████████████████████                                                        | 3/5 [07:13<04:49, 144.72s/it]"
     ]
    },
    {
     "name": "stdout",
     "output_type": "stream",
     "text": [
      "Running not in develop mode\n",
      "RMSE on test data: 93299.2585681242\n"
     ]
    },
    {
     "name": "stderr",
     "output_type": "stream",
     "text": [
      "/Users/enqurance/Desktop/NUS/Sem1_AY2024-2025/CS5228/Projects/CS5228_Project/util/DataMining.py:168: FutureWarning: The behavior of DataFrame concatenation with empty or all-NA entries is deprecated. In a future version, this will no longer exclude empty or all-NA columns when determining the result dtypes. To retain the old behavior, exclude the relevant entries before the concat operation.\n",
      "  missing_models = pd.concat([missing_models, row_df])\n",
      "Running XGBoost:  80%|████████████████████████████████████████████████████████████████████████████████████████████████████████████████                            | 4/5 [09:33<02:22, 142.90s/it]"
     ]
    },
    {
     "name": "stdout",
     "output_type": "stream",
     "text": [
      "Running not in develop mode\n",
      "RMSE on test data: 92199.50612841758\n"
     ]
    },
    {
     "name": "stderr",
     "output_type": "stream",
     "text": [
      "/Users/enqurance/Desktop/NUS/Sem1_AY2024-2025/CS5228/Projects/CS5228_Project/util/DataMining.py:168: FutureWarning: The behavior of DataFrame concatenation with empty or all-NA entries is deprecated. In a future version, this will no longer exclude empty or all-NA columns when determining the result dtypes. To retain the old behavior, exclude the relevant entries before the concat operation.\n",
      "  missing_models = pd.concat([missing_models, row_df])\n",
      "Running XGBoost: 100%|████████████████████████████████████████████████████████████████████████████████████████████████████████████████████████████████████████████| 5/5 [12:00<00:00, 144.16s/it]"
     ]
    },
    {
     "name": "stdout",
     "output_type": "stream",
     "text": [
      "Running not in develop mode\n",
      "RMSE on test data: 91798.99605347653\n",
      "Average RMSE: 92196\n"
     ]
    },
    {
     "name": "stderr",
     "output_type": "stream",
     "text": [
      "\n"
     ]
    }
   ],
   "source": [
    "run_times, rmse_sum = 5, 0\n",
    "for i in tqdm(range(run_times), desc='Running XGBoost'):\n",
    "    train_drop_cols = ['price']\n",
    "    test_cols = ['price', 'make']\n",
    "    x_train, x_test, y_train, y_test = split_dataframe_flex(df, train_drop_cols, test_cols)\n",
    "    rmse_sum += XGBoostMiningByMake(x_train, x_test, y_train, y_test)\n",
    "print('Average RMSE:', round(rmse_sum / run_times))"
   ]
  },
  {
   "cell_type": "markdown",
   "id": "c406b1e1",
   "metadata": {
    "scrolled": true
   },
   "source": [
    "## Predict on the Kaggle test data and save the result file"
   ]
  },
  {
   "cell_type": "code",
   "execution_count": null,
   "id": "ff01db6a-6244-486e-9871-7bef6ddcdaea",
   "metadata": {
    "scrolled": false
   },
   "outputs": [],
   "source": [
    "x_train, y_train = df.drop(columns=['price']), df[['price', 'make']]\n",
    "x_test = df_test[x_train.columns]\n",
    "res_model =  XGBoostMiningByMake(x_train, x_test, y_train, dev=True)"
   ]
  },
  {
   "cell_type": "code",
   "execution_count": null,
   "id": "8f5365f8",
   "metadata": {},
   "outputs": [],
   "source": [
    "res_model.to_csv('./data/xgb_by_model_result.csv', index=False)"
   ]
  }
 ],
 "metadata": {
  "kernelspec": {
   "display_name": "Python 3 (ipykernel)",
   "language": "python",
   "name": "python3"
  },
  "language_info": {
   "codemirror_mode": {
    "name": "ipython",
    "version": 3
   },
   "file_extension": ".py",
   "mimetype": "text/x-python",
   "name": "python",
   "nbconvert_exporter": "python",
   "pygments_lexer": "ipython3",
   "version": "3.9.18"
  }
 },
 "nbformat": 4,
 "nbformat_minor": 5
}
