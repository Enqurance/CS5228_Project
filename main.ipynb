{
 "cells": [
  {
   "cell_type": "code",
   "execution_count": 1,
   "id": "initial_id",
   "metadata": {
    "scrolled": true,
    "ExecuteTime": {
     "end_time": "2024-09-12T03:39:50.738285Z",
     "start_time": "2024-09-12T03:39:50.476765Z"
    }
   },
   "outputs": [],
   "source": [
    "from util import DataPreprocess"
   ]
  },
  {
   "cell_type": "code",
   "execution_count": 2,
   "id": "2788563f64e62dc",
   "metadata": {
    "collapsed": false,
    "scrolled": true,
    "ExecuteTime": {
     "end_time": "2024-09-12T03:39:52.139796Z",
     "start_time": "2024-09-12T03:39:50.739409Z"
    }
   },
   "outputs": [
    {
     "name": "stdout",
     "output_type": "stream",
     "text": [
      "2639\n",
      "1883\n",
      "0\n",
      "14155\n"
     ]
    }
   ],
   "source": [
    "train_file_path = './data/train.csv'\n",
    "\n",
    "\n",
    "def main():\n",
    "\tDataPreprocess.PreprocessData(train_file_path, './data/processed_train.csv')\n",
    "\n",
    "\n",
    "if __name__ == '__main__':\n",
    "\tmain()"
   ]
  },
  {
   "cell_type": "code",
   "execution_count": 2,
   "id": "c05e27af-8ace-4f73-bfb6-c206bb55e7e6",
   "metadata": {
    "ExecuteTime": {
     "end_time": "2024-09-12T03:39:52.141989Z",
     "start_time": "2024-09-12T03:39:52.140659Z"
    }
   },
   "outputs": [],
   "source": []
  }
 ],
 "metadata": {
  "kernelspec": {
   "display_name": "Python 3 (ipykernel)",
   "language": "python",
   "name": "python3"
  },
  "language_info": {
   "codemirror_mode": {
    "name": "ipython",
    "version": 3
   },
   "file_extension": ".py",
   "mimetype": "text/x-python",
   "name": "python",
   "nbconvert_exporter": "python",
   "pygments_lexer": "ipython3",
   "version": "3.10.14"
  }
 },
 "nbformat": 4,
 "nbformat_minor": 5
}
