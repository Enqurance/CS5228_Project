{
 "cells": [
  {
   "cell_type": "code",
   "execution_count": 1,
   "id": "2788563f64e62dc",
   "metadata": {
    "ExecuteTime": {
     "end_time": "2024-09-12T03:39:52.139796Z",
     "start_time": "2024-09-12T03:39:50.739409Z"
    },
    "collapsed": false,
    "jupyter": {
     "outputs_hidden": false
    },
    "scrolled": true
   },
   "outputs": [
    {
     "name": "stdout",
     "output_type": "stream",
     "text": [
      "Missing values after cleaning: 0\n"
     ]
    }
   ],
   "source": [
    "from util import DataPreprocess\n",
    "from util.Mining import KNN, SVR\n",
    "\n",
    "from sklearn.model_selection import train_test_split\n",
    "import pandas as pd\n",
    "\n",
    "train_file_path = './data/train.csv'\n",
    "test_file_path = './data/test.csv'\n",
    "output_train_file_path = './data/processed_train.csv'\n",
    "\n",
    "\n",
    "def main():\n",
    "\tDataPreprocess.PreprocessData(train_file_path, output_train_file_path)\n",
    "\n",
    "\n",
    "if __name__ == '__main__':\n",
    "\tmain()"
   ]
  },
  {
   "cell_type": "code",
   "execution_count": 2,
   "id": "c05e27af-8ace-4f73-bfb6-c206bb55e7e6",
   "metadata": {
    "ExecuteTime": {
     "end_time": "2024-09-12T03:39:52.141989Z",
     "start_time": "2024-09-12T03:39:52.140659Z"
    }
   },
   "outputs": [
    {
     "ename": "NameError",
     "evalue": "name 'data_framep' is not defined",
     "output_type": "error",
     "traceback": [
      "\u001b[0;31m---------------------------------------------------------------------------\u001b[0m",
      "\u001b[0;31mNameError\u001b[0m                                 Traceback (most recent call last)",
      "Cell \u001b[0;32mIn[2], line 18\u001b[0m\n\u001b[1;32m      3\u001b[0m columns_selected \u001b[38;5;241m=\u001b[39m [\n\u001b[1;32m      4\u001b[0m     \u001b[38;5;124m'\u001b[39m\u001b[38;5;124mmanufactured\u001b[39m\u001b[38;5;124m'\u001b[39m,\n\u001b[1;32m      5\u001b[0m     \u001b[38;5;124m'\u001b[39m\u001b[38;5;124mtransmission\u001b[39m\u001b[38;5;124m'\u001b[39m,\n\u001b[0;32m   (...)\u001b[0m\n\u001b[1;32m     13\u001b[0m     \u001b[38;5;124m'\u001b[39m\u001b[38;5;124mprice\u001b[39m\u001b[38;5;124m'\u001b[39m\n\u001b[1;32m     14\u001b[0m ]\n\u001b[1;32m     16\u001b[0m \u001b[38;5;66;03m# Since we do not have test data, we split the data we have to obtain a new pair of \u001b[39;00m\n\u001b[1;32m     17\u001b[0m \u001b[38;5;66;03m# train data and test data\u001b[39;00m\n\u001b[0;32m---> 18\u001b[0m train_data \u001b[38;5;241m=\u001b[39m \u001b[43mdata_framep\u001b[49m[columns_selected]\n\u001b[1;32m     19\u001b[0m x \u001b[38;5;241m=\u001b[39m train_data\u001b[38;5;241m.\u001b[39mdrop(\u001b[38;5;124m'\u001b[39m\u001b[38;5;124mprice\u001b[39m\u001b[38;5;124m'\u001b[39m, axis\u001b[38;5;241m=\u001b[39m\u001b[38;5;241m1\u001b[39m)\n\u001b[1;32m     20\u001b[0m y \u001b[38;5;241m=\u001b[39m train_data[\u001b[38;5;124m'\u001b[39m\u001b[38;5;124mprice\u001b[39m\u001b[38;5;124m'\u001b[39m]\n",
      "\u001b[0;31mNameError\u001b[0m: name 'data_framep' is not defined"
     ]
    }
   ],
   "source": [
    "data_frame = DataPreprocess.ReadCSV(output_train_file_path)\n",
    "\n",
    "columns_selected = [\n",
    "    'manufactured',\n",
    "    'transmission',\n",
    "    'curb_weight',\n",
    "    'power',\n",
    "    'engine_cap',\n",
    "    'no_of_owners',\n",
    "    'depreciation',\n",
    "    'coe',\n",
    "    'dereg_value',\n",
    "    'price'\n",
    "]\n",
    "\n",
    "# Since we do not have test data, we split the data we have to obtain a new pair of \n",
    "# train data and test data\n",
    "# The selected columns above are all numerical, please feel free to use\n",
    "train_data = data_frame[columns_selected]\n",
    "x = train_data.drop('price', axis=1)\n",
    "y = train_data['price']\n",
    "\n",
    "# Split dataset\n",
    "x_train, x_test, y_train, y_test = train_test_split(x, y, test_size=0.2, random_state=42)\n",
    "\n",
    "KNN.KNNMining(x_train, x_test, y_train, y_test)\n",
    "SVR.SVRMining(x_train, x_test, y_train, y_test)"
   ]
  },
  {
   "cell_type": "code",
   "execution_count": null,
   "id": "cc0017ec-c935-4a42-8c97-b46028c83013",
   "metadata": {},
   "outputs": [],
   "source": []
  }
 ],
 "metadata": {
  "kernelspec": {
   "display_name": "Python 3 (ipykernel)",
   "language": "python",
   "name": "python3"
  },
  "language_info": {
   "codemirror_mode": {
    "name": "ipython",
    "version": 3
   },
   "file_extension": ".py",
   "mimetype": "text/x-python",
   "name": "python",
   "nbconvert_exporter": "python",
   "pygments_lexer": "ipython3",
   "version": "3.10.14"
  }
 },
 "nbformat": 4,
 "nbformat_minor": 5
}
